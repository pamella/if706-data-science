{
  "nbformat": 4,
  "nbformat_minor": 0,
  "metadata": {
    "colab": {
      "name": "the-movies-dataset-predictive-models.ipynb",
      "version": "0.3.2",
      "provenance": [],
      "collapsed_sections": [
        "e0CpNH14UtMj",
        "gm_OhWpeolHV",
        "isgs7o7IoT5A",
        "OUppbaIkQqEE",
        "0a5R1kMwjIwJ",
        "Vj-3E-JgNnAK",
        "E88hBKFdubK-",
        "5lyO6V9P2OgC",
        "3JuNfPkrOnnN",
        "rpMXEeqBwgE0",
        "SiVPcdCtBkyV",
        "A-KgZ8-oNcPS",
        "VmLgrCHAStUc"
      ]
    },
    "kernelspec": {
      "name": "python3",
      "display_name": "Python 3"
    }
  },
  "cells": [
    {
      "cell_type": "markdown",
      "metadata": {
        "id": "e0CpNH14UtMj",
        "colab_type": "text"
      },
      "source": [
        "# The Movies Dataset \n",
        "## Pamella Bezerra (pbsf2@cin.ufpe.br)\n",
        "\n",
        "## [Kaggle](https://www.kaggle.com/rounakbanik/the-movies-dataset/version/7)\n",
        "\n",
        "### [Click here](https://github.com/pamella/if706-data-science/blob/master/the_movies_dataset_preprocessing.ipynb) to see the complete Pre-Processing notebook.\n"
      ]
    },
    {
      "cell_type": "code",
      "metadata": {
        "id": "g569uDgoU_7-",
        "colab_type": "code",
        "colab": {}
      },
      "source": [
        "# Commom imports\n",
        "import numpy as np\n",
        "import pandas as pd\n",
        "import re #regex\n",
        "from numpy import log10, abs"
      ],
      "execution_count": 0,
      "outputs": []
    },
    {
      "cell_type": "code",
      "metadata": {
        "id": "616g4nCxbDgh",
        "colab_type": "code",
        "outputId": "07ed60b3-4ab5-43c6-94d6-981dce07106e",
        "colab": {
          "base_uri": "https://localhost:8080/",
          "height": 0
        }
      },
      "source": [
        "df = pd.read_csv(\"https://raw.githubusercontent.com/pamella/data-science/master/movies_metadata.csv\", encoding=\"ISO-8859-1\")\n",
        "df.head()"
      ],
      "execution_count": 89,
      "outputs": [
        {
          "output_type": "stream",
          "text": [
            "/usr/local/lib/python3.6/dist-packages/IPython/core/interactiveshell.py:2718: DtypeWarning: Columns (10) have mixed types. Specify dtype option on import or set low_memory=False.\n",
            "  interactivity=interactivity, compiler=compiler, result=result)\n"
          ],
          "name": "stderr"
        },
        {
          "output_type": "execute_result",
          "data": {
            "text/html": [
              "<div>\n",
              "<style scoped>\n",
              "    .dataframe tbody tr th:only-of-type {\n",
              "        vertical-align: middle;\n",
              "    }\n",
              "\n",
              "    .dataframe tbody tr th {\n",
              "        vertical-align: top;\n",
              "    }\n",
              "\n",
              "    .dataframe thead th {\n",
              "        text-align: right;\n",
              "    }\n",
              "</style>\n",
              "<table border=\"1\" class=\"dataframe\">\n",
              "  <thead>\n",
              "    <tr style=\"text-align: right;\">\n",
              "      <th></th>\n",
              "      <th>adult</th>\n",
              "      <th>belongs_to_collection</th>\n",
              "      <th>budget</th>\n",
              "      <th>genres</th>\n",
              "      <th>homepage</th>\n",
              "      <th>id</th>\n",
              "      <th>imdb_id</th>\n",
              "      <th>original_language</th>\n",
              "      <th>original_title</th>\n",
              "      <th>overview</th>\n",
              "      <th>popularity</th>\n",
              "      <th>poster_path</th>\n",
              "      <th>production_companies</th>\n",
              "      <th>production_countries</th>\n",
              "      <th>release_date</th>\n",
              "      <th>revenue</th>\n",
              "      <th>runtime</th>\n",
              "      <th>spoken_languages</th>\n",
              "      <th>status</th>\n",
              "      <th>tagline</th>\n",
              "      <th>title</th>\n",
              "      <th>video</th>\n",
              "      <th>vote_average</th>\n",
              "      <th>vote_count</th>\n",
              "    </tr>\n",
              "  </thead>\n",
              "  <tbody>\n",
              "    <tr>\n",
              "      <th>0</th>\n",
              "      <td>False</td>\n",
              "      <td>{'id': 10194, 'name': 'Toy Story Collection', ...</td>\n",
              "      <td>30000000</td>\n",
              "      <td>[{'id': 16, 'name': 'Animation'}, {'id': 35, '...</td>\n",
              "      <td>http://toystory.disney.com/toy-story</td>\n",
              "      <td>862</td>\n",
              "      <td>tt0114709</td>\n",
              "      <td>en</td>\n",
              "      <td>Toy Story</td>\n",
              "      <td>Led by Woody, Andy's toys live happily in his ...</td>\n",
              "      <td>21.9469</td>\n",
              "      <td>/rhIRbceoE9lR4veEXuwCC2wARtG.jpg</td>\n",
              "      <td>[{'name': 'Pixar Animation Studios', 'id': 3}]</td>\n",
              "      <td>[{'iso_3166_1': 'US', 'name': 'United States o...</td>\n",
              "      <td>1995-10-30</td>\n",
              "      <td>373554033.0</td>\n",
              "      <td>81.0</td>\n",
              "      <td>[{'iso_639_1': 'en', 'name': 'English'}]</td>\n",
              "      <td>Released</td>\n",
              "      <td>NaN</td>\n",
              "      <td>Toy Story</td>\n",
              "      <td>False</td>\n",
              "      <td>7.7</td>\n",
              "      <td>5415.0</td>\n",
              "    </tr>\n",
              "    <tr>\n",
              "      <th>1</th>\n",
              "      <td>False</td>\n",
              "      <td>NaN</td>\n",
              "      <td>65000000</td>\n",
              "      <td>[{'id': 12, 'name': 'Adventure'}, {'id': 14, '...</td>\n",
              "      <td>NaN</td>\n",
              "      <td>8844</td>\n",
              "      <td>tt0113497</td>\n",
              "      <td>en</td>\n",
              "      <td>Jumanji</td>\n",
              "      <td>When siblings Judy and Peter discover an encha...</td>\n",
              "      <td>17.0155</td>\n",
              "      <td>/vzmL6fP7aPKNKPRTFnZmiUfciyV.jpg</td>\n",
              "      <td>[{'name': 'TriStar Pictures', 'id': 559}, {'na...</td>\n",
              "      <td>[{'iso_3166_1': 'US', 'name': 'United States o...</td>\n",
              "      <td>1995-12-15</td>\n",
              "      <td>262797249.0</td>\n",
              "      <td>104.0</td>\n",
              "      <td>[{'iso_639_1': 'en', 'name': 'English'}, {'iso...</td>\n",
              "      <td>Released</td>\n",
              "      <td>Roll the dice and unleash the excitement!</td>\n",
              "      <td>Jumanji</td>\n",
              "      <td>False</td>\n",
              "      <td>6.9</td>\n",
              "      <td>2413.0</td>\n",
              "    </tr>\n",
              "    <tr>\n",
              "      <th>2</th>\n",
              "      <td>False</td>\n",
              "      <td>{'id': 119050, 'name': 'Grumpy Old Men Collect...</td>\n",
              "      <td>0</td>\n",
              "      <td>[{'id': 10749, 'name': 'Romance'}, {'id': 35, ...</td>\n",
              "      <td>NaN</td>\n",
              "      <td>15602</td>\n",
              "      <td>tt0113228</td>\n",
              "      <td>en</td>\n",
              "      <td>Grumpier Old Men</td>\n",
              "      <td>A family wedding reignites the ancient feud be...</td>\n",
              "      <td>11.7129</td>\n",
              "      <td>/6ksm1sjKMFLbO7UY2i6G1ju9SML.jpg</td>\n",
              "      <td>[{'name': 'Warner Bros.', 'id': 6194}, {'name'...</td>\n",
              "      <td>[{'iso_3166_1': 'US', 'name': 'United States o...</td>\n",
              "      <td>1995-12-22</td>\n",
              "      <td>0.0</td>\n",
              "      <td>101.0</td>\n",
              "      <td>[{'iso_639_1': 'en', 'name': 'English'}]</td>\n",
              "      <td>Released</td>\n",
              "      <td>Still Yelling. Still Fighting. Still Ready for...</td>\n",
              "      <td>Grumpier Old Men</td>\n",
              "      <td>False</td>\n",
              "      <td>6.5</td>\n",
              "      <td>92.0</td>\n",
              "    </tr>\n",
              "    <tr>\n",
              "      <th>3</th>\n",
              "      <td>False</td>\n",
              "      <td>NaN</td>\n",
              "      <td>16000000</td>\n",
              "      <td>[{'id': 35, 'name': 'Comedy'}, {'id': 18, 'nam...</td>\n",
              "      <td>NaN</td>\n",
              "      <td>31357</td>\n",
              "      <td>tt0114885</td>\n",
              "      <td>en</td>\n",
              "      <td>Waiting to Exhale</td>\n",
              "      <td>Cheated on, mistreated and stepped on, the wom...</td>\n",
              "      <td>3.85949</td>\n",
              "      <td>/16XOMpEaLWkrcPqSQqhTmeJuqQl.jpg</td>\n",
              "      <td>[{'name': 'Twentieth Century Fox Film Corporat...</td>\n",
              "      <td>[{'iso_3166_1': 'US', 'name': 'United States o...</td>\n",
              "      <td>1995-12-22</td>\n",
              "      <td>81452156.0</td>\n",
              "      <td>127.0</td>\n",
              "      <td>[{'iso_639_1': 'en', 'name': 'English'}]</td>\n",
              "      <td>Released</td>\n",
              "      <td>Friends are the people who let you be yourself...</td>\n",
              "      <td>Waiting to Exhale</td>\n",
              "      <td>False</td>\n",
              "      <td>6.1</td>\n",
              "      <td>34.0</td>\n",
              "    </tr>\n",
              "    <tr>\n",
              "      <th>4</th>\n",
              "      <td>False</td>\n",
              "      <td>{'id': 96871, 'name': 'Father of the Bride Col...</td>\n",
              "      <td>0</td>\n",
              "      <td>[{'id': 35, 'name': 'Comedy'}]</td>\n",
              "      <td>NaN</td>\n",
              "      <td>11862</td>\n",
              "      <td>tt0113041</td>\n",
              "      <td>en</td>\n",
              "      <td>Father of the Bride Part II</td>\n",
              "      <td>Just when George Banks has recovered from his ...</td>\n",
              "      <td>8.38752</td>\n",
              "      <td>/e64sOI48hQXyru7naBFyssKFxVd.jpg</td>\n",
              "      <td>[{'name': 'Sandollar Productions', 'id': 5842}...</td>\n",
              "      <td>[{'iso_3166_1': 'US', 'name': 'United States o...</td>\n",
              "      <td>1995-02-10</td>\n",
              "      <td>76578911.0</td>\n",
              "      <td>106.0</td>\n",
              "      <td>[{'iso_639_1': 'en', 'name': 'English'}]</td>\n",
              "      <td>Released</td>\n",
              "      <td>Just When His World Is Back To Normal... He's ...</td>\n",
              "      <td>Father of the Bride Part II</td>\n",
              "      <td>False</td>\n",
              "      <td>5.7</td>\n",
              "      <td>173.0</td>\n",
              "    </tr>\n",
              "  </tbody>\n",
              "</table>\n",
              "</div>"
            ],
            "text/plain": [
              "   adult  ... vote_count\n",
              "0  False  ...     5415.0\n",
              "1  False  ...     2413.0\n",
              "2  False  ...       92.0\n",
              "3  False  ...       34.0\n",
              "4  False  ...      173.0\n",
              "\n",
              "[5 rows x 24 columns]"
            ]
          },
          "metadata": {
            "tags": []
          },
          "execution_count": 89
        }
      ]
    },
    {
      "cell_type": "code",
      "metadata": {
        "id": "NbLTMz07tSD7",
        "colab_type": "code",
        "outputId": "ac4f4339-17b5-44ad-e647-f9c0340a257d",
        "colab": {
          "base_uri": "https://localhost:8080/",
          "height": 0
        }
      },
      "source": [
        "print('df shape: ', df.shape)"
      ],
      "execution_count": 90,
      "outputs": [
        {
          "output_type": "stream",
          "text": [
            "df shape:  (45466, 24)\n"
          ],
          "name": "stdout"
        }
      ]
    },
    {
      "cell_type": "markdown",
      "metadata": {
        "id": "gm_OhWpeolHV",
        "colab_type": "text"
      },
      "source": [
        "# Pre-processing data"
      ]
    },
    {
      "cell_type": "markdown",
      "metadata": {
        "id": "isgs7o7IoT5A",
        "colab_type": "text"
      },
      "source": [
        "## Set initial fields type\n",
        "(mostly category)"
      ]
    },
    {
      "cell_type": "code",
      "metadata": {
        "id": "AoJeyOueoTTS",
        "colab_type": "code",
        "outputId": "2f2a7375-3bde-41eb-e423-ca69c4f3c88e",
        "colab": {
          "base_uri": "https://localhost:8080/",
          "height": 0
        }
      },
      "source": [
        "# Pandas data types\n",
        "# https://pbpython.com/pandas_dtypes.html\n",
        "df.dtypes"
      ],
      "execution_count": 91,
      "outputs": [
        {
          "output_type": "execute_result",
          "data": {
            "text/plain": [
              "adult                     object\n",
              "belongs_to_collection     object\n",
              "budget                    object\n",
              "genres                    object\n",
              "homepage                  object\n",
              "id                        object\n",
              "imdb_id                   object\n",
              "original_language         object\n",
              "original_title            object\n",
              "overview                  object\n",
              "popularity                object\n",
              "poster_path               object\n",
              "production_companies      object\n",
              "production_countries      object\n",
              "release_date              object\n",
              "revenue                  float64\n",
              "runtime                  float64\n",
              "spoken_languages          object\n",
              "status                    object\n",
              "tagline                   object\n",
              "title                     object\n",
              "video                     object\n",
              "vote_average             float64\n",
              "vote_count               float64\n",
              "dtype: object"
            ]
          },
          "metadata": {
            "tags": []
          },
          "execution_count": 91
        }
      ]
    },
    {
      "cell_type": "code",
      "metadata": {
        "id": "946Nusmwozwq",
        "colab_type": "code",
        "colab": {}
      },
      "source": [
        "# Set columns types\n",
        "df['adult'] = df['adult'].astype('category')\n",
        "df['belongs_to_collection'] = df['belongs_to_collection'].astype('category')\n",
        "df['budget'] = df['budget'].astype('category')\n",
        "df['genres'] = df['genres'].astype('category')\n",
        "df['homepage'] = df['homepage'].astype('category')\n",
        "df['id'] = df['id'].astype('category')\n",
        "df['imdb_id'] = df['imdb_id'].astype('category')\n",
        "df['original_language'] = df['original_language'].astype('category')\n",
        "df['original_title'] = df['original_title'].astype('category')\n",
        "df['overview'] = df['overview'].astype('category')\n",
        "df['popularity'] = df['popularity'].astype('category')\n",
        "df['poster_path'] = df['poster_path'].astype('category')\n",
        "df['production_companies'] = df['production_companies'].astype('category')\n",
        "df['production_countries'] = df['production_countries'].astype('category')\n",
        "df['release_date'] = df['release_date'].astype('category')\n",
        "df['spoken_languages'] = df['spoken_languages'].astype('category')\n",
        "df['status'] = df['status'].astype('category')\n",
        "df['tagline'] = df['tagline'].astype('category')\n",
        "df['title'] = df['title'].astype('category')\n",
        "df['video'] = df['video'].astype('category')"
      ],
      "execution_count": 0,
      "outputs": []
    },
    {
      "cell_type": "code",
      "metadata": {
        "id": "s3DU24m_pUMe",
        "colab_type": "code",
        "outputId": "44c21e0b-748a-41c2-e44b-1b0efa505417",
        "colab": {
          "base_uri": "https://localhost:8080/",
          "height": 0
        }
      },
      "source": [
        "df.dtypes"
      ],
      "execution_count": 93,
      "outputs": [
        {
          "output_type": "execute_result",
          "data": {
            "text/plain": [
              "adult                    category\n",
              "belongs_to_collection    category\n",
              "budget                   category\n",
              "genres                   category\n",
              "homepage                 category\n",
              "id                       category\n",
              "imdb_id                  category\n",
              "original_language        category\n",
              "original_title           category\n",
              "overview                 category\n",
              "popularity               category\n",
              "poster_path              category\n",
              "production_companies     category\n",
              "production_countries     category\n",
              "release_date             category\n",
              "revenue                   float64\n",
              "runtime                   float64\n",
              "spoken_languages         category\n",
              "status                   category\n",
              "tagline                  category\n",
              "title                    category\n",
              "video                    category\n",
              "vote_average              float64\n",
              "vote_count                float64\n",
              "dtype: object"
            ]
          },
          "metadata": {
            "tags": []
          },
          "execution_count": 93
        }
      ]
    },
    {
      "cell_type": "markdown",
      "metadata": {
        "id": "OUppbaIkQqEE",
        "colab_type": "text"
      },
      "source": [
        "### [P.S] Evidence to future insert missing data into runtime column "
      ]
    },
    {
      "cell_type": "code",
      "metadata": {
        "colab_type": "code",
        "outputId": "985c92b4-6ec9-4e48-f51f-2521a69db180",
        "id": "JSWb_RJfQVxr",
        "colab": {
          "base_uri": "https://localhost:8080/",
          "height": 0
        }
      },
      "source": [
        "print('Runtime mean: ', df['runtime'].mean())\n",
        "print('Runtime median: ', df['runtime'].median())"
      ],
      "execution_count": 94,
      "outputs": [
        {
          "output_type": "stream",
          "text": [
            "Runtime mean:  94.12819945578833\n",
            "Runtime median:  95.0\n"
          ],
          "name": "stdout"
        }
      ]
    },
    {
      "cell_type": "markdown",
      "metadata": {
        "id": "0a5R1kMwjIwJ",
        "colab_type": "text"
      },
      "source": [
        "## Manage columns which values are a list of dictionaries\n",
        "**(using regex)**"
      ]
    },
    {
      "cell_type": "code",
      "metadata": {
        "id": "dty7qYSqnOFb",
        "colab_type": "code",
        "outputId": "f2915a2b-45b1-4e81-d86b-08d90e198995",
        "colab": {
          "base_uri": "https://localhost:8080/",
          "height": 0
        }
      },
      "source": [
        "df[['belongs_to_collection', 'genres', 'production_companies', 'production_countries', 'spoken_languages']].head()"
      ],
      "execution_count": 95,
      "outputs": [
        {
          "output_type": "execute_result",
          "data": {
            "text/html": [
              "<div>\n",
              "<style scoped>\n",
              "    .dataframe tbody tr th:only-of-type {\n",
              "        vertical-align: middle;\n",
              "    }\n",
              "\n",
              "    .dataframe tbody tr th {\n",
              "        vertical-align: top;\n",
              "    }\n",
              "\n",
              "    .dataframe thead th {\n",
              "        text-align: right;\n",
              "    }\n",
              "</style>\n",
              "<table border=\"1\" class=\"dataframe\">\n",
              "  <thead>\n",
              "    <tr style=\"text-align: right;\">\n",
              "      <th></th>\n",
              "      <th>belongs_to_collection</th>\n",
              "      <th>genres</th>\n",
              "      <th>production_companies</th>\n",
              "      <th>production_countries</th>\n",
              "      <th>spoken_languages</th>\n",
              "    </tr>\n",
              "  </thead>\n",
              "  <tbody>\n",
              "    <tr>\n",
              "      <th>0</th>\n",
              "      <td>{'id': 10194, 'name': 'Toy Story Collection', ...</td>\n",
              "      <td>[{'id': 16, 'name': 'Animation'}, {'id': 35, '...</td>\n",
              "      <td>[{'name': 'Pixar Animation Studios', 'id': 3}]</td>\n",
              "      <td>[{'iso_3166_1': 'US', 'name': 'United States o...</td>\n",
              "      <td>[{'iso_639_1': 'en', 'name': 'English'}]</td>\n",
              "    </tr>\n",
              "    <tr>\n",
              "      <th>1</th>\n",
              "      <td>NaN</td>\n",
              "      <td>[{'id': 12, 'name': 'Adventure'}, {'id': 14, '...</td>\n",
              "      <td>[{'name': 'TriStar Pictures', 'id': 559}, {'na...</td>\n",
              "      <td>[{'iso_3166_1': 'US', 'name': 'United States o...</td>\n",
              "      <td>[{'iso_639_1': 'en', 'name': 'English'}, {'iso...</td>\n",
              "    </tr>\n",
              "    <tr>\n",
              "      <th>2</th>\n",
              "      <td>{'id': 119050, 'name': 'Grumpy Old Men Collect...</td>\n",
              "      <td>[{'id': 10749, 'name': 'Romance'}, {'id': 35, ...</td>\n",
              "      <td>[{'name': 'Warner Bros.', 'id': 6194}, {'name'...</td>\n",
              "      <td>[{'iso_3166_1': 'US', 'name': 'United States o...</td>\n",
              "      <td>[{'iso_639_1': 'en', 'name': 'English'}]</td>\n",
              "    </tr>\n",
              "    <tr>\n",
              "      <th>3</th>\n",
              "      <td>NaN</td>\n",
              "      <td>[{'id': 35, 'name': 'Comedy'}, {'id': 18, 'nam...</td>\n",
              "      <td>[{'name': 'Twentieth Century Fox Film Corporat...</td>\n",
              "      <td>[{'iso_3166_1': 'US', 'name': 'United States o...</td>\n",
              "      <td>[{'iso_639_1': 'en', 'name': 'English'}]</td>\n",
              "    </tr>\n",
              "    <tr>\n",
              "      <th>4</th>\n",
              "      <td>{'id': 96871, 'name': 'Father of the Bride Col...</td>\n",
              "      <td>[{'id': 35, 'name': 'Comedy'}]</td>\n",
              "      <td>[{'name': 'Sandollar Productions', 'id': 5842}...</td>\n",
              "      <td>[{'iso_3166_1': 'US', 'name': 'United States o...</td>\n",
              "      <td>[{'iso_639_1': 'en', 'name': 'English'}]</td>\n",
              "    </tr>\n",
              "  </tbody>\n",
              "</table>\n",
              "</div>"
            ],
            "text/plain": [
              "                               belongs_to_collection  ...                                   spoken_languages\n",
              "0  {'id': 10194, 'name': 'Toy Story Collection', ...  ...           [{'iso_639_1': 'en', 'name': 'English'}]\n",
              "1                                                NaN  ...  [{'iso_639_1': 'en', 'name': 'English'}, {'iso...\n",
              "2  {'id': 119050, 'name': 'Grumpy Old Men Collect...  ...           [{'iso_639_1': 'en', 'name': 'English'}]\n",
              "3                                                NaN  ...           [{'iso_639_1': 'en', 'name': 'English'}]\n",
              "4  {'id': 96871, 'name': 'Father of the Bride Col...  ...           [{'iso_639_1': 'en', 'name': 'English'}]\n",
              "\n",
              "[5 rows x 5 columns]"
            ]
          },
          "metadata": {
            "tags": []
          },
          "execution_count": 95
        }
      ]
    },
    {
      "cell_type": "code",
      "metadata": {
        "id": "K5nANAvJtTqr",
        "colab_type": "code",
        "outputId": "366df30d-39b4-4bb5-b016-722536478901",
        "colab": {
          "base_uri": "https://localhost:8080/",
          "height": 0
        }
      },
      "source": [
        "# examples of regex to get the chosen pattern\n",
        "print ('BELONGS TO COLLECTION')\n",
        "belongs_to_collection = df['belongs_to_collection'][0]\n",
        "print('Row: ', belongs_to_collection)\n",
        "pattern = re.search(r\"'name':\\ '([^']*)'\", belongs_to_collection).group(1)\n",
        "print('Pattern: ', pattern, '\\n')\n",
        "\n",
        "\n",
        "print ('GENRE')\n",
        "genres = df['genres'][0]\n",
        "print('Row: ', genres)\n",
        "pattern = re.search(r\"'name':\\ '([^']*)'\", genres).group(1)\n",
        "print('Pattern: ', pattern, '\\n')\n",
        "\n",
        "\n",
        "print ('PRODUCTION COMPANIE')\n",
        "production_companies = df['production_companies'][0]\n",
        "print('Row: ', production_companies)\n",
        "pattern = re.search(r\"'name':\\ '([^']*)'\", production_companies).group(1)\n",
        "print('Pattern: ', pattern, '\\n')\n",
        "\n",
        "\n",
        "print ('PRODUCTION COUNTRY')\n",
        "production_countries = df['production_countries'][0]\n",
        "print('Row: ', production_countries)\n",
        "pattern = re.search(r\"'name':\\ '([^']*)'\", production_countries).group(1)\n",
        "print('Pattern: ', pattern, '\\n')\n",
        "\n",
        "\n",
        "print ('SPOKEN LANGUAGE')\n",
        "spoken_languages = df['spoken_languages'][0]\n",
        "print('Row: ', spoken_languages)\n",
        "pattern = re.search(r\"'name':\\ '([^']*)'\", spoken_languages).group(1)\n",
        "print('Pattern: ', pattern, '\\n')"
      ],
      "execution_count": 96,
      "outputs": [
        {
          "output_type": "stream",
          "text": [
            "BELONGS TO COLLECTION\n",
            "Row:  {'id': 10194, 'name': 'Toy Story Collection', 'poster_path': '/7G9915LfUQ2lVfwMEEhDsn3kT4B.jpg', 'backdrop_path': '/9FBwqcd9IRruEDUrTdcaafOMKUq.jpg'}\n",
            "Pattern:  Toy Story Collection \n",
            "\n",
            "GENRE\n",
            "Row:  [{'id': 16, 'name': 'Animation'}, {'id': 35, 'name': 'Comedy'}, {'id': 10751, 'name': 'Family'}]\n",
            "Pattern:  Animation \n",
            "\n",
            "PRODUCTION COMPANIE\n",
            "Row:  [{'name': 'Pixar Animation Studios', 'id': 3}]\n",
            "Pattern:  Pixar Animation Studios \n",
            "\n",
            "PRODUCTION COUNTRY\n",
            "Row:  [{'iso_3166_1': 'US', 'name': 'United States of America'}]\n",
            "Pattern:  United States of America \n",
            "\n",
            "SPOKEN LANGUAGE\n",
            "Row:  [{'iso_639_1': 'en', 'name': 'English'}]\n",
            "Pattern:  English \n",
            "\n"
          ],
          "name": "stdout"
        }
      ]
    },
    {
      "cell_type": "code",
      "metadata": {
        "id": "7ycvuFEkNJll",
        "colab_type": "code",
        "colab": {}
      },
      "source": [
        "# Replace a list of dictionary with one category string\n",
        "df['belongs_to_collection'] = df['belongs_to_collection'].str.extract(r\"'name':\\ '([^']*)'\", expand=False)\n",
        "df['genres'] = df['genres'].str.extract(r\":\\ '([^']*)'\", expand=False)\n",
        "df['production_companies'] = df['production_companies'].str.extract(r\"'name':\\ '([^']*)'\", expand=False)\n",
        "df['production_countries'] = df['production_countries'].str.extract(r\"'name':\\ '([^']*)'\", expand=False)\n",
        "df['spoken_languages'] = df['spoken_languages'].str.extract(r\"'name':\\ '([^']*)'\", expand=False)\n"
      ],
      "execution_count": 0,
      "outputs": []
    },
    {
      "cell_type": "code",
      "metadata": {
        "id": "x8esUq6tWRTt",
        "colab_type": "code",
        "outputId": "189442f0-8d05-4c98-a461-783fe9a2f291",
        "colab": {
          "base_uri": "https://localhost:8080/",
          "height": 0
        }
      },
      "source": [
        "df[['belongs_to_collection', 'genres', 'production_companies', 'production_countries', 'spoken_languages']].head()"
      ],
      "execution_count": 98,
      "outputs": [
        {
          "output_type": "execute_result",
          "data": {
            "text/html": [
              "<div>\n",
              "<style scoped>\n",
              "    .dataframe tbody tr th:only-of-type {\n",
              "        vertical-align: middle;\n",
              "    }\n",
              "\n",
              "    .dataframe tbody tr th {\n",
              "        vertical-align: top;\n",
              "    }\n",
              "\n",
              "    .dataframe thead th {\n",
              "        text-align: right;\n",
              "    }\n",
              "</style>\n",
              "<table border=\"1\" class=\"dataframe\">\n",
              "  <thead>\n",
              "    <tr style=\"text-align: right;\">\n",
              "      <th></th>\n",
              "      <th>belongs_to_collection</th>\n",
              "      <th>genres</th>\n",
              "      <th>production_companies</th>\n",
              "      <th>production_countries</th>\n",
              "      <th>spoken_languages</th>\n",
              "    </tr>\n",
              "  </thead>\n",
              "  <tbody>\n",
              "    <tr>\n",
              "      <th>0</th>\n",
              "      <td>Toy Story Collection</td>\n",
              "      <td>Animation</td>\n",
              "      <td>Pixar Animation Studios</td>\n",
              "      <td>United States of America</td>\n",
              "      <td>English</td>\n",
              "    </tr>\n",
              "    <tr>\n",
              "      <th>1</th>\n",
              "      <td>NaN</td>\n",
              "      <td>Adventure</td>\n",
              "      <td>TriStar Pictures</td>\n",
              "      <td>United States of America</td>\n",
              "      <td>English</td>\n",
              "    </tr>\n",
              "    <tr>\n",
              "      <th>2</th>\n",
              "      <td>Grumpy Old Men Collection</td>\n",
              "      <td>Romance</td>\n",
              "      <td>Warner Bros.</td>\n",
              "      <td>United States of America</td>\n",
              "      <td>English</td>\n",
              "    </tr>\n",
              "    <tr>\n",
              "      <th>3</th>\n",
              "      <td>NaN</td>\n",
              "      <td>Comedy</td>\n",
              "      <td>Twentieth Century Fox Film Corporation</td>\n",
              "      <td>United States of America</td>\n",
              "      <td>English</td>\n",
              "    </tr>\n",
              "    <tr>\n",
              "      <th>4</th>\n",
              "      <td>Father of the Bride Collection</td>\n",
              "      <td>Comedy</td>\n",
              "      <td>Sandollar Productions</td>\n",
              "      <td>United States of America</td>\n",
              "      <td>English</td>\n",
              "    </tr>\n",
              "  </tbody>\n",
              "</table>\n",
              "</div>"
            ],
            "text/plain": [
              "            belongs_to_collection  ... spoken_languages\n",
              "0            Toy Story Collection  ...          English\n",
              "1                             NaN  ...          English\n",
              "2       Grumpy Old Men Collection  ...          English\n",
              "3                             NaN  ...          English\n",
              "4  Father of the Bride Collection  ...          English\n",
              "\n",
              "[5 rows x 5 columns]"
            ]
          },
          "metadata": {
            "tags": []
          },
          "execution_count": 98
        }
      ]
    },
    {
      "cell_type": "markdown",
      "metadata": {
        "id": "Vj-3E-JgNnAK",
        "colab_type": "text"
      },
      "source": [
        "## Manage bool column"
      ]
    },
    {
      "cell_type": "code",
      "metadata": {
        "id": "6mvC35y7NrXu",
        "colab_type": "code",
        "outputId": "5271ba2b-3471-45be-e39e-8d92726d394f",
        "colab": {
          "base_uri": "https://localhost:8080/",
          "height": 0
        }
      },
      "source": [
        "df.dtypes"
      ],
      "execution_count": 99,
      "outputs": [
        {
          "output_type": "execute_result",
          "data": {
            "text/plain": [
              "adult                    category\n",
              "belongs_to_collection      object\n",
              "budget                   category\n",
              "genres                     object\n",
              "homepage                 category\n",
              "id                       category\n",
              "imdb_id                  category\n",
              "original_language        category\n",
              "original_title           category\n",
              "overview                 category\n",
              "popularity               category\n",
              "poster_path              category\n",
              "production_companies       object\n",
              "production_countries       object\n",
              "release_date             category\n",
              "revenue                   float64\n",
              "runtime                   float64\n",
              "spoken_languages           object\n",
              "status                   category\n",
              "tagline                  category\n",
              "title                    category\n",
              "video                    category\n",
              "vote_average              float64\n",
              "vote_count                float64\n",
              "dtype: object"
            ]
          },
          "metadata": {
            "tags": []
          },
          "execution_count": 99
        }
      ]
    },
    {
      "cell_type": "code",
      "metadata": {
        "id": "0xTGKSHXNpZ5",
        "colab_type": "code",
        "outputId": "46e0d674-36f3-440a-a766-33e3e10c348c",
        "colab": {
          "base_uri": "https://localhost:8080/",
          "height": 0
        }
      },
      "source": [
        "print('adult values: ', list(df['adult'].unique()))"
      ],
      "execution_count": 100,
      "outputs": [
        {
          "output_type": "stream",
          "text": [
            "adult values:  ['False', 'True', ' - Written by Ã\\x98rnÃ¥s', ' Rune Balot goes to a casino connected to the October corporation to try to wrap up her case once and for all.', ' Avalanche Sharks tells the story of a bikini contest that turns into a horrifying affair when it is hit by a shark avalanche.']\n"
          ],
          "name": "stdout"
        }
      ]
    },
    {
      "cell_type": "code",
      "metadata": {
        "id": "kvZOK_ECNw_t",
        "colab_type": "code",
        "colab": {}
      },
      "source": [
        "# Replace string to bool\n",
        "df['adult'].replace('True', True, inplace=True)\n",
        "df['adult'].replace('False', False, inplace=True)\n",
        "df['adult'].replace(' - Written by Ã\\x98rnÃ¥s', False, inplace=True)\n",
        "df['adult'].replace(' Rune Balot goes to a casino connected to the October corporation to try to wrap up her case once and for all.', False, inplace=True)\n",
        "df['adult'].replace(' Avalanche Sharks tells the story of a bikini contest that turns into a horrifying affair when it is hit by a shark avalanche.', False, inplace=True)"
      ],
      "execution_count": 0,
      "outputs": []
    },
    {
      "cell_type": "code",
      "metadata": {
        "id": "55BUyxEWO7pZ",
        "colab_type": "code",
        "outputId": "a21d8b50-9f88-4203-c027-1932f975b950",
        "colab": {
          "base_uri": "https://localhost:8080/",
          "height": 0
        }
      },
      "source": [
        "print('adult values: ', list(df['adult'].unique()))"
      ],
      "execution_count": 102,
      "outputs": [
        {
          "output_type": "stream",
          "text": [
            "adult values:  [False, True]\n"
          ],
          "name": "stdout"
        }
      ]
    },
    {
      "cell_type": "markdown",
      "metadata": {
        "id": "E88hBKFdubK-",
        "colab_type": "text"
      },
      "source": [
        "## Remove almost empty columns and almost empty rows"
      ]
    },
    {
      "cell_type": "code",
      "metadata": {
        "id": "mo5NR7MMudqF",
        "colab_type": "code",
        "outputId": "882f212d-fe35-49c0-811e-3422d7312349",
        "colab": {
          "base_uri": "https://localhost:8080/",
          "height": 0
        }
      },
      "source": [
        "df.shape"
      ],
      "execution_count": 103,
      "outputs": [
        {
          "output_type": "execute_result",
          "data": {
            "text/plain": [
              "(45466, 24)"
            ]
          },
          "metadata": {
            "tags": []
          },
          "execution_count": 103
        }
      ]
    },
    {
      "cell_type": "code",
      "metadata": {
        "id": "xT0SoMEOugrt",
        "colab_type": "code",
        "outputId": "b61dcfc7-f079-4ddd-8b05-8d1e530d89ad",
        "colab": {
          "base_uri": "https://localhost:8080/",
          "height": 0
        }
      },
      "source": [
        "print(df.isnull().sum())"
      ],
      "execution_count": 104,
      "outputs": [
        {
          "output_type": "stream",
          "text": [
            "adult                        0\n",
            "belongs_to_collection    41082\n",
            "budget                       0\n",
            "genres                    2442\n",
            "homepage                 37684\n",
            "id                           0\n",
            "imdb_id                     17\n",
            "original_language           11\n",
            "original_title               0\n",
            "overview                   954\n",
            "popularity                   5\n",
            "poster_path                386\n",
            "production_companies     11939\n",
            "production_countries      6289\n",
            "release_date                87\n",
            "revenue                      6\n",
            "runtime                    263\n",
            "spoken_languages          3835\n",
            "status                      87\n",
            "tagline                  25054\n",
            "title                        6\n",
            "video                        6\n",
            "vote_average                 6\n",
            "vote_count                   6\n",
            "dtype: int64\n"
          ],
          "name": "stdout"
        }
      ]
    },
    {
      "cell_type": "code",
      "metadata": {
        "id": "S3275ByAum8T",
        "colab_type": "code",
        "colab": {}
      },
      "source": [
        "# Remove columns with less than 70% missing data\n",
        "df = df.dropna(thresh=0.7*len(df), axis=1)\n",
        "\n",
        "# Remove instances with less than 70% missing data\n",
        "df = df.dropna(thresh=0.7*len(df.columns), axis=0)"
      ],
      "execution_count": 0,
      "outputs": []
    },
    {
      "cell_type": "code",
      "metadata": {
        "id": "6xDlZfWtxrCZ",
        "colab_type": "code",
        "outputId": "601a9056-dd0f-4beb-f879-f976b8005279",
        "colab": {
          "base_uri": "https://localhost:8080/",
          "height": 0
        }
      },
      "source": [
        "print('shape', df.shape)\n",
        "print('\\n')\n",
        "print(df.isnull().sum())"
      ],
      "execution_count": 106,
      "outputs": [
        {
          "output_type": "stream",
          "text": [
            "shape (45442, 21)\n",
            "\n",
            "\n",
            "adult                       0\n",
            "budget                      0\n",
            "genres                   2425\n",
            "id                          0\n",
            "imdb_id                    16\n",
            "original_language          11\n",
            "original_title              0\n",
            "overview                  937\n",
            "popularity                  0\n",
            "poster_path               371\n",
            "production_companies    11915\n",
            "production_countries     6265\n",
            "release_date               74\n",
            "revenue                     0\n",
            "runtime                   241\n",
            "spoken_languages         3811\n",
            "status                     77\n",
            "title                       0\n",
            "video                       0\n",
            "vote_average                0\n",
            "vote_count                  0\n",
            "dtype: int64\n"
          ],
          "name": "stdout"
        }
      ]
    },
    {
      "cell_type": "markdown",
      "metadata": {
        "id": "5lyO6V9P2OgC",
        "colab_type": "text"
      },
      "source": [
        "## Remove unused columns during analysis"
      ]
    },
    {
      "cell_type": "code",
      "metadata": {
        "id": "bpontRyS7wCG",
        "colab_type": "code",
        "outputId": "ffcc25ec-91a4-4706-98e9-685b74bcbe99",
        "colab": {
          "base_uri": "https://localhost:8080/",
          "height": 0
        }
      },
      "source": [
        "print('columns: ', list(df.columns))\n",
        "print('len: ', len(df.columns))"
      ],
      "execution_count": 107,
      "outputs": [
        {
          "output_type": "stream",
          "text": [
            "columns:  ['adult', 'budget', 'genres', 'id', 'imdb_id', 'original_language', 'original_title', 'overview', 'popularity', 'poster_path', 'production_companies', 'production_countries', 'release_date', 'revenue', 'runtime', 'spoken_languages', 'status', 'title', 'video', 'vote_average', 'vote_count']\n",
            "len:  21\n"
          ],
          "name": "stdout"
        }
      ]
    },
    {
      "cell_type": "code",
      "metadata": {
        "id": "G6DetxGhXhTd",
        "colab_type": "code",
        "outputId": "b5034290-2df7-49ad-9f32-7eacc68bee64",
        "colab": {
          "base_uri": "https://localhost:8080/",
          "height": 0
        }
      },
      "source": [
        "# overview: text for movie synopsis\n",
        "# poster_path: relative path for movie poster image\n",
        "# video: boolean\n",
        "\n",
        "df[['overview', 'poster_path', 'video']].head()"
      ],
      "execution_count": 108,
      "outputs": [
        {
          "output_type": "execute_result",
          "data": {
            "text/html": [
              "<div>\n",
              "<style scoped>\n",
              "    .dataframe tbody tr th:only-of-type {\n",
              "        vertical-align: middle;\n",
              "    }\n",
              "\n",
              "    .dataframe tbody tr th {\n",
              "        vertical-align: top;\n",
              "    }\n",
              "\n",
              "    .dataframe thead th {\n",
              "        text-align: right;\n",
              "    }\n",
              "</style>\n",
              "<table border=\"1\" class=\"dataframe\">\n",
              "  <thead>\n",
              "    <tr style=\"text-align: right;\">\n",
              "      <th></th>\n",
              "      <th>overview</th>\n",
              "      <th>poster_path</th>\n",
              "      <th>video</th>\n",
              "    </tr>\n",
              "  </thead>\n",
              "  <tbody>\n",
              "    <tr>\n",
              "      <th>0</th>\n",
              "      <td>Led by Woody, Andy's toys live happily in his ...</td>\n",
              "      <td>/rhIRbceoE9lR4veEXuwCC2wARtG.jpg</td>\n",
              "      <td>False</td>\n",
              "    </tr>\n",
              "    <tr>\n",
              "      <th>1</th>\n",
              "      <td>When siblings Judy and Peter discover an encha...</td>\n",
              "      <td>/vzmL6fP7aPKNKPRTFnZmiUfciyV.jpg</td>\n",
              "      <td>False</td>\n",
              "    </tr>\n",
              "    <tr>\n",
              "      <th>2</th>\n",
              "      <td>A family wedding reignites the ancient feud be...</td>\n",
              "      <td>/6ksm1sjKMFLbO7UY2i6G1ju9SML.jpg</td>\n",
              "      <td>False</td>\n",
              "    </tr>\n",
              "    <tr>\n",
              "      <th>3</th>\n",
              "      <td>Cheated on, mistreated and stepped on, the wom...</td>\n",
              "      <td>/16XOMpEaLWkrcPqSQqhTmeJuqQl.jpg</td>\n",
              "      <td>False</td>\n",
              "    </tr>\n",
              "    <tr>\n",
              "      <th>4</th>\n",
              "      <td>Just when George Banks has recovered from his ...</td>\n",
              "      <td>/e64sOI48hQXyru7naBFyssKFxVd.jpg</td>\n",
              "      <td>False</td>\n",
              "    </tr>\n",
              "  </tbody>\n",
              "</table>\n",
              "</div>"
            ],
            "text/plain": [
              "                                            overview  ...  video\n",
              "0  Led by Woody, Andy's toys live happily in his ...  ...  False\n",
              "1  When siblings Judy and Peter discover an encha...  ...  False\n",
              "2  A family wedding reignites the ancient feud be...  ...  False\n",
              "3  Cheated on, mistreated and stepped on, the wom...  ...  False\n",
              "4  Just when George Banks has recovered from his ...  ...  False\n",
              "\n",
              "[5 rows x 3 columns]"
            ]
          },
          "metadata": {
            "tags": []
          },
          "execution_count": 108
        }
      ]
    },
    {
      "cell_type": "code",
      "metadata": {
        "id": "WPalDozwXguT",
        "colab_type": "code",
        "outputId": "57a23940-bfe9-4581-de23-42d02bf91f71",
        "colab": {
          "base_uri": "https://localhost:8080/",
          "height": 0
        }
      },
      "source": [
        "df = df.drop(['overview', 'poster_path', 'video'], axis=1)\n",
        "print('columns: ', list(df.columns))\n",
        "print('len: ', len(df.columns))"
      ],
      "execution_count": 109,
      "outputs": [
        {
          "output_type": "stream",
          "text": [
            "columns:  ['adult', 'budget', 'genres', 'id', 'imdb_id', 'original_language', 'original_title', 'popularity', 'production_companies', 'production_countries', 'release_date', 'revenue', 'runtime', 'spoken_languages', 'status', 'title', 'vote_average', 'vote_count']\n",
            "len:  18\n"
          ],
          "name": "stdout"
        }
      ]
    },
    {
      "cell_type": "markdown",
      "metadata": {
        "id": "3JuNfPkrOnnN",
        "colab_type": "text"
      },
      "source": [
        "## Inserting missing data into 'runtime' (float) column"
      ]
    },
    {
      "cell_type": "code",
      "metadata": {
        "id": "qOTTzaY7O1jd",
        "colab_type": "code",
        "outputId": "e3adcf4a-0f82-44a9-fcb4-ddf5cc11164d",
        "colab": {
          "base_uri": "https://localhost:8080/",
          "height": 0
        }
      },
      "source": [
        "print(df.isnull().sum())"
      ],
      "execution_count": 110,
      "outputs": [
        {
          "output_type": "stream",
          "text": [
            "adult                       0\n",
            "budget                      0\n",
            "genres                   2425\n",
            "id                          0\n",
            "imdb_id                    16\n",
            "original_language          11\n",
            "original_title              0\n",
            "popularity                  0\n",
            "production_companies    11915\n",
            "production_countries     6265\n",
            "release_date               74\n",
            "revenue                     0\n",
            "runtime                   241\n",
            "spoken_languages         3811\n",
            "status                     77\n",
            "title                       0\n",
            "vote_average                0\n",
            "vote_count                  0\n",
            "dtype: int64\n"
          ],
          "name": "stdout"
        }
      ]
    },
    {
      "cell_type": "code",
      "metadata": {
        "id": "R0JiYthuO4jL",
        "colab_type": "code",
        "outputId": "0d499e25-899b-4430-c695-b866d55c1caf",
        "colab": {
          "base_uri": "https://localhost:8080/",
          "height": 0
        }
      },
      "source": [
        "print('Runtime mean: ', df['runtime'].mean())\n",
        "print('Runtime median: ', df['runtime'].median())"
      ],
      "execution_count": 111,
      "outputs": [
        {
          "output_type": "stream",
          "text": [
            "Runtime mean:  94.13236432822282\n",
            "Runtime median:  95.0\n"
          ],
          "name": "stdout"
        }
      ]
    },
    {
      "cell_type": "code",
      "metadata": {
        "id": "fCCmgLadPbsf",
        "colab_type": "code",
        "colab": {}
      },
      "source": [
        "# Insert median in the runtime's missing data\n",
        "df['runtime'].fillna(df['runtime'].median(), inplace=True)"
      ],
      "execution_count": 0,
      "outputs": []
    },
    {
      "cell_type": "code",
      "metadata": {
        "id": "p4YjSMUgPyZU",
        "colab_type": "code",
        "outputId": "e78a0529-419d-4bf8-b178-8af34da168d1",
        "colab": {
          "base_uri": "https://localhost:8080/",
          "height": 0
        }
      },
      "source": [
        "# print(df.isnull().sum())\n",
        "print('null runtime instances: ', df['runtime'].isnull().sum())"
      ],
      "execution_count": 113,
      "outputs": [
        {
          "output_type": "stream",
          "text": [
            "null runtime instances:  0\n"
          ],
          "name": "stdout"
        }
      ]
    },
    {
      "cell_type": "code",
      "metadata": {
        "id": "X1qHPav5gKrt",
        "colab_type": "code",
        "outputId": "9e6f186d-f1cb-4c03-d274-4824918d1d60",
        "colab": {
          "base_uri": "https://localhost:8080/",
          "height": 0
        }
      },
      "source": [
        "print('runtime zero: ', len(df[df['runtime'] == 0]))\n",
        "\n",
        "# Insert median when runtime instance is zero\n",
        "df.loc[df['runtime'] == 0, 'runtime'] = df['runtime'].median()\n",
        "\n",
        "print('new runtime zero: ', len(df[df['runtime'] == 0]))"
      ],
      "execution_count": 114,
      "outputs": [
        {
          "output_type": "stream",
          "text": [
            "runtime zero:  1556\n",
            "new runtime zero:  0\n"
          ],
          "name": "stdout"
        }
      ]
    },
    {
      "cell_type": "code",
      "metadata": {
        "id": "7m_qwyuliQOX",
        "colab_type": "code",
        "outputId": "28f9eda3-e8be-40be-867a-868ee709ca49",
        "colab": {
          "base_uri": "https://localhost:8080/",
          "height": 0
        }
      },
      "source": [
        "# Here we can see another 'strange' pattern such min value, but this is going to be treated later\n",
        "df['runtime'].describe()"
      ],
      "execution_count": 115,
      "outputs": [
        {
          "output_type": "execute_result",
          "data": {
            "text/plain": [
              "count    45442.000000\n",
              "mean        97.389904\n",
              "std         33.956036\n",
              "min          1.000000\n",
              "25%         87.000000\n",
              "50%         95.000000\n",
              "75%        107.000000\n",
              "max       1256.000000\n",
              "Name: runtime, dtype: float64"
            ]
          },
          "metadata": {
            "tags": []
          },
          "execution_count": 115
        }
      ]
    },
    {
      "cell_type": "markdown",
      "metadata": {
        "id": "rpMXEeqBwgE0",
        "colab_type": "text"
      },
      "source": [
        "## Remove instances with missing data --> df2"
      ]
    },
    {
      "cell_type": "code",
      "metadata": {
        "id": "AuT0HEKawmJ4",
        "colab_type": "code",
        "outputId": "a769b558-6608-4c56-d006-5c1badd82ada",
        "colab": {
          "base_uri": "https://localhost:8080/",
          "height": 0
        }
      },
      "source": [
        "# current df info\n",
        "print('len: ', len(df))\n",
        "print('\\n')\n",
        "print(df.isnull().sum())"
      ],
      "execution_count": 116,
      "outputs": [
        {
          "output_type": "stream",
          "text": [
            "len:  45442\n",
            "\n",
            "\n",
            "adult                       0\n",
            "budget                      0\n",
            "genres                   2425\n",
            "id                          0\n",
            "imdb_id                    16\n",
            "original_language          11\n",
            "original_title              0\n",
            "popularity                  0\n",
            "production_companies    11915\n",
            "production_countries     6265\n",
            "release_date               74\n",
            "revenue                     0\n",
            "runtime                     0\n",
            "spoken_languages         3811\n",
            "status                     77\n",
            "title                       0\n",
            "vote_average                0\n",
            "vote_count                  0\n",
            "dtype: int64\n"
          ],
          "name": "stdout"
        }
      ]
    },
    {
      "cell_type": "code",
      "metadata": {
        "id": "mOi_K8_-wuab",
        "colab_type": "code",
        "colab": {}
      },
      "source": [
        "# Create a devirate dataframe without instances with missing data --> df2\n",
        "df2 = df.copy()\n",
        "df2 = df2.dropna()"
      ],
      "execution_count": 0,
      "outputs": []
    },
    {
      "cell_type": "code",
      "metadata": {
        "id": "aHBrK-ubt70J",
        "colab_type": "code",
        "outputId": "a468698c-bdd5-41d2-f31c-c2fb549aedc4",
        "colab": {
          "base_uri": "https://localhost:8080/",
          "height": 0
        }
      },
      "source": [
        "# New dataframe, df2, info\n",
        "print('len: ', len(df2))\n",
        "print('\\n')\n",
        "print(df2.isnull().sum())"
      ],
      "execution_count": 118,
      "outputs": [
        {
          "output_type": "stream",
          "text": [
            "len:  32015\n",
            "\n",
            "\n",
            "adult                   0\n",
            "budget                  0\n",
            "genres                  0\n",
            "id                      0\n",
            "imdb_id                 0\n",
            "original_language       0\n",
            "original_title          0\n",
            "popularity              0\n",
            "production_companies    0\n",
            "production_countries    0\n",
            "release_date            0\n",
            "revenue                 0\n",
            "runtime                 0\n",
            "spoken_languages        0\n",
            "status                  0\n",
            "title                   0\n",
            "vote_average            0\n",
            "vote_count              0\n",
            "dtype: int64\n"
          ],
          "name": "stdout"
        }
      ]
    },
    {
      "cell_type": "code",
      "metadata": {
        "id": "-Hb5fyEIMKRN",
        "colab_type": "code",
        "colab": {}
      },
      "source": [
        ""
      ],
      "execution_count": 0,
      "outputs": []
    },
    {
      "cell_type": "markdown",
      "metadata": {
        "id": "SiVPcdCtBkyV",
        "colab_type": "text"
      },
      "source": [
        "## Update fields type\n"
      ]
    },
    {
      "cell_type": "code",
      "metadata": {
        "id": "7m_p_qrphkiQ",
        "colab_type": "code",
        "outputId": "a3e20694-c222-413d-81d6-5e6bc24bd200",
        "colab": {
          "base_uri": "https://localhost:8080/",
          "height": 0
        }
      },
      "source": [
        "df2.dtypes"
      ],
      "execution_count": 119,
      "outputs": [
        {
          "output_type": "execute_result",
          "data": {
            "text/plain": [
              "adult                       bool\n",
              "budget                  category\n",
              "genres                    object\n",
              "id                      category\n",
              "imdb_id                 category\n",
              "original_language       category\n",
              "original_title          category\n",
              "popularity              category\n",
              "production_companies      object\n",
              "production_countries      object\n",
              "release_date            category\n",
              "revenue                  float64\n",
              "runtime                  float64\n",
              "spoken_languages          object\n",
              "status                  category\n",
              "title                   category\n",
              "vote_average             float64\n",
              "vote_count               float64\n",
              "dtype: object"
            ]
          },
          "metadata": {
            "tags": []
          },
          "execution_count": 119
        }
      ]
    },
    {
      "cell_type": "code",
      "metadata": {
        "id": "y9vbj16XBoli",
        "colab_type": "code",
        "colab": {}
      },
      "source": [
        "# Update columns types\n",
        "df2['genres'] = df2['genres'].astype('category')\n",
        "df2['production_companies'] = df2['production_companies'].astype('category')\n",
        "df2['production_countries'] = df2['production_countries'].astype('category')\n",
        "df2['spoken_languages'] = df2['spoken_languages'].astype('category')\n",
        "df2['budget'] = df2['budget'].astype('float64')\n",
        "df2['id'] = df2['id'].astype('int64')\n",
        "df2['popularity'] = df2['popularity'].astype('float64')\n",
        "df2['release_date'] = df2['release_date'].astype('datetime64')"
      ],
      "execution_count": 0,
      "outputs": []
    },
    {
      "cell_type": "code",
      "metadata": {
        "id": "jzxY7ItoBs71",
        "colab_type": "code",
        "outputId": "c16dacb2-3a68-4285-f678-55427385b665",
        "colab": {
          "base_uri": "https://localhost:8080/",
          "height": 0
        }
      },
      "source": [
        "# After updating\n",
        "df2.dtypes"
      ],
      "execution_count": 121,
      "outputs": [
        {
          "output_type": "execute_result",
          "data": {
            "text/plain": [
              "adult                             bool\n",
              "budget                         float64\n",
              "genres                        category\n",
              "id                               int64\n",
              "imdb_id                       category\n",
              "original_language             category\n",
              "original_title                category\n",
              "popularity                     float64\n",
              "production_companies          category\n",
              "production_countries          category\n",
              "release_date            datetime64[ns]\n",
              "revenue                        float64\n",
              "runtime                        float64\n",
              "spoken_languages              category\n",
              "status                        category\n",
              "title                         category\n",
              "vote_average                   float64\n",
              "vote_count                     float64\n",
              "dtype: object"
            ]
          },
          "metadata": {
            "tags": []
          },
          "execution_count": 121
        }
      ]
    },
    {
      "cell_type": "markdown",
      "metadata": {
        "id": "A-KgZ8-oNcPS",
        "colab_type": "text"
      },
      "source": [
        "## Remove duplicated instances"
      ]
    },
    {
      "cell_type": "code",
      "metadata": {
        "id": "_XwbBXBUNgbP",
        "colab_type": "code",
        "outputId": "ae0271cd-0801-43ee-d706-f42744610eb6",
        "colab": {
          "base_uri": "https://localhost:8080/",
          "height": 0
        }
      },
      "source": [
        "# Show duplicated instances\n",
        "df2[df2.duplicated()].sort_values('original_title')"
      ],
      "execution_count": 122,
      "outputs": [
        {
          "output_type": "execute_result",
          "data": {
            "text/html": [
              "<div>\n",
              "<style scoped>\n",
              "    .dataframe tbody tr th:only-of-type {\n",
              "        vertical-align: middle;\n",
              "    }\n",
              "\n",
              "    .dataframe tbody tr th {\n",
              "        vertical-align: top;\n",
              "    }\n",
              "\n",
              "    .dataframe thead th {\n",
              "        text-align: right;\n",
              "    }\n",
              "</style>\n",
              "<table border=\"1\" class=\"dataframe\">\n",
              "  <thead>\n",
              "    <tr style=\"text-align: right;\">\n",
              "      <th></th>\n",
              "      <th>adult</th>\n",
              "      <th>budget</th>\n",
              "      <th>genres</th>\n",
              "      <th>id</th>\n",
              "      <th>imdb_id</th>\n",
              "      <th>original_language</th>\n",
              "      <th>original_title</th>\n",
              "      <th>popularity</th>\n",
              "      <th>production_companies</th>\n",
              "      <th>production_countries</th>\n",
              "      <th>release_date</th>\n",
              "      <th>revenue</th>\n",
              "      <th>runtime</th>\n",
              "      <th>spoken_languages</th>\n",
              "      <th>status</th>\n",
              "      <th>title</th>\n",
              "      <th>vote_average</th>\n",
              "      <th>vote_count</th>\n",
              "    </tr>\n",
              "  </thead>\n",
              "  <tbody>\n",
              "    <tr>\n",
              "      <th>13375</th>\n",
              "      <td>False</td>\n",
              "      <td>0.0</td>\n",
              "      <td>Thriller</td>\n",
              "      <td>141971</td>\n",
              "      <td>tt1180333</td>\n",
              "      <td>fi</td>\n",
              "      <td>Blackout</td>\n",
              "      <td>0.411949</td>\n",
              "      <td>Filmiteollisuus Fine</td>\n",
              "      <td>Finland</td>\n",
              "      <td>2008-12-26</td>\n",
              "      <td>0.0</td>\n",
              "      <td>108.0</td>\n",
              "      <td>suomi</td>\n",
              "      <td>Released</td>\n",
              "      <td>Blackout</td>\n",
              "      <td>6.7</td>\n",
              "      <td>3.0</td>\n",
              "    </tr>\n",
              "    <tr>\n",
              "      <th>16764</th>\n",
              "      <td>False</td>\n",
              "      <td>0.0</td>\n",
              "      <td>Thriller</td>\n",
              "      <td>141971</td>\n",
              "      <td>tt1180333</td>\n",
              "      <td>fi</td>\n",
              "      <td>Blackout</td>\n",
              "      <td>0.411949</td>\n",
              "      <td>Filmiteollisuus Fine</td>\n",
              "      <td>Finland</td>\n",
              "      <td>2008-12-26</td>\n",
              "      <td>0.0</td>\n",
              "      <td>108.0</td>\n",
              "      <td>suomi</td>\n",
              "      <td>Released</td>\n",
              "      <td>Blackout</td>\n",
              "      <td>6.7</td>\n",
              "      <td>3.0</td>\n",
              "    </tr>\n",
              "    <tr>\n",
              "      <th>1465</th>\n",
              "      <td>False</td>\n",
              "      <td>0.0</td>\n",
              "      <td>Drama</td>\n",
              "      <td>105045</td>\n",
              "      <td>tt0111613</td>\n",
              "      <td>de</td>\n",
              "      <td>Das Versprechen</td>\n",
              "      <td>0.122178</td>\n",
              "      <td>Studio Babelsberg</td>\n",
              "      <td>Germany</td>\n",
              "      <td>1995-02-16</td>\n",
              "      <td>0.0</td>\n",
              "      <td>115.0</td>\n",
              "      <td>Deutsch</td>\n",
              "      <td>Released</td>\n",
              "      <td>The Promise</td>\n",
              "      <td>5.0</td>\n",
              "      <td>1.0</td>\n",
              "    </tr>\n",
              "    <tr>\n",
              "      <th>24844</th>\n",
              "      <td>False</td>\n",
              "      <td>0.0</td>\n",
              "      <td>Comedy</td>\n",
              "      <td>11115</td>\n",
              "      <td>tt0446676</td>\n",
              "      <td>en</td>\n",
              "      <td>Deal</td>\n",
              "      <td>6.880365</td>\n",
              "      <td>Andertainment Group</td>\n",
              "      <td>United States of America</td>\n",
              "      <td>2008-01-29</td>\n",
              "      <td>0.0</td>\n",
              "      <td>85.0</td>\n",
              "      <td>English</td>\n",
              "      <td>Released</td>\n",
              "      <td>Deal</td>\n",
              "      <td>5.2</td>\n",
              "      <td>22.0</td>\n",
              "    </tr>\n",
              "    <tr>\n",
              "      <th>29374</th>\n",
              "      <td>False</td>\n",
              "      <td>0.0</td>\n",
              "      <td>Drama</td>\n",
              "      <td>42495</td>\n",
              "      <td>tt0067306</td>\n",
              "      <td>en</td>\n",
              "      <td>King Lear</td>\n",
              "      <td>0.187901</td>\n",
              "      <td>Royal Shakespeare Company</td>\n",
              "      <td>Denmark</td>\n",
              "      <td>1971-02-04</td>\n",
              "      <td>0.0</td>\n",
              "      <td>137.0</td>\n",
              "      <td>English</td>\n",
              "      <td>Rumored</td>\n",
              "      <td>King Lear</td>\n",
              "      <td>8.0</td>\n",
              "      <td>3.0</td>\n",
              "    </tr>\n",
              "    <tr>\n",
              "      <th>9165</th>\n",
              "      <td>False</td>\n",
              "      <td>0.0</td>\n",
              "      <td>Crime</td>\n",
              "      <td>5511</td>\n",
              "      <td>tt0062229</td>\n",
              "      <td>fr</td>\n",
              "      <td>Le SamouraÃ¯</td>\n",
              "      <td>9.091288</td>\n",
              "      <td>Fida cinematografica</td>\n",
              "      <td>France</td>\n",
              "      <td>1967-10-25</td>\n",
              "      <td>39481.0</td>\n",
              "      <td>105.0</td>\n",
              "      <td>FranÃ§ais</td>\n",
              "      <td>Released</td>\n",
              "      <td>Le SamouraÃ¯</td>\n",
              "      <td>7.9</td>\n",
              "      <td>187.0</td>\n",
              "    </tr>\n",
              "    <tr>\n",
              "      <th>40276</th>\n",
              "      <td>False</td>\n",
              "      <td>0.0</td>\n",
              "      <td>Comedy</td>\n",
              "      <td>97995</td>\n",
              "      <td>tt0127834</td>\n",
              "      <td>en</td>\n",
              "      <td>Seven Years Bad Luck</td>\n",
              "      <td>0.141558</td>\n",
              "      <td>Max Linder Productions</td>\n",
              "      <td>United States of America</td>\n",
              "      <td>1921-02-06</td>\n",
              "      <td>0.0</td>\n",
              "      <td>62.0</td>\n",
              "      <td>English</td>\n",
              "      <td>Released</td>\n",
              "      <td>Seven Years Bad Luck</td>\n",
              "      <td>5.6</td>\n",
              "      <td>4.0</td>\n",
              "    </tr>\n",
              "    <tr>\n",
              "      <th>21854</th>\n",
              "      <td>False</td>\n",
              "      <td>0.0</td>\n",
              "      <td>Drama</td>\n",
              "      <td>152795</td>\n",
              "      <td>tt1821641</td>\n",
              "      <td>en</td>\n",
              "      <td>The Congress</td>\n",
              "      <td>8.534039</td>\n",
              "      <td>Pandora Filmproduktion</td>\n",
              "      <td>Belgium</td>\n",
              "      <td>2013-05-16</td>\n",
              "      <td>455815.0</td>\n",
              "      <td>122.0</td>\n",
              "      <td>English</td>\n",
              "      <td>Released</td>\n",
              "      <td>The Congress</td>\n",
              "      <td>6.4</td>\n",
              "      <td>165.0</td>\n",
              "    </tr>\n",
              "    <tr>\n",
              "      <th>9327</th>\n",
              "      <td>False</td>\n",
              "      <td>0.0</td>\n",
              "      <td>Adventure</td>\n",
              "      <td>23305</td>\n",
              "      <td>tt0295682</td>\n",
              "      <td>en</td>\n",
              "      <td>The Warrior</td>\n",
              "      <td>1.967992</td>\n",
              "      <td>Filmfour</td>\n",
              "      <td>France</td>\n",
              "      <td>2001-09-23</td>\n",
              "      <td>0.0</td>\n",
              "      <td>86.0</td>\n",
              "      <td>à¤¹à¤¿à¤¨à¥à¤¦à¥</td>\n",
              "      <td>Released</td>\n",
              "      <td>The Warrior</td>\n",
              "      <td>6.3</td>\n",
              "      <td>15.0</td>\n",
              "    </tr>\n",
              "    <tr>\n",
              "      <th>45265</th>\n",
              "      <td>False</td>\n",
              "      <td>0.0</td>\n",
              "      <td>Comedy</td>\n",
              "      <td>265189</td>\n",
              "      <td>tt2121382</td>\n",
              "      <td>sv</td>\n",
              "      <td>Turist</td>\n",
              "      <td>12.165685</td>\n",
              "      <td>Motlys</td>\n",
              "      <td>Norway</td>\n",
              "      <td>2014-08-15</td>\n",
              "      <td>1359497.0</td>\n",
              "      <td>118.0</td>\n",
              "      <td>FranÃ§ais</td>\n",
              "      <td>Released</td>\n",
              "      <td>Force Majeure</td>\n",
              "      <td>6.8</td>\n",
              "      <td>255.0</td>\n",
              "    </tr>\n",
              "    <tr>\n",
              "      <th>40040</th>\n",
              "      <td>False</td>\n",
              "      <td>980000.0</td>\n",
              "      <td>Drama</td>\n",
              "      <td>298721</td>\n",
              "      <td>tt2818654</td>\n",
              "      <td>th</td>\n",
              "      <td>à¸£à¸±à¸à¸à¸µà¹à¸à¸­à¸à¹à¸à¹à¸</td>\n",
              "      <td>2.535419</td>\n",
              "      <td>Match Factory, The</td>\n",
              "      <td>United Kingdom</td>\n",
              "      <td>2015-09-02</td>\n",
              "      <td>0.0</td>\n",
              "      <td>122.0</td>\n",
              "      <td>English</td>\n",
              "      <td>Released</td>\n",
              "      <td>Cemetery of Splendour</td>\n",
              "      <td>4.4</td>\n",
              "      <td>50.0</td>\n",
              "    </tr>\n",
              "  </tbody>\n",
              "</table>\n",
              "</div>"
            ],
            "text/plain": [
              "       adult    budget  ... vote_average  vote_count\n",
              "13375  False       0.0  ...          6.7         3.0\n",
              "16764  False       0.0  ...          6.7         3.0\n",
              "1465   False       0.0  ...          5.0         1.0\n",
              "24844  False       0.0  ...          5.2        22.0\n",
              "29374  False       0.0  ...          8.0         3.0\n",
              "9165   False       0.0  ...          7.9       187.0\n",
              "40276  False       0.0  ...          5.6         4.0\n",
              "21854  False       0.0  ...          6.4       165.0\n",
              "9327   False       0.0  ...          6.3        15.0\n",
              "45265  False       0.0  ...          6.8       255.0\n",
              "40040  False  980000.0  ...          4.4        50.0\n",
              "\n",
              "[11 rows x 18 columns]"
            ]
          },
          "metadata": {
            "tags": []
          },
          "execution_count": 122
        }
      ]
    },
    {
      "cell_type": "code",
      "metadata": {
        "id": "WPZsICveSueQ",
        "colab_type": "code",
        "outputId": "e5ce6990-91af-435d-e613-351608308e89",
        "colab": {
          "base_uri": "https://localhost:8080/",
          "height": 0
        }
      },
      "source": [
        "print('duplicated instances: ', len(df2[df2.duplicated()].sort_values('original_title')))"
      ],
      "execution_count": 123,
      "outputs": [
        {
          "output_type": "stream",
          "text": [
            "duplicated instances:  11\n"
          ],
          "name": "stdout"
        }
      ]
    },
    {
      "cell_type": "code",
      "metadata": {
        "id": "ob7HSJ2DS2Aw",
        "colab_type": "code",
        "outputId": "4e0969e1-4b9f-4b02-bd5c-e0cc3777a4f7",
        "colab": {
          "base_uri": "https://localhost:8080/",
          "height": 0
        }
      },
      "source": [
        "# Remove duplicated instances\n",
        "df2.drop_duplicates(keep = False, inplace = True)\n",
        "print('df2 new len: ', len(df2))"
      ],
      "execution_count": 124,
      "outputs": [
        {
          "output_type": "stream",
          "text": [
            "df2 new len:  31994\n"
          ],
          "name": "stdout"
        }
      ]
    },
    {
      "cell_type": "markdown",
      "metadata": {
        "id": "VmLgrCHAStUc",
        "colab_type": "text"
      },
      "source": [
        "## KNN to insert missing data --> df_knn"
      ]
    },
    {
      "cell_type": "markdown",
      "metadata": {
        "id": "wTCDqqbinzBl",
        "colab_type": "text"
      },
      "source": [
        "In this section, I am going to use **df**, the first dataframe which has instances with missing data.\n",
        "\n",
        "\n",
        "I've tried to run KNN, but the processor crashed due to dataframe size. So, I removed instances when **budget** and **revenue** was zero, considering it as float missing data. I did that to shorter the dataframe to be able to test the KNN insert method.\n",
        "\n",
        "P.S.: Later in this notebook, I will discuss more why considering zero as float missing data."
      ]
    },
    {
      "cell_type": "code",
      "metadata": {
        "id": "sxwyYzC_pBj3",
        "colab_type": "code",
        "outputId": "30b7d3df-c998-4547-c3a0-e38a3c6c9136",
        "colab": {
          "base_uri": "https://localhost:8080/",
          "height": 0
        }
      },
      "source": [
        "df.head()"
      ],
      "execution_count": 125,
      "outputs": [
        {
          "output_type": "execute_result",
          "data": {
            "text/html": [
              "<div>\n",
              "<style scoped>\n",
              "    .dataframe tbody tr th:only-of-type {\n",
              "        vertical-align: middle;\n",
              "    }\n",
              "\n",
              "    .dataframe tbody tr th {\n",
              "        vertical-align: top;\n",
              "    }\n",
              "\n",
              "    .dataframe thead th {\n",
              "        text-align: right;\n",
              "    }\n",
              "</style>\n",
              "<table border=\"1\" class=\"dataframe\">\n",
              "  <thead>\n",
              "    <tr style=\"text-align: right;\">\n",
              "      <th></th>\n",
              "      <th>adult</th>\n",
              "      <th>budget</th>\n",
              "      <th>genres</th>\n",
              "      <th>id</th>\n",
              "      <th>imdb_id</th>\n",
              "      <th>original_language</th>\n",
              "      <th>original_title</th>\n",
              "      <th>popularity</th>\n",
              "      <th>production_companies</th>\n",
              "      <th>production_countries</th>\n",
              "      <th>release_date</th>\n",
              "      <th>revenue</th>\n",
              "      <th>runtime</th>\n",
              "      <th>spoken_languages</th>\n",
              "      <th>status</th>\n",
              "      <th>title</th>\n",
              "      <th>vote_average</th>\n",
              "      <th>vote_count</th>\n",
              "    </tr>\n",
              "  </thead>\n",
              "  <tbody>\n",
              "    <tr>\n",
              "      <th>0</th>\n",
              "      <td>False</td>\n",
              "      <td>30000000</td>\n",
              "      <td>Animation</td>\n",
              "      <td>862</td>\n",
              "      <td>tt0114709</td>\n",
              "      <td>en</td>\n",
              "      <td>Toy Story</td>\n",
              "      <td>21.9469</td>\n",
              "      <td>Pixar Animation Studios</td>\n",
              "      <td>United States of America</td>\n",
              "      <td>1995-10-30</td>\n",
              "      <td>373554033.0</td>\n",
              "      <td>81.0</td>\n",
              "      <td>English</td>\n",
              "      <td>Released</td>\n",
              "      <td>Toy Story</td>\n",
              "      <td>7.7</td>\n",
              "      <td>5415.0</td>\n",
              "    </tr>\n",
              "    <tr>\n",
              "      <th>1</th>\n",
              "      <td>False</td>\n",
              "      <td>65000000</td>\n",
              "      <td>Adventure</td>\n",
              "      <td>8844</td>\n",
              "      <td>tt0113497</td>\n",
              "      <td>en</td>\n",
              "      <td>Jumanji</td>\n",
              "      <td>17.0155</td>\n",
              "      <td>TriStar Pictures</td>\n",
              "      <td>United States of America</td>\n",
              "      <td>1995-12-15</td>\n",
              "      <td>262797249.0</td>\n",
              "      <td>104.0</td>\n",
              "      <td>English</td>\n",
              "      <td>Released</td>\n",
              "      <td>Jumanji</td>\n",
              "      <td>6.9</td>\n",
              "      <td>2413.0</td>\n",
              "    </tr>\n",
              "    <tr>\n",
              "      <th>2</th>\n",
              "      <td>False</td>\n",
              "      <td>0</td>\n",
              "      <td>Romance</td>\n",
              "      <td>15602</td>\n",
              "      <td>tt0113228</td>\n",
              "      <td>en</td>\n",
              "      <td>Grumpier Old Men</td>\n",
              "      <td>11.7129</td>\n",
              "      <td>Warner Bros.</td>\n",
              "      <td>United States of America</td>\n",
              "      <td>1995-12-22</td>\n",
              "      <td>0.0</td>\n",
              "      <td>101.0</td>\n",
              "      <td>English</td>\n",
              "      <td>Released</td>\n",
              "      <td>Grumpier Old Men</td>\n",
              "      <td>6.5</td>\n",
              "      <td>92.0</td>\n",
              "    </tr>\n",
              "    <tr>\n",
              "      <th>3</th>\n",
              "      <td>False</td>\n",
              "      <td>16000000</td>\n",
              "      <td>Comedy</td>\n",
              "      <td>31357</td>\n",
              "      <td>tt0114885</td>\n",
              "      <td>en</td>\n",
              "      <td>Waiting to Exhale</td>\n",
              "      <td>3.85949</td>\n",
              "      <td>Twentieth Century Fox Film Corporation</td>\n",
              "      <td>United States of America</td>\n",
              "      <td>1995-12-22</td>\n",
              "      <td>81452156.0</td>\n",
              "      <td>127.0</td>\n",
              "      <td>English</td>\n",
              "      <td>Released</td>\n",
              "      <td>Waiting to Exhale</td>\n",
              "      <td>6.1</td>\n",
              "      <td>34.0</td>\n",
              "    </tr>\n",
              "    <tr>\n",
              "      <th>4</th>\n",
              "      <td>False</td>\n",
              "      <td>0</td>\n",
              "      <td>Comedy</td>\n",
              "      <td>11862</td>\n",
              "      <td>tt0113041</td>\n",
              "      <td>en</td>\n",
              "      <td>Father of the Bride Part II</td>\n",
              "      <td>8.38752</td>\n",
              "      <td>Sandollar Productions</td>\n",
              "      <td>United States of America</td>\n",
              "      <td>1995-02-10</td>\n",
              "      <td>76578911.0</td>\n",
              "      <td>106.0</td>\n",
              "      <td>English</td>\n",
              "      <td>Released</td>\n",
              "      <td>Father of the Bride Part II</td>\n",
              "      <td>5.7</td>\n",
              "      <td>173.0</td>\n",
              "    </tr>\n",
              "  </tbody>\n",
              "</table>\n",
              "</div>"
            ],
            "text/plain": [
              "   adult    budget  ... vote_average vote_count\n",
              "0  False  30000000  ...          7.7     5415.0\n",
              "1  False  65000000  ...          6.9     2413.0\n",
              "2  False         0  ...          6.5       92.0\n",
              "3  False  16000000  ...          6.1       34.0\n",
              "4  False         0  ...          5.7      173.0\n",
              "\n",
              "[5 rows x 18 columns]"
            ]
          },
          "metadata": {
            "tags": []
          },
          "execution_count": 125
        }
      ]
    },
    {
      "cell_type": "code",
      "metadata": {
        "id": "s2keOMmqiSsj",
        "colab_type": "code",
        "outputId": "535da7b4-1d53-4f71-b4ae-e96a1ff4f9f5",
        "colab": {
          "base_uri": "https://localhost:8080/",
          "height": 0
        }
      },
      "source": [
        "df_knn = df.copy()\n",
        "print(df_knn.isnull().sum())"
      ],
      "execution_count": 126,
      "outputs": [
        {
          "output_type": "stream",
          "text": [
            "adult                       0\n",
            "budget                      0\n",
            "genres                   2425\n",
            "id                          0\n",
            "imdb_id                    16\n",
            "original_language          11\n",
            "original_title              0\n",
            "popularity                  0\n",
            "production_companies    11915\n",
            "production_countries     6265\n",
            "release_date               74\n",
            "revenue                     0\n",
            "runtime                     0\n",
            "spoken_languages         3811\n",
            "status                     77\n",
            "title                       0\n",
            "vote_average                0\n",
            "vote_count                  0\n",
            "dtype: int64\n"
          ],
          "name": "stdout"
        }
      ]
    },
    {
      "cell_type": "code",
      "metadata": {
        "id": "256gAHIEfry9",
        "colab_type": "code",
        "outputId": "1f080438-60d5-4a86-98e9-f628c08f43a3",
        "colab": {
          "base_uri": "https://localhost:8080/",
          "height": 0
        }
      },
      "source": [
        "df_knn.dtypes"
      ],
      "execution_count": 127,
      "outputs": [
        {
          "output_type": "execute_result",
          "data": {
            "text/plain": [
              "adult                       bool\n",
              "budget                  category\n",
              "genres                    object\n",
              "id                      category\n",
              "imdb_id                 category\n",
              "original_language       category\n",
              "original_title          category\n",
              "popularity              category\n",
              "production_companies      object\n",
              "production_countries      object\n",
              "release_date            category\n",
              "revenue                  float64\n",
              "runtime                  float64\n",
              "spoken_languages          object\n",
              "status                  category\n",
              "title                   category\n",
              "vote_average             float64\n",
              "vote_count               float64\n",
              "dtype: object"
            ]
          },
          "metadata": {
            "tags": []
          },
          "execution_count": 127
        }
      ]
    },
    {
      "cell_type": "markdown",
      "metadata": {
        "id": "VboTCQx8o5Kg",
        "colab_type": "text"
      },
      "source": [
        "For some reason, **NaN** cells weren't being recognized as **numpy NaN** and due to that its values had been replaced by **-1 as cat codes**. So, I've manually fixed it to be able to run KNN."
      ]
    },
    {
      "cell_type": "code",
      "metadata": {
        "id": "WqnSYybgoqys",
        "colab_type": "code",
        "outputId": "8a45604f-201e-4782-dba6-679ef3513343",
        "colab": {
          "base_uri": "https://localhost:8080/",
          "height": 0
        }
      },
      "source": [
        "print('NaN genres instances: ', len(df_knn[df_knn['genres'] == np.NaN]))\n",
        "df_knn[45440:45442]"
      ],
      "execution_count": 128,
      "outputs": [
        {
          "output_type": "stream",
          "text": [
            "NaN genres instances:  0\n"
          ],
          "name": "stdout"
        },
        {
          "output_type": "execute_result",
          "data": {
            "text/html": [
              "<div>\n",
              "<style scoped>\n",
              "    .dataframe tbody tr th:only-of-type {\n",
              "        vertical-align: middle;\n",
              "    }\n",
              "\n",
              "    .dataframe tbody tr th {\n",
              "        vertical-align: top;\n",
              "    }\n",
              "\n",
              "    .dataframe thead th {\n",
              "        text-align: right;\n",
              "    }\n",
              "</style>\n",
              "<table border=\"1\" class=\"dataframe\">\n",
              "  <thead>\n",
              "    <tr style=\"text-align: right;\">\n",
              "      <th></th>\n",
              "      <th>adult</th>\n",
              "      <th>budget</th>\n",
              "      <th>genres</th>\n",
              "      <th>id</th>\n",
              "      <th>imdb_id</th>\n",
              "      <th>original_language</th>\n",
              "      <th>original_title</th>\n",
              "      <th>popularity</th>\n",
              "      <th>production_companies</th>\n",
              "      <th>production_countries</th>\n",
              "      <th>release_date</th>\n",
              "      <th>revenue</th>\n",
              "      <th>runtime</th>\n",
              "      <th>spoken_languages</th>\n",
              "      <th>status</th>\n",
              "      <th>title</th>\n",
              "      <th>vote_average</th>\n",
              "      <th>vote_count</th>\n",
              "    </tr>\n",
              "  </thead>\n",
              "  <tbody>\n",
              "    <tr>\n",
              "      <th>45464</th>\n",
              "      <td>False</td>\n",
              "      <td>0</td>\n",
              "      <td>NaN</td>\n",
              "      <td>227506</td>\n",
              "      <td>tt0008536</td>\n",
              "      <td>en</td>\n",
              "      <td>Satana likuyushchiy</td>\n",
              "      <td>0.003503</td>\n",
              "      <td>Yermoliev</td>\n",
              "      <td>Russia</td>\n",
              "      <td>1917-10-21</td>\n",
              "      <td>0.0</td>\n",
              "      <td>87.0</td>\n",
              "      <td>NaN</td>\n",
              "      <td>Released</td>\n",
              "      <td>Satan Triumphant</td>\n",
              "      <td>0.0</td>\n",
              "      <td>0.0</td>\n",
              "    </tr>\n",
              "    <tr>\n",
              "      <th>45465</th>\n",
              "      <td>False</td>\n",
              "      <td>0</td>\n",
              "      <td>NaN</td>\n",
              "      <td>461257</td>\n",
              "      <td>tt6980792</td>\n",
              "      <td>en</td>\n",
              "      <td>Queerama</td>\n",
              "      <td>0.163015</td>\n",
              "      <td>NaN</td>\n",
              "      <td>United Kingdom</td>\n",
              "      <td>2017-06-09</td>\n",
              "      <td>0.0</td>\n",
              "      <td>75.0</td>\n",
              "      <td>English</td>\n",
              "      <td>Released</td>\n",
              "      <td>Queerama</td>\n",
              "      <td>0.0</td>\n",
              "      <td>0.0</td>\n",
              "    </tr>\n",
              "  </tbody>\n",
              "</table>\n",
              "</div>"
            ],
            "text/plain": [
              "       adult budget genres  ...             title vote_average vote_count\n",
              "45464  False      0    NaN  ...  Satan Triumphant          0.0        0.0\n",
              "45465  False      0    NaN  ...          Queerama          0.0        0.0\n",
              "\n",
              "[2 rows x 18 columns]"
            ]
          },
          "metadata": {
            "tags": []
          },
          "execution_count": 128
        }
      ]
    },
    {
      "cell_type": "code",
      "metadata": {
        "id": "6Nc3bknXercK",
        "colab_type": "code",
        "colab": {}
      },
      "source": [
        "# Update columns types\n",
        "df_knn['genres'] = df_knn['genres'].astype('category')\n",
        "df_knn['production_companies'] = df_knn['production_companies'].astype('category')\n",
        "df_knn['production_countries'] = df_knn['production_countries'].astype('category')\n",
        "df_knn['spoken_languages'] = df_knn['spoken_languages'].astype('category')\n",
        "df_knn['budget'] = df_knn['budget'].astype('float64')\n",
        "df_knn['id'] = df_knn['id'].astype('int64')\n",
        "df_knn['popularity'] = df_knn['popularity'].astype('float64')\n",
        "# float() argument must be a string or a number, not 'Timestamp'\n",
        "df_knn['release_date'] = df_knn['release_date'].astype('category')\n",
        "\n",
        "\n",
        "# get cat codes\n",
        "df_knn['genres'] = df_knn['genres'].cat.codes\n",
        "df_knn['imdb_id'] = df_knn['imdb_id'].cat.codes\n",
        "df_knn['original_language'] = df_knn['original_language'].cat.codes\n",
        "df_knn['original_title'] = df_knn['original_title'].cat.codes\n",
        "df_knn['production_companies'] = df_knn['production_companies'].cat.codes\n",
        "df_knn['production_countries'] = df_knn['production_countries'].cat.codes\n",
        "df_knn['spoken_languages'] = df_knn['spoken_languages'].cat.codes\n",
        "df_knn['status'] = df_knn['status'].cat.codes\n",
        "df_knn['title'] = df_knn['title'].cat.codes\n",
        "df_knn['release_date'] = df_knn['release_date'].cat.codes\n"
      ],
      "execution_count": 0,
      "outputs": []
    },
    {
      "cell_type": "code",
      "metadata": {
        "id": "xRIp-z7ip98_",
        "colab_type": "code",
        "outputId": "144049a6-70f2-4ab5-9555-3c3461f629b2",
        "colab": {
          "base_uri": "https://localhost:8080/",
          "height": 0
        }
      },
      "source": [
        "df_knn[45440:45442]"
      ],
      "execution_count": 130,
      "outputs": [
        {
          "output_type": "execute_result",
          "data": {
            "text/html": [
              "<div>\n",
              "<style scoped>\n",
              "    .dataframe tbody tr th:only-of-type {\n",
              "        vertical-align: middle;\n",
              "    }\n",
              "\n",
              "    .dataframe tbody tr th {\n",
              "        vertical-align: top;\n",
              "    }\n",
              "\n",
              "    .dataframe thead th {\n",
              "        text-align: right;\n",
              "    }\n",
              "</style>\n",
              "<table border=\"1\" class=\"dataframe\">\n",
              "  <thead>\n",
              "    <tr style=\"text-align: right;\">\n",
              "      <th></th>\n",
              "      <th>adult</th>\n",
              "      <th>budget</th>\n",
              "      <th>genres</th>\n",
              "      <th>id</th>\n",
              "      <th>imdb_id</th>\n",
              "      <th>original_language</th>\n",
              "      <th>original_title</th>\n",
              "      <th>popularity</th>\n",
              "      <th>production_companies</th>\n",
              "      <th>production_countries</th>\n",
              "      <th>release_date</th>\n",
              "      <th>revenue</th>\n",
              "      <th>runtime</th>\n",
              "      <th>spoken_languages</th>\n",
              "      <th>status</th>\n",
              "      <th>title</th>\n",
              "      <th>vote_average</th>\n",
              "      <th>vote_count</th>\n",
              "    </tr>\n",
              "  </thead>\n",
              "  <tbody>\n",
              "    <tr>\n",
              "      <th>45464</th>\n",
              "      <td>False</td>\n",
              "      <td>0.0</td>\n",
              "      <td>-1</td>\n",
              "      <td>227506</td>\n",
              "      <td>170</td>\n",
              "      <td>20</td>\n",
              "      <td>27129</td>\n",
              "      <td>0.003503</td>\n",
              "      <td>10321</td>\n",
              "      <td>106</td>\n",
              "      <td>243</td>\n",
              "      <td>0.0</td>\n",
              "      <td>87.0</td>\n",
              "      <td>-1</td>\n",
              "      <td>4</td>\n",
              "      <td>26679</td>\n",
              "      <td>0.0</td>\n",
              "      <td>0.0</td>\n",
              "    </tr>\n",
              "    <tr>\n",
              "      <th>45465</th>\n",
              "      <td>False</td>\n",
              "      <td>0.0</td>\n",
              "      <td>-1</td>\n",
              "      <td>461257</td>\n",
              "      <td>45408</td>\n",
              "      <td>20</td>\n",
              "      <td>25602</td>\n",
              "      <td>0.163015</td>\n",
              "      <td>-1</td>\n",
              "      <td>133</td>\n",
              "      <td>17274</td>\n",
              "      <td>0.0</td>\n",
              "      <td>75.0</td>\n",
              "      <td>15</td>\n",
              "      <td>4</td>\n",
              "      <td>25071</td>\n",
              "      <td>0.0</td>\n",
              "      <td>0.0</td>\n",
              "    </tr>\n",
              "  </tbody>\n",
              "</table>\n",
              "</div>"
            ],
            "text/plain": [
              "       adult  budget  genres      id  ...  status  title  vote_average  vote_count\n",
              "45464  False     0.0      -1  227506  ...       4  26679           0.0         0.0\n",
              "45465  False     0.0      -1  461257  ...       4  25071           0.0         0.0\n",
              "\n",
              "[2 rows x 18 columns]"
            ]
          },
          "metadata": {
            "tags": []
          },
          "execution_count": 130
        }
      ]
    },
    {
      "cell_type": "code",
      "metadata": {
        "id": "-rG-rWmSqWf5",
        "colab_type": "code",
        "outputId": "a5328fc4-8bd9-44cf-f666-cbc51daf3bea",
        "colab": {
          "base_uri": "https://localhost:8080/",
          "height": 0
        }
      },
      "source": [
        "print(df_knn.isnull().sum())"
      ],
      "execution_count": 131,
      "outputs": [
        {
          "output_type": "stream",
          "text": [
            "adult                   0\n",
            "budget                  0\n",
            "genres                  0\n",
            "id                      0\n",
            "imdb_id                 0\n",
            "original_language       0\n",
            "original_title          0\n",
            "popularity              0\n",
            "production_companies    0\n",
            "production_countries    0\n",
            "release_date            0\n",
            "revenue                 0\n",
            "runtime                 0\n",
            "spoken_languages        0\n",
            "status                  0\n",
            "title                   0\n",
            "vote_average            0\n",
            "vote_count              0\n",
            "dtype: int64\n"
          ],
          "name": "stdout"
        }
      ]
    },
    {
      "cell_type": "code",
      "metadata": {
        "id": "rGIoYCGWofEh",
        "colab_type": "code",
        "colab": {}
      },
      "source": [
        "df_knn['genres'].replace(-1, np.nan, inplace=True)\n",
        "df_knn['original_language'].replace(-1, np.nan, inplace=True)\n",
        "df_knn['production_companies'].replace(-1, np.nan, inplace=True)\n",
        "df_knn['production_countries'].replace(-1, np.nan, inplace=True)\n",
        "df_knn['release_date'].replace(-1, np.nan, inplace=True)\n",
        "df_knn['spoken_languages'].replace(-1, np.nan, inplace=True)\n"
      ],
      "execution_count": 0,
      "outputs": []
    },
    {
      "cell_type": "code",
      "metadata": {
        "id": "xgk5Dp6Yi9Hg",
        "colab_type": "code",
        "outputId": "edf18b01-2899-4a4e-a74a-cf353913f4a1",
        "colab": {
          "base_uri": "https://localhost:8080/",
          "height": 0
        }
      },
      "source": [
        "df_knn.tail()"
      ],
      "execution_count": 133,
      "outputs": [
        {
          "output_type": "execute_result",
          "data": {
            "text/html": [
              "<div>\n",
              "<style scoped>\n",
              "    .dataframe tbody tr th:only-of-type {\n",
              "        vertical-align: middle;\n",
              "    }\n",
              "\n",
              "    .dataframe tbody tr th {\n",
              "        vertical-align: top;\n",
              "    }\n",
              "\n",
              "    .dataframe thead th {\n",
              "        text-align: right;\n",
              "    }\n",
              "</style>\n",
              "<table border=\"1\" class=\"dataframe\">\n",
              "  <thead>\n",
              "    <tr style=\"text-align: right;\">\n",
              "      <th></th>\n",
              "      <th>adult</th>\n",
              "      <th>budget</th>\n",
              "      <th>genres</th>\n",
              "      <th>id</th>\n",
              "      <th>imdb_id</th>\n",
              "      <th>original_language</th>\n",
              "      <th>original_title</th>\n",
              "      <th>popularity</th>\n",
              "      <th>production_companies</th>\n",
              "      <th>production_countries</th>\n",
              "      <th>release_date</th>\n",
              "      <th>revenue</th>\n",
              "      <th>runtime</th>\n",
              "      <th>spoken_languages</th>\n",
              "      <th>status</th>\n",
              "      <th>title</th>\n",
              "      <th>vote_average</th>\n",
              "      <th>vote_count</th>\n",
              "    </tr>\n",
              "  </thead>\n",
              "  <tbody>\n",
              "    <tr>\n",
              "      <th>45461</th>\n",
              "      <td>False</td>\n",
              "      <td>0.0</td>\n",
              "      <td>6.0</td>\n",
              "      <td>439050</td>\n",
              "      <td>45274</td>\n",
              "      <td>25.0</td>\n",
              "      <td>41020</td>\n",
              "      <td>0.072051</td>\n",
              "      <td>NaN</td>\n",
              "      <td>57.0</td>\n",
              "      <td>NaN</td>\n",
              "      <td>0.0</td>\n",
              "      <td>90.0</td>\n",
              "      <td>60.0</td>\n",
              "      <td>4</td>\n",
              "      <td>29278</td>\n",
              "      <td>4.0</td>\n",
              "      <td>1.0</td>\n",
              "    </tr>\n",
              "    <tr>\n",
              "      <th>45462</th>\n",
              "      <td>False</td>\n",
              "      <td>0.0</td>\n",
              "      <td>6.0</td>\n",
              "      <td>111109</td>\n",
              "      <td>37205</td>\n",
              "      <td>82.0</td>\n",
              "      <td>28085</td>\n",
              "      <td>0.178241</td>\n",
              "      <td>8519.0</td>\n",
              "      <td>100.0</td>\n",
              "      <td>15390.0</td>\n",
              "      <td>0.0</td>\n",
              "      <td>360.0</td>\n",
              "      <td>0.0</td>\n",
              "      <td>4</td>\n",
              "      <td>6516</td>\n",
              "      <td>9.0</td>\n",
              "      <td>3.0</td>\n",
              "    </tr>\n",
              "    <tr>\n",
              "      <th>45463</th>\n",
              "      <td>False</td>\n",
              "      <td>0.0</td>\n",
              "      <td>0.0</td>\n",
              "      <td>67758</td>\n",
              "      <td>23291</td>\n",
              "      <td>20.0</td>\n",
              "      <td>3995</td>\n",
              "      <td>0.903007</td>\n",
              "      <td>500.0</td>\n",
              "      <td>135.0</td>\n",
              "      <td>12720.0</td>\n",
              "      <td>0.0</td>\n",
              "      <td>90.0</td>\n",
              "      <td>15.0</td>\n",
              "      <td>4</td>\n",
              "      <td>4377</td>\n",
              "      <td>3.8</td>\n",
              "      <td>6.0</td>\n",
              "    </tr>\n",
              "    <tr>\n",
              "      <th>45464</th>\n",
              "      <td>False</td>\n",
              "      <td>0.0</td>\n",
              "      <td>NaN</td>\n",
              "      <td>227506</td>\n",
              "      <td>170</td>\n",
              "      <td>20.0</td>\n",
              "      <td>27129</td>\n",
              "      <td>0.003503</td>\n",
              "      <td>10321.0</td>\n",
              "      <td>106.0</td>\n",
              "      <td>243.0</td>\n",
              "      <td>0.0</td>\n",
              "      <td>87.0</td>\n",
              "      <td>NaN</td>\n",
              "      <td>4</td>\n",
              "      <td>26679</td>\n",
              "      <td>0.0</td>\n",
              "      <td>0.0</td>\n",
              "    </tr>\n",
              "    <tr>\n",
              "      <th>45465</th>\n",
              "      <td>False</td>\n",
              "      <td>0.0</td>\n",
              "      <td>NaN</td>\n",
              "      <td>461257</td>\n",
              "      <td>45408</td>\n",
              "      <td>20.0</td>\n",
              "      <td>25602</td>\n",
              "      <td>0.163015</td>\n",
              "      <td>NaN</td>\n",
              "      <td>133.0</td>\n",
              "      <td>17274.0</td>\n",
              "      <td>0.0</td>\n",
              "      <td>75.0</td>\n",
              "      <td>15.0</td>\n",
              "      <td>4</td>\n",
              "      <td>25071</td>\n",
              "      <td>0.0</td>\n",
              "      <td>0.0</td>\n",
              "    </tr>\n",
              "  </tbody>\n",
              "</table>\n",
              "</div>"
            ],
            "text/plain": [
              "       adult  budget  genres      id  ...  status  title  vote_average  vote_count\n",
              "45461  False     0.0     6.0  439050  ...       4  29278           4.0         1.0\n",
              "45462  False     0.0     6.0  111109  ...       4   6516           9.0         3.0\n",
              "45463  False     0.0     0.0   67758  ...       4   4377           3.8         6.0\n",
              "45464  False     0.0     NaN  227506  ...       4  26679           0.0         0.0\n",
              "45465  False     0.0     NaN  461257  ...       4  25071           0.0         0.0\n",
              "\n",
              "[5 rows x 18 columns]"
            ]
          },
          "metadata": {
            "tags": []
          },
          "execution_count": 133
        }
      ]
    },
    {
      "cell_type": "code",
      "metadata": {
        "id": "Ku6zh4A-E6jP",
        "colab_type": "code",
        "outputId": "b15445ed-c8cc-4807-b99a-d0bc22fb05e7",
        "colab": {
          "base_uri": "https://localhost:8080/",
          "height": 0
        }
      },
      "source": [
        "print(df_knn.isnull().sum())"
      ],
      "execution_count": 134,
      "outputs": [
        {
          "output_type": "stream",
          "text": [
            "adult                       0\n",
            "budget                      0\n",
            "genres                   2425\n",
            "id                          0\n",
            "imdb_id                     0\n",
            "original_language          11\n",
            "original_title              0\n",
            "popularity                  0\n",
            "production_companies    11915\n",
            "production_countries     6265\n",
            "release_date               74\n",
            "revenue                     0\n",
            "runtime                     0\n",
            "spoken_languages         3811\n",
            "status                      0\n",
            "title                       0\n",
            "vote_average                0\n",
            "vote_count                  0\n",
            "dtype: int64\n"
          ],
          "name": "stdout"
        }
      ]
    },
    {
      "cell_type": "code",
      "metadata": {
        "id": "BaobNO94eSpy",
        "colab_type": "code",
        "outputId": "203be3e9-3e32-481e-84ab-7f768463ce0d",
        "colab": {
          "base_uri": "https://localhost:8080/",
          "height": 0
        }
      },
      "source": [
        "df_cc = df_knn.iloc[:, 0:18]\n",
        "print('df_knn len: ', len(df_knn))\n",
        "\n",
        "# Remove float zero data (missing float data)\n",
        "df_knn = df_knn.loc[(df_knn['budget'] > 0) | (df_knn['revenue'] > 0)]\n",
        "print('df_knn len without float zero data: ', len(df_knn))"
      ],
      "execution_count": 135,
      "outputs": [
        {
          "output_type": "stream",
          "text": [
            "df_knn len:  45442\n",
            "df_knn len without float zero data:  10917\n"
          ],
          "name": "stdout"
        }
      ]
    },
    {
      "cell_type": "code",
      "metadata": {
        "id": "nUgoof5tSxIK",
        "colab_type": "code",
        "outputId": "8aadac89-b8e3-4095-e023-70d1b89bcebc",
        "colab": {
          "base_uri": "https://localhost:8080/",
          "height": 0
        }
      },
      "source": [
        "from fancyimpute import KNN\n",
        "df_knn = KNN(k=5).fit_transform(df_knn)"
      ],
      "execution_count": 136,
      "outputs": [
        {
          "output_type": "stream",
          "text": [
            "Imputing row 1/10917 with 0 missing, elapsed time: 23.735\n",
            "Imputing row 101/10917 with 0 missing, elapsed time: 23.736\n",
            "Imputing row 201/10917 with 0 missing, elapsed time: 23.737\n",
            "Imputing row 301/10917 with 0 missing, elapsed time: 23.737\n",
            "Imputing row 401/10917 with 0 missing, elapsed time: 23.738\n",
            "Imputing row 501/10917 with 0 missing, elapsed time: 23.739\n",
            "Imputing row 601/10917 with 0 missing, elapsed time: 23.740\n",
            "Imputing row 701/10917 with 0 missing, elapsed time: 23.740\n",
            "Imputing row 801/10917 with 0 missing, elapsed time: 23.741\n",
            "Imputing row 901/10917 with 0 missing, elapsed time: 23.742\n",
            "Imputing row 1001/10917 with 0 missing, elapsed time: 23.743\n",
            "Imputing row 1101/10917 with 0 missing, elapsed time: 23.744\n",
            "Imputing row 1201/10917 with 0 missing, elapsed time: 23.744\n",
            "Imputing row 1301/10917 with 0 missing, elapsed time: 23.745\n",
            "Imputing row 1401/10917 with 0 missing, elapsed time: 23.746\n",
            "Imputing row 1501/10917 with 0 missing, elapsed time: 23.747\n",
            "Imputing row 1601/10917 with 0 missing, elapsed time: 23.748\n",
            "Imputing row 1701/10917 with 0 missing, elapsed time: 23.748\n",
            "Imputing row 1801/10917 with 0 missing, elapsed time: 23.749\n",
            "Imputing row 1901/10917 with 0 missing, elapsed time: 23.750\n",
            "Imputing row 2001/10917 with 0 missing, elapsed time: 23.750\n",
            "Imputing row 2101/10917 with 0 missing, elapsed time: 23.751\n",
            "Imputing row 2201/10917 with 0 missing, elapsed time: 23.752\n",
            "Imputing row 2301/10917 with 0 missing, elapsed time: 23.752\n",
            "Imputing row 2401/10917 with 0 missing, elapsed time: 23.753\n",
            "Imputing row 2501/10917 with 0 missing, elapsed time: 23.754\n",
            "Imputing row 2601/10917 with 0 missing, elapsed time: 23.756\n",
            "Imputing row 2701/10917 with 0 missing, elapsed time: 23.757\n",
            "Imputing row 2801/10917 with 0 missing, elapsed time: 23.758\n",
            "Imputing row 2901/10917 with 0 missing, elapsed time: 23.759\n",
            "Imputing row 3001/10917 with 0 missing, elapsed time: 23.760\n",
            "Imputing row 3101/10917 with 0 missing, elapsed time: 23.761\n",
            "Imputing row 3201/10917 with 0 missing, elapsed time: 23.763\n",
            "Imputing row 3301/10917 with 0 missing, elapsed time: 23.764\n",
            "Imputing row 3401/10917 with 0 missing, elapsed time: 23.765\n",
            "Imputing row 3501/10917 with 0 missing, elapsed time: 23.766\n",
            "Imputing row 3601/10917 with 0 missing, elapsed time: 23.766\n",
            "Imputing row 3701/10917 with 0 missing, elapsed time: 23.767\n",
            "Imputing row 3801/10917 with 0 missing, elapsed time: 23.768\n",
            "Imputing row 3901/10917 with 0 missing, elapsed time: 23.769\n",
            "Imputing row 4001/10917 with 4 missing, elapsed time: 23.770\n",
            "Imputing row 4101/10917 with 0 missing, elapsed time: 23.771\n",
            "Imputing row 4201/10917 with 0 missing, elapsed time: 23.773\n",
            "Imputing row 4301/10917 with 1 missing, elapsed time: 23.774\n",
            "Imputing row 4401/10917 with 0 missing, elapsed time: 23.775\n",
            "Imputing row 4501/10917 with 0 missing, elapsed time: 23.776\n",
            "Imputing row 4601/10917 with 0 missing, elapsed time: 23.778\n",
            "Imputing row 4701/10917 with 0 missing, elapsed time: 23.779\n",
            "Imputing row 4801/10917 with 0 missing, elapsed time: 23.779\n",
            "Imputing row 4901/10917 with 0 missing, elapsed time: 23.780\n",
            "Imputing row 5001/10917 with 0 missing, elapsed time: 23.781\n",
            "Imputing row 5101/10917 with 0 missing, elapsed time: 23.782\n",
            "Imputing row 5201/10917 with 0 missing, elapsed time: 23.783\n",
            "Imputing row 5301/10917 with 0 missing, elapsed time: 23.785\n",
            "Imputing row 5401/10917 with 0 missing, elapsed time: 23.786\n",
            "Imputing row 5501/10917 with 0 missing, elapsed time: 23.787\n",
            "Imputing row 5601/10917 with 0 missing, elapsed time: 23.788\n",
            "Imputing row 5701/10917 with 0 missing, elapsed time: 23.789\n",
            "Imputing row 5801/10917 with 0 missing, elapsed time: 23.791\n",
            "Imputing row 5901/10917 with 0 missing, elapsed time: 23.792\n",
            "Imputing row 6001/10917 with 0 missing, elapsed time: 23.794\n",
            "Imputing row 6101/10917 with 0 missing, elapsed time: 23.795\n",
            "Imputing row 6201/10917 with 0 missing, elapsed time: 23.796\n",
            "Imputing row 6301/10917 with 0 missing, elapsed time: 23.798\n",
            "Imputing row 6401/10917 with 2 missing, elapsed time: 23.800\n",
            "Imputing row 6501/10917 with 0 missing, elapsed time: 23.801\n",
            "Imputing row 6601/10917 with 0 missing, elapsed time: 23.802\n",
            "Imputing row 6701/10917 with 0 missing, elapsed time: 23.804\n",
            "Imputing row 6801/10917 with 0 missing, elapsed time: 23.805\n",
            "Imputing row 6901/10917 with 0 missing, elapsed time: 23.807\n",
            "Imputing row 7001/10917 with 0 missing, elapsed time: 23.808\n",
            "Imputing row 7101/10917 with 0 missing, elapsed time: 23.810\n",
            "Imputing row 7201/10917 with 0 missing, elapsed time: 23.811\n",
            "Imputing row 7301/10917 with 0 missing, elapsed time: 23.813\n",
            "Imputing row 7401/10917 with 2 missing, elapsed time: 23.814\n",
            "Imputing row 7501/10917 with 0 missing, elapsed time: 23.817\n",
            "Imputing row 7601/10917 with 0 missing, elapsed time: 23.818\n",
            "Imputing row 7701/10917 with 3 missing, elapsed time: 23.820\n",
            "Imputing row 7801/10917 with 0 missing, elapsed time: 23.821\n",
            "Imputing row 7901/10917 with 3 missing, elapsed time: 23.823\n",
            "Imputing row 8001/10917 with 0 missing, elapsed time: 23.824\n",
            "Imputing row 8101/10917 with 0 missing, elapsed time: 23.825\n",
            "Imputing row 8201/10917 with 0 missing, elapsed time: 23.827\n",
            "Imputing row 8301/10917 with 0 missing, elapsed time: 23.828\n",
            "Imputing row 8401/10917 with 3 missing, elapsed time: 23.830\n",
            "Imputing row 8501/10917 with 0 missing, elapsed time: 23.832\n",
            "Imputing row 8601/10917 with 0 missing, elapsed time: 23.834\n",
            "Imputing row 8701/10917 with 0 missing, elapsed time: 23.836\n",
            "Imputing row 8801/10917 with 0 missing, elapsed time: 23.838\n",
            "Imputing row 8901/10917 with 1 missing, elapsed time: 23.840\n",
            "Imputing row 9001/10917 with 0 missing, elapsed time: 23.842\n",
            "Imputing row 9101/10917 with 0 missing, elapsed time: 23.844\n",
            "Imputing row 9201/10917 with 1 missing, elapsed time: 23.847\n",
            "Imputing row 9301/10917 with 0 missing, elapsed time: 23.848\n",
            "Imputing row 9401/10917 with 0 missing, elapsed time: 23.850\n",
            "Imputing row 9501/10917 with 0 missing, elapsed time: 23.853\n",
            "Imputing row 9601/10917 with 1 missing, elapsed time: 23.855\n",
            "Imputing row 9701/10917 with 0 missing, elapsed time: 23.857\n",
            "Imputing row 9801/10917 with 0 missing, elapsed time: 23.859\n",
            "Imputing row 9901/10917 with 0 missing, elapsed time: 23.861\n",
            "Imputing row 10001/10917 with 1 missing, elapsed time: 23.864\n",
            "Imputing row 10101/10917 with 0 missing, elapsed time: 23.866\n",
            "Imputing row 10201/10917 with 0 missing, elapsed time: 23.869\n",
            "Imputing row 10301/10917 with 0 missing, elapsed time: 23.871\n",
            "Imputing row 10401/10917 with 0 missing, elapsed time: 23.873\n",
            "Imputing row 10501/10917 with 0 missing, elapsed time: 23.874\n",
            "Imputing row 10601/10917 with 0 missing, elapsed time: 23.876\n",
            "Imputing row 10701/10917 with 0 missing, elapsed time: 23.878\n",
            "Imputing row 10801/10917 with 1 missing, elapsed time: 23.880\n",
            "Imputing row 10901/10917 with 0 missing, elapsed time: 23.881\n"
          ],
          "name": "stdout"
        }
      ]
    },
    {
      "cell_type": "code",
      "metadata": {
        "id": "6MbVqtfdguRO",
        "colab_type": "code",
        "outputId": "fa0219d8-c6c0-4eaf-a619-f691333411cc",
        "colab": {
          "base_uri": "https://localhost:8080/",
          "height": 0
        }
      },
      "source": [
        "df_knn.shape"
      ],
      "execution_count": 137,
      "outputs": [
        {
          "output_type": "execute_result",
          "data": {
            "text/plain": [
              "(10917, 18)"
            ]
          },
          "metadata": {
            "tags": []
          },
          "execution_count": 137
        }
      ]
    },
    {
      "cell_type": "code",
      "metadata": {
        "id": "N6SX1cvN4H53",
        "colab_type": "code",
        "outputId": "1a9ebf42-bce7-4143-9e03-2d1db6469a68",
        "colab": {
          "base_uri": "https://localhost:8080/",
          "height": 0
        }
      },
      "source": [
        "dataset = pd.DataFrame({\n",
        "            'adult':df_knn[:,0],'budget':df_knn[:,1],'genres':df_knn[:,2],'id':df_knn[:,3],'imdb_id':df_knn[:,4],\n",
        "            'original_language':df_knn[:,5],'original_title':df_knn[:,6],'popularity':df_knn[:,7],'production_companies':df_knn[:,8],'production_countries':df_knn[:,9],\n",
        "            'release_date':df_knn[:,10],'revenue':df_knn[:,11],'runtime':df_knn[:,12],'spoken_languages':df_knn[:,13],'status':df_knn[:,14],\n",
        "            'title':df_knn[:,15],'vote_average':df_knn[:,16],'vote_count':df_knn[:,17],\n",
        "          })\n",
        "\n",
        "dataset.head()"
      ],
      "execution_count": 138,
      "outputs": [
        {
          "output_type": "execute_result",
          "data": {
            "text/html": [
              "<div>\n",
              "<style scoped>\n",
              "    .dataframe tbody tr th:only-of-type {\n",
              "        vertical-align: middle;\n",
              "    }\n",
              "\n",
              "    .dataframe tbody tr th {\n",
              "        vertical-align: top;\n",
              "    }\n",
              "\n",
              "    .dataframe thead th {\n",
              "        text-align: right;\n",
              "    }\n",
              "</style>\n",
              "<table border=\"1\" class=\"dataframe\">\n",
              "  <thead>\n",
              "    <tr style=\"text-align: right;\">\n",
              "      <th></th>\n",
              "      <th>adult</th>\n",
              "      <th>budget</th>\n",
              "      <th>genres</th>\n",
              "      <th>id</th>\n",
              "      <th>imdb_id</th>\n",
              "      <th>original_language</th>\n",
              "      <th>original_title</th>\n",
              "      <th>popularity</th>\n",
              "      <th>production_companies</th>\n",
              "      <th>production_countries</th>\n",
              "      <th>release_date</th>\n",
              "      <th>revenue</th>\n",
              "      <th>runtime</th>\n",
              "      <th>spoken_languages</th>\n",
              "      <th>status</th>\n",
              "      <th>title</th>\n",
              "      <th>vote_average</th>\n",
              "      <th>vote_count</th>\n",
              "    </tr>\n",
              "  </thead>\n",
              "  <tbody>\n",
              "    <tr>\n",
              "      <th>0</th>\n",
              "      <td>0.0</td>\n",
              "      <td>30000000.0</td>\n",
              "      <td>2.0</td>\n",
              "      <td>862.0</td>\n",
              "      <td>17052.0</td>\n",
              "      <td>20.0</td>\n",
              "      <td>36902.0</td>\n",
              "      <td>21.946943</td>\n",
              "      <td>7296.0</td>\n",
              "      <td>135.0</td>\n",
              "      <td>10677.0</td>\n",
              "      <td>373554033.0</td>\n",
              "      <td>81.0</td>\n",
              "      <td>15.0</td>\n",
              "      <td>4.0</td>\n",
              "      <td>39018.0</td>\n",
              "      <td>7.7</td>\n",
              "      <td>5415.0</td>\n",
              "    </tr>\n",
              "    <tr>\n",
              "      <th>1</th>\n",
              "      <td>0.0</td>\n",
              "      <td>65000000.0</td>\n",
              "      <td>1.0</td>\n",
              "      <td>8844.0</td>\n",
              "      <td>16812.0</td>\n",
              "      <td>20.0</td>\n",
              "      <td>16241.0</td>\n",
              "      <td>17.015539</td>\n",
              "      <td>9561.0</td>\n",
              "      <td>135.0</td>\n",
              "      <td>10708.0</td>\n",
              "      <td>262797249.0</td>\n",
              "      <td>104.0</td>\n",
              "      <td>15.0</td>\n",
              "      <td>4.0</td>\n",
              "      <td>16806.0</td>\n",
              "      <td>6.9</td>\n",
              "      <td>2413.0</td>\n",
              "    </tr>\n",
              "    <tr>\n",
              "      <th>2</th>\n",
              "      <td>0.0</td>\n",
              "      <td>16000000.0</td>\n",
              "      <td>3.0</td>\n",
              "      <td>31357.0</td>\n",
              "      <td>17082.0</td>\n",
              "      <td>20.0</td>\n",
              "      <td>38527.0</td>\n",
              "      <td>3.859495</td>\n",
              "      <td>9640.0</td>\n",
              "      <td>135.0</td>\n",
              "      <td>10713.0</td>\n",
              "      <td>81452156.0</td>\n",
              "      <td>127.0</td>\n",
              "      <td>15.0</td>\n",
              "      <td>4.0</td>\n",
              "      <td>40428.0</td>\n",
              "      <td>6.1</td>\n",
              "      <td>34.0</td>\n",
              "    </tr>\n",
              "    <tr>\n",
              "      <th>3</th>\n",
              "      <td>0.0</td>\n",
              "      <td>0.0</td>\n",
              "      <td>3.0</td>\n",
              "      <td>11862.0</td>\n",
              "      <td>16703.0</td>\n",
              "      <td>20.0</td>\n",
              "      <td>10835.0</td>\n",
              "      <td>8.387519</td>\n",
              "      <td>8201.0</td>\n",
              "      <td>135.0</td>\n",
              "      <td>10509.0</td>\n",
              "      <td>76578911.0</td>\n",
              "      <td>106.0</td>\n",
              "      <td>15.0</td>\n",
              "      <td>4.0</td>\n",
              "      <td>11199.0</td>\n",
              "      <td>5.7</td>\n",
              "      <td>173.0</td>\n",
              "    </tr>\n",
              "    <tr>\n",
              "      <th>4</th>\n",
              "      <td>0.0</td>\n",
              "      <td>60000000.0</td>\n",
              "      <td>0.0</td>\n",
              "      <td>949.0</td>\n",
              "      <td>16769.0</td>\n",
              "      <td>20.0</td>\n",
              "      <td>13372.0</td>\n",
              "      <td>17.924927</td>\n",
              "      <td>7826.0</td>\n",
              "      <td>135.0</td>\n",
              "      <td>10708.0</td>\n",
              "      <td>187436818.0</td>\n",
              "      <td>170.0</td>\n",
              "      <td>15.0</td>\n",
              "      <td>4.0</td>\n",
              "      <td>13962.0</td>\n",
              "      <td>7.7</td>\n",
              "      <td>1886.0</td>\n",
              "    </tr>\n",
              "  </tbody>\n",
              "</table>\n",
              "</div>"
            ],
            "text/plain": [
              "   adult      budget  genres  ...    title  vote_average  vote_count\n",
              "0    0.0  30000000.0     2.0  ...  39018.0           7.7      5415.0\n",
              "1    0.0  65000000.0     1.0  ...  16806.0           6.9      2413.0\n",
              "2    0.0  16000000.0     3.0  ...  40428.0           6.1        34.0\n",
              "3    0.0         0.0     3.0  ...  11199.0           5.7       173.0\n",
              "4    0.0  60000000.0     0.0  ...  13962.0           7.7      1886.0\n",
              "\n",
              "[5 rows x 18 columns]"
            ]
          },
          "metadata": {
            "tags": []
          },
          "execution_count": 138
        }
      ]
    },
    {
      "cell_type": "markdown",
      "metadata": {
        "id": "V4f2TpaS3GCQ",
        "colab_type": "text"
      },
      "source": [
        "# Predictive Models"
      ]
    },
    {
      "cell_type": "code",
      "metadata": {
        "id": "JblptVAd3JOq",
        "colab_type": "code",
        "outputId": "8edfcdb4-ffbd-44a7-b39e-a009e492840e",
        "colab": {
          "base_uri": "https://localhost:8080/",
          "height": 51
        }
      },
      "source": [
        "pip install scipy==1.2 --upgrade"
      ],
      "execution_count": 139,
      "outputs": [
        {
          "output_type": "stream",
          "text": [
            "Requirement already up-to-date: scipy==1.2 in /usr/local/lib/python3.6/dist-packages (1.2.0)\n",
            "Requirement already satisfied, skipping upgrade: numpy>=1.8.2 in /usr/local/lib/python3.6/dist-packages (from scipy==1.2) (1.16.4)\n"
          ],
          "name": "stdout"
        }
      ]
    },
    {
      "cell_type": "code",
      "metadata": {
        "id": "JyF7Vk033M8A",
        "colab_type": "code",
        "colab": {}
      },
      "source": [
        "%matplotlib inline\n",
        "import matplotlib.pyplot as plt\n",
        "import matplotlib as mpl\n",
        "\n",
        "import seaborn as sns; sns.set()\n",
        "import pandas as pd\n",
        "import numpy as np\n",
        "\n",
        "import statsmodels.api as sm\n",
        "from statsmodels.sandbox.regression.predstd import wls_prediction_std\n",
        "\n",
        "from matplotlib import rcParams\n",
        "rcParams['figure.figsize'] = (8, 4)\n",
        "rcParams['figure.dpi'] = 100\n",
        "rcParams['font.size'] = 8\n",
        "rcParams['font.family'] = 'sans-serif'\n",
        "rcParams['lines.linewidth'] = 2.0\n",
        "\n",
        "import warnings\n",
        "warnings.simplefilter(action='ignore', category=FutureWarning)"
      ],
      "execution_count": 0,
      "outputs": []
    },
    {
      "cell_type": "markdown",
      "metadata": {
        "id": "0uKMoZSDZtTl",
        "colab_type": "text"
      },
      "source": [
        "In order to **measure the model performance**, we'll take as argument two metrics:\n",
        "- **R2 Score (R2)**\n",
        "  - Provides a measure of how well observed outcomes are replicated by the model, based on the proportion of total variation of outcomes explained by the model --> that is, measure of how well the regression predictions approximate the real data points.\n",
        "  - Values closer to one are better.\n",
        "- **Mean Squared Error (MSE)**\n",
        "  - Measures the average of the squares of the errors --> that is, the average squared difference between the estimated values and what is estimated.\n",
        "  - Values closer to zero are better."
      ]
    },
    {
      "cell_type": "code",
      "metadata": {
        "id": "D6I7gzSNXHtk",
        "colab_type": "code",
        "colab": {}
      },
      "source": [
        "# Measure Model Performance\n",
        "\n",
        "from sklearn.metrics import r2_score, mean_squared_error"
      ],
      "execution_count": 0,
      "outputs": []
    },
    {
      "cell_type": "markdown",
      "metadata": {
        "id": "cJO2qn2AGRW8",
        "colab_type": "text"
      },
      "source": [
        "**Chosen Dataset**\n",
        "\n",
        "In order to apply machine learning models, I decide to use the dataset from KNN."
      ]
    },
    {
      "cell_type": "code",
      "metadata": {
        "id": "2W34ML-6dJw8",
        "colab_type": "code",
        "outputId": "d74b4fba-86bc-45bb-f6bb-e088530f8607",
        "colab": {
          "base_uri": "https://localhost:8080/",
          "height": 224
        }
      },
      "source": [
        "dataset = dataset[[\n",
        "            'id','imdb_id','adult','genres','title',\n",
        "            'original_title','production_countries','production_companies','spoken_languages','original_language',\n",
        "            'release_date','budget','popularity','vote_count','vote_average',\n",
        "            'runtime','status', 'revenue',\n",
        "]]\n",
        "\n",
        "dataset.head()"
      ],
      "execution_count": 142,
      "outputs": [
        {
          "output_type": "execute_result",
          "data": {
            "text/html": [
              "<div>\n",
              "<style scoped>\n",
              "    .dataframe tbody tr th:only-of-type {\n",
              "        vertical-align: middle;\n",
              "    }\n",
              "\n",
              "    .dataframe tbody tr th {\n",
              "        vertical-align: top;\n",
              "    }\n",
              "\n",
              "    .dataframe thead th {\n",
              "        text-align: right;\n",
              "    }\n",
              "</style>\n",
              "<table border=\"1\" class=\"dataframe\">\n",
              "  <thead>\n",
              "    <tr style=\"text-align: right;\">\n",
              "      <th></th>\n",
              "      <th>id</th>\n",
              "      <th>imdb_id</th>\n",
              "      <th>adult</th>\n",
              "      <th>genres</th>\n",
              "      <th>title</th>\n",
              "      <th>original_title</th>\n",
              "      <th>production_countries</th>\n",
              "      <th>production_companies</th>\n",
              "      <th>spoken_languages</th>\n",
              "      <th>original_language</th>\n",
              "      <th>release_date</th>\n",
              "      <th>budget</th>\n",
              "      <th>popularity</th>\n",
              "      <th>vote_count</th>\n",
              "      <th>vote_average</th>\n",
              "      <th>runtime</th>\n",
              "      <th>status</th>\n",
              "      <th>revenue</th>\n",
              "    </tr>\n",
              "  </thead>\n",
              "  <tbody>\n",
              "    <tr>\n",
              "      <th>0</th>\n",
              "      <td>862.0</td>\n",
              "      <td>17052.0</td>\n",
              "      <td>0.0</td>\n",
              "      <td>2.0</td>\n",
              "      <td>39018.0</td>\n",
              "      <td>36902.0</td>\n",
              "      <td>135.0</td>\n",
              "      <td>7296.0</td>\n",
              "      <td>15.0</td>\n",
              "      <td>20.0</td>\n",
              "      <td>10677.0</td>\n",
              "      <td>30000000.0</td>\n",
              "      <td>21.946943</td>\n",
              "      <td>5415.0</td>\n",
              "      <td>7.7</td>\n",
              "      <td>81.0</td>\n",
              "      <td>4.0</td>\n",
              "      <td>373554033.0</td>\n",
              "    </tr>\n",
              "    <tr>\n",
              "      <th>1</th>\n",
              "      <td>8844.0</td>\n",
              "      <td>16812.0</td>\n",
              "      <td>0.0</td>\n",
              "      <td>1.0</td>\n",
              "      <td>16806.0</td>\n",
              "      <td>16241.0</td>\n",
              "      <td>135.0</td>\n",
              "      <td>9561.0</td>\n",
              "      <td>15.0</td>\n",
              "      <td>20.0</td>\n",
              "      <td>10708.0</td>\n",
              "      <td>65000000.0</td>\n",
              "      <td>17.015539</td>\n",
              "      <td>2413.0</td>\n",
              "      <td>6.9</td>\n",
              "      <td>104.0</td>\n",
              "      <td>4.0</td>\n",
              "      <td>262797249.0</td>\n",
              "    </tr>\n",
              "    <tr>\n",
              "      <th>2</th>\n",
              "      <td>31357.0</td>\n",
              "      <td>17082.0</td>\n",
              "      <td>0.0</td>\n",
              "      <td>3.0</td>\n",
              "      <td>40428.0</td>\n",
              "      <td>38527.0</td>\n",
              "      <td>135.0</td>\n",
              "      <td>9640.0</td>\n",
              "      <td>15.0</td>\n",
              "      <td>20.0</td>\n",
              "      <td>10713.0</td>\n",
              "      <td>16000000.0</td>\n",
              "      <td>3.859495</td>\n",
              "      <td>34.0</td>\n",
              "      <td>6.1</td>\n",
              "      <td>127.0</td>\n",
              "      <td>4.0</td>\n",
              "      <td>81452156.0</td>\n",
              "    </tr>\n",
              "    <tr>\n",
              "      <th>3</th>\n",
              "      <td>11862.0</td>\n",
              "      <td>16703.0</td>\n",
              "      <td>0.0</td>\n",
              "      <td>3.0</td>\n",
              "      <td>11199.0</td>\n",
              "      <td>10835.0</td>\n",
              "      <td>135.0</td>\n",
              "      <td>8201.0</td>\n",
              "      <td>15.0</td>\n",
              "      <td>20.0</td>\n",
              "      <td>10509.0</td>\n",
              "      <td>0.0</td>\n",
              "      <td>8.387519</td>\n",
              "      <td>173.0</td>\n",
              "      <td>5.7</td>\n",
              "      <td>106.0</td>\n",
              "      <td>4.0</td>\n",
              "      <td>76578911.0</td>\n",
              "    </tr>\n",
              "    <tr>\n",
              "      <th>4</th>\n",
              "      <td>949.0</td>\n",
              "      <td>16769.0</td>\n",
              "      <td>0.0</td>\n",
              "      <td>0.0</td>\n",
              "      <td>13962.0</td>\n",
              "      <td>13372.0</td>\n",
              "      <td>135.0</td>\n",
              "      <td>7826.0</td>\n",
              "      <td>15.0</td>\n",
              "      <td>20.0</td>\n",
              "      <td>10708.0</td>\n",
              "      <td>60000000.0</td>\n",
              "      <td>17.924927</td>\n",
              "      <td>1886.0</td>\n",
              "      <td>7.7</td>\n",
              "      <td>170.0</td>\n",
              "      <td>4.0</td>\n",
              "      <td>187436818.0</td>\n",
              "    </tr>\n",
              "  </tbody>\n",
              "</table>\n",
              "</div>"
            ],
            "text/plain": [
              "        id  imdb_id  adult  genres  ...  vote_average  runtime  status      revenue\n",
              "0    862.0  17052.0    0.0     2.0  ...           7.7     81.0     4.0  373554033.0\n",
              "1   8844.0  16812.0    0.0     1.0  ...           6.9    104.0     4.0  262797249.0\n",
              "2  31357.0  17082.0    0.0     3.0  ...           6.1    127.0     4.0   81452156.0\n",
              "3  11862.0  16703.0    0.0     3.0  ...           5.7    106.0     4.0   76578911.0\n",
              "4    949.0  16769.0    0.0     0.0  ...           7.7    170.0     4.0  187436818.0\n",
              "\n",
              "[5 rows x 18 columns]"
            ]
          },
          "metadata": {
            "tags": []
          },
          "execution_count": 142
        }
      ]
    },
    {
      "cell_type": "code",
      "metadata": {
        "id": "UcZP3Y8-CjN6",
        "colab_type": "code",
        "outputId": "01582ca0-04b2-405f-a76e-1109b995c87c",
        "colab": {
          "base_uri": "https://localhost:8080/",
          "height": 224
        }
      },
      "source": [
        "dataset.tail()"
      ],
      "execution_count": 143,
      "outputs": [
        {
          "output_type": "execute_result",
          "data": {
            "text/html": [
              "<div>\n",
              "<style scoped>\n",
              "    .dataframe tbody tr th:only-of-type {\n",
              "        vertical-align: middle;\n",
              "    }\n",
              "\n",
              "    .dataframe tbody tr th {\n",
              "        vertical-align: top;\n",
              "    }\n",
              "\n",
              "    .dataframe thead th {\n",
              "        text-align: right;\n",
              "    }\n",
              "</style>\n",
              "<table border=\"1\" class=\"dataframe\">\n",
              "  <thead>\n",
              "    <tr style=\"text-align: right;\">\n",
              "      <th></th>\n",
              "      <th>id</th>\n",
              "      <th>imdb_id</th>\n",
              "      <th>adult</th>\n",
              "      <th>genres</th>\n",
              "      <th>title</th>\n",
              "      <th>original_title</th>\n",
              "      <th>production_countries</th>\n",
              "      <th>production_companies</th>\n",
              "      <th>spoken_languages</th>\n",
              "      <th>original_language</th>\n",
              "      <th>release_date</th>\n",
              "      <th>budget</th>\n",
              "      <th>popularity</th>\n",
              "      <th>vote_count</th>\n",
              "      <th>vote_average</th>\n",
              "      <th>runtime</th>\n",
              "      <th>status</th>\n",
              "      <th>revenue</th>\n",
              "    </tr>\n",
              "  </thead>\n",
              "  <tbody>\n",
              "    <tr>\n",
              "      <th>10912</th>\n",
              "      <td>293654.0</td>\n",
              "      <td>42528.0</td>\n",
              "      <td>0.0</td>\n",
              "      <td>3.0</td>\n",
              "      <td>7665.0</td>\n",
              "      <td>40597.0</td>\n",
              "      <td>106.000000</td>\n",
              "      <td>3021.000000</td>\n",
              "      <td>36.000000</td>\n",
              "      <td>68.0</td>\n",
              "      <td>16371.0</td>\n",
              "      <td>2000000.0</td>\n",
              "      <td>0.524370</td>\n",
              "      <td>4.0</td>\n",
              "      <td>3.5</td>\n",
              "      <td>89.0</td>\n",
              "      <td>4.0</td>\n",
              "      <td>0.0</td>\n",
              "    </tr>\n",
              "    <tr>\n",
              "      <th>10913</th>\n",
              "      <td>100152.0</td>\n",
              "      <td>26024.0</td>\n",
              "      <td>0.0</td>\n",
              "      <td>3.0</td>\n",
              "      <td>20066.0</td>\n",
              "      <td>40642.0</td>\n",
              "      <td>134.639232</td>\n",
              "      <td>3930.145453</td>\n",
              "      <td>20.011771</td>\n",
              "      <td>68.0</td>\n",
              "      <td>13099.0</td>\n",
              "      <td>2000000.0</td>\n",
              "      <td>0.380933</td>\n",
              "      <td>2.0</td>\n",
              "      <td>5.0</td>\n",
              "      <td>100.0</td>\n",
              "      <td>4.0</td>\n",
              "      <td>0.0</td>\n",
              "    </tr>\n",
              "    <tr>\n",
              "      <th>10914</th>\n",
              "      <td>62757.0</td>\n",
              "      <td>29580.0</td>\n",
              "      <td>0.0</td>\n",
              "      <td>3.0</td>\n",
              "      <td>26723.0</td>\n",
              "      <td>8744.0</td>\n",
              "      <td>80.982569</td>\n",
              "      <td>3730.565701</td>\n",
              "      <td>36.000000</td>\n",
              "      <td>20.0</td>\n",
              "      <td>13730.0</td>\n",
              "      <td>800000.0</td>\n",
              "      <td>0.903061</td>\n",
              "      <td>6.0</td>\n",
              "      <td>5.8</td>\n",
              "      <td>100.0</td>\n",
              "      <td>4.0</td>\n",
              "      <td>1328612.0</td>\n",
              "    </tr>\n",
              "    <tr>\n",
              "      <th>10915</th>\n",
              "      <td>63281.0</td>\n",
              "      <td>35472.0</td>\n",
              "      <td>0.0</td>\n",
              "      <td>14.0</td>\n",
              "      <td>24806.0</td>\n",
              "      <td>40793.0</td>\n",
              "      <td>106.000000</td>\n",
              "      <td>7512.000000</td>\n",
              "      <td>36.000000</td>\n",
              "      <td>20.0</td>\n",
              "      <td>15009.0</td>\n",
              "      <td>2000000.0</td>\n",
              "      <td>0.121844</td>\n",
              "      <td>3.0</td>\n",
              "      <td>4.0</td>\n",
              "      <td>107.0</td>\n",
              "      <td>4.0</td>\n",
              "      <td>1268793.0</td>\n",
              "    </tr>\n",
              "    <tr>\n",
              "      <th>10916</th>\n",
              "      <td>63898.0</td>\n",
              "      <td>30788.0</td>\n",
              "      <td>0.0</td>\n",
              "      <td>0.0</td>\n",
              "      <td>2869.0</td>\n",
              "      <td>40325.0</td>\n",
              "      <td>106.000000</td>\n",
              "      <td>3783.449227</td>\n",
              "      <td>36.000000</td>\n",
              "      <td>68.0</td>\n",
              "      <td>13984.0</td>\n",
              "      <td>5000000.0</td>\n",
              "      <td>0.039793</td>\n",
              "      <td>1.0</td>\n",
              "      <td>1.0</td>\n",
              "      <td>91.0</td>\n",
              "      <td>4.0</td>\n",
              "      <td>1413000.0</td>\n",
              "    </tr>\n",
              "  </tbody>\n",
              "</table>\n",
              "</div>"
            ],
            "text/plain": [
              "             id  imdb_id  adult  ...  runtime  status    revenue\n",
              "10912  293654.0  42528.0    0.0  ...     89.0     4.0        0.0\n",
              "10913  100152.0  26024.0    0.0  ...    100.0     4.0        0.0\n",
              "10914   62757.0  29580.0    0.0  ...    100.0     4.0  1328612.0\n",
              "10915   63281.0  35472.0    0.0  ...    107.0     4.0  1268793.0\n",
              "10916   63898.0  30788.0    0.0  ...     91.0     4.0  1413000.0\n",
              "\n",
              "[5 rows x 18 columns]"
            ]
          },
          "metadata": {
            "tags": []
          },
          "execution_count": 143
        }
      ]
    },
    {
      "cell_type": "markdown",
      "metadata": {
        "id": "_rG_rvzW3Y_F",
        "colab_type": "text"
      },
      "source": [
        "## Linear Regression"
      ]
    },
    {
      "cell_type": "code",
      "metadata": {
        "id": "Q5yts1HQcniy",
        "colab_type": "code",
        "colab": {}
      },
      "source": [
        "from sklearn.linear_model import LinearRegression"
      ],
      "execution_count": 0,
      "outputs": []
    },
    {
      "cell_type": "code",
      "metadata": {
        "id": "0st77rGQ3XI7",
        "colab_type": "code",
        "outputId": "61034713-4ab5-4264-a13f-a0aa94b30193",
        "colab": {
          "base_uri": "https://localhost:8080/",
          "height": 531
        }
      },
      "source": [
        "def visualize_correlation_matrix(data, hurdle = 0.0):\n",
        "    R = np.corrcoef(data, rowvar=0)\n",
        "    R[np.where(np.abs(R)<hurdle)] = 0.0\n",
        "    heatmap = plt.pcolor(R, cmap=mpl.cm.coolwarm, alpha=0.8)\n",
        "    heatmap.axes.set_frame_on(False)\n",
        "    heatmap.axes.set_yticks(np.arange(R.shape[0]) + 0.5, minor=False)\n",
        "    heatmap.axes.set_xticks(np.arange(R.shape[1]) + 0.5, minor=False)\n",
        "    heatmap.axes.set_xticklabels(data.columns, minor=False)\n",
        "    plt.xticks(rotation=90)\n",
        "    heatmap.axes.set_yticklabels(data.columns, minor=False)\n",
        "    plt.tick_params(axis='True', which='True', bottom='True', top='False', left = 'False', right = 'False')\n",
        "    plt.colorbar()\n",
        "    plt.show()\n",
        "\n",
        "visualize_correlation_matrix(dataset, hurdle=0.5)"
      ],
      "execution_count": 145,
      "outputs": [
        {
          "output_type": "display_data",
          "data": {
            "image/png": "[encoded data removed]",
            "text/plain": [
              "<Figure size 800x400 with 2 Axes>"
            ]
          },
          "metadata": {
            "tags": []
          }
        }
      ]
    },
    {
      "cell_type": "code",
      "metadata": {
        "id": "9hJ6GIYkLtoE",
        "colab_type": "code",
        "outputId": "5ad5bc79-0138-4c58-e455-69178abd0fb8",
        "colab": {
          "base_uri": "https://localhost:8080/",
          "height": 772
        }
      },
      "source": [
        "figs, axes = plt.subplots(2,3,figsize=(15,7))\n",
        "\n",
        "# Plots\n",
        "dataset[['budget','revenue']].plot.scatter(x='budget',y='revenue',ax=axes[0,0])\n",
        "dataset[['vote_count','revenue']].plot.scatter(x='vote_count',y='revenue',ax=axes[0,1])\n",
        "dataset[['popularity','revenue']].plot.scatter(x='popularity',y='revenue',ax=axes[0,2])\n",
        "\n",
        "dataset[['genres','revenue']].plot.scatter(x='genres',y='revenue',ax=axes[1,0])\n",
        "dataset[['production_countries','revenue']].plot.scatter(x='production_countries',y='revenue',ax=axes[1,1])\n",
        "dataset[['runtime','revenue']].plot.scatter(x='runtime',y='revenue',ax=axes[1,2])"
      ],
      "execution_count": 146,
      "outputs": [
        {
          "output_type": "stream",
          "text": [
            "W0615 02:15:00.662376 139704412403584 _axes.py:4217] 'c' argument looks like a single numeric RGB or RGBA sequence, which should be avoided as value-mapping will have precedence in case its length matches with 'x' & 'y'.  Please use a 2-D array with a single row if you really want to specify the same RGB or RGBA value for all points.\n",
            "W0615 02:15:00.713537 139704412403584 _axes.py:4217] 'c' argument looks like a single numeric RGB or RGBA sequence, which should be avoided as value-mapping will have precedence in case its length matches with 'x' & 'y'.  Please use a 2-D array with a single row if you really want to specify the same RGB or RGBA value for all points.\n",
            "W0615 02:15:00.773808 139704412403584 _axes.py:4217] 'c' argument looks like a single numeric RGB or RGBA sequence, which should be avoided as value-mapping will have precedence in case its length matches with 'x' & 'y'.  Please use a 2-D array with a single row if you really want to specify the same RGB or RGBA value for all points.\n",
            "W0615 02:15:00.845985 139704412403584 _axes.py:4217] 'c' argument looks like a single numeric RGB or RGBA sequence, which should be avoided as value-mapping will have precedence in case its length matches with 'x' & 'y'.  Please use a 2-D array with a single row if you really want to specify the same RGB or RGBA value for all points.\n",
            "W0615 02:15:00.906894 139704412403584 _axes.py:4217] 'c' argument looks like a single numeric RGB or RGBA sequence, which should be avoided as value-mapping will have precedence in case its length matches with 'x' & 'y'.  Please use a 2-D array with a single row if you really want to specify the same RGB or RGBA value for all points.\n",
            "W0615 02:15:00.976726 139704412403584 _axes.py:4217] 'c' argument looks like a single numeric RGB or RGBA sequence, which should be avoided as value-mapping will have precedence in case its length matches with 'x' & 'y'.  Please use a 2-D array with a single row if you really want to specify the same RGB or RGBA value for all points.\n"
          ],
          "name": "stderr"
        },
        {
          "output_type": "execute_result",
          "data": {
            "text/plain": [
              "<matplotlib.axes._subplots.AxesSubplot at 0x7f0f1b32b198>"
            ]
          },
          "metadata": {
            "tags": []
          },
          "execution_count": 146
        },
        {
          "output_type": "display_data",
          "data": {
            "image/png": "[encoded data removed]",
            "text/plain": [
              "<Figure size 1500x700 with 6 Axes>"
            ]
          },
          "metadata": {
            "tags": []
          }
        }
      ]
    },
    {
      "cell_type": "markdown",
      "metadata": {
        "id": "NgGIJP2pcbse",
        "colab_type": "text"
      },
      "source": [
        "### **revenue** column as target - 2 variables\n",
        "\n",
        "\n"
      ]
    },
    {
      "cell_type": "code",
      "metadata": {
        "id": "qARHyYOXdFNJ",
        "colab_type": "code",
        "outputId": "c35477ca-fae4-4f42-d656-f49e96b3c236",
        "colab": {
          "base_uri": "https://localhost:8080/",
          "height": 204
        }
      },
      "source": [
        "datasetAux = dataset[['budget','popularity', 'revenue',]]\n",
        "\n",
        "datasetAux.head()"
      ],
      "execution_count": 147,
      "outputs": [
        {
          "output_type": "execute_result",
          "data": {
            "text/html": [
              "<div>\n",
              "<style scoped>\n",
              "    .dataframe tbody tr th:only-of-type {\n",
              "        vertical-align: middle;\n",
              "    }\n",
              "\n",
              "    .dataframe tbody tr th {\n",
              "        vertical-align: top;\n",
              "    }\n",
              "\n",
              "    .dataframe thead th {\n",
              "        text-align: right;\n",
              "    }\n",
              "</style>\n",
              "<table border=\"1\" class=\"dataframe\">\n",
              "  <thead>\n",
              "    <tr style=\"text-align: right;\">\n",
              "      <th></th>\n",
              "      <th>budget</th>\n",
              "      <th>popularity</th>\n",
              "      <th>revenue</th>\n",
              "    </tr>\n",
              "  </thead>\n",
              "  <tbody>\n",
              "    <tr>\n",
              "      <th>0</th>\n",
              "      <td>30000000.0</td>\n",
              "      <td>21.946943</td>\n",
              "      <td>373554033.0</td>\n",
              "    </tr>\n",
              "    <tr>\n",
              "      <th>1</th>\n",
              "      <td>65000000.0</td>\n",
              "      <td>17.015539</td>\n",
              "      <td>262797249.0</td>\n",
              "    </tr>\n",
              "    <tr>\n",
              "      <th>2</th>\n",
              "      <td>16000000.0</td>\n",
              "      <td>3.859495</td>\n",
              "      <td>81452156.0</td>\n",
              "    </tr>\n",
              "    <tr>\n",
              "      <th>3</th>\n",
              "      <td>0.0</td>\n",
              "      <td>8.387519</td>\n",
              "      <td>76578911.0</td>\n",
              "    </tr>\n",
              "    <tr>\n",
              "      <th>4</th>\n",
              "      <td>60000000.0</td>\n",
              "      <td>17.924927</td>\n",
              "      <td>187436818.0</td>\n",
              "    </tr>\n",
              "  </tbody>\n",
              "</table>\n",
              "</div>"
            ],
            "text/plain": [
              "       budget  popularity      revenue\n",
              "0  30000000.0   21.946943  373554033.0\n",
              "1  65000000.0   17.015539  262797249.0\n",
              "2  16000000.0    3.859495   81452156.0\n",
              "3         0.0    8.387519   76578911.0\n",
              "4  60000000.0   17.924927  187436818.0"
            ]
          },
          "metadata": {
            "tags": []
          },
          "execution_count": 147
        }
      ]
    },
    {
      "cell_type": "code",
      "metadata": {
        "id": "xi8aN-L1c7xI",
        "colab_type": "code",
        "outputId": "54766509-9874-47c7-badb-7ff9253d7282",
        "colab": {
          "base_uri": "https://localhost:8080/",
          "height": 470
        }
      },
      "source": [
        "# Model initialize\n",
        "model = LinearRegression()\n",
        "\n",
        "model.fit(datasetAux.iloc[:, 0:2], datasetAux[['revenue']])\n",
        "\n",
        "\n",
        "# Predict Model\n",
        "predict = model.predict(datasetAux.iloc[:, 0:2])\n",
        "\n",
        "sns.set(style=\"whitegrid\")\n",
        "sns.residplot(predict, datasetAux[['revenue']], color=\"y\")\n",
        "\n",
        "\n",
        "# Measure Model Performance\n",
        "mse = mean_squared_error(datasetAux[['revenue']], predict)\n",
        "r2 = r2_score(datasetAux[['revenue']], predict)\n",
        "\n",
        "print(f\"R2: {r2:.3f}\")\n",
        "print(f\"MSE: {mse:.3f}\")\n",
        "print(f\"\\nCoefficients: {model.coef_}\")"
      ],
      "execution_count": 148,
      "outputs": [
        {
          "output_type": "stream",
          "text": [
            "R2: 0.596\n",
            "MSE: 6295283747940620.000\n",
            "\n",
            "Coefficients: [[2.54166971e+00 2.79265021e+06]]\n"
          ],
          "name": "stdout"
        },
        {
          "output_type": "display_data",
          "data": {
            "image/png": "[encoded data removed]",
            "text/plain": [
              "<Figure size 800x400 with 1 Axes>"
            ]
          },
          "metadata": {
            "tags": []
          }
        }
      ]
    },
    {
      "cell_type": "markdown",
      "metadata": {
        "id": "7xNC3V5gemus",
        "colab_type": "text"
      },
      "source": [
        "### **revenue** column as target - All variables"
      ]
    },
    {
      "cell_type": "code",
      "metadata": {
        "id": "4iwmNCRTfYdE",
        "colab_type": "code",
        "outputId": "9dcf0e4c-0d76-45a3-986f-ee5d1d3fe704",
        "colab": {
          "base_uri": "https://localhost:8080/",
          "height": 224
        }
      },
      "source": [
        "datasetAux = dataset.iloc[:, 0:18]\n",
        "\n",
        "datasetAux.head()"
      ],
      "execution_count": 149,
      "outputs": [
        {
          "output_type": "execute_result",
          "data": {
            "text/html": [
              "<div>\n",
              "<style scoped>\n",
              "    .dataframe tbody tr th:only-of-type {\n",
              "        vertical-align: middle;\n",
              "    }\n",
              "\n",
              "    .dataframe tbody tr th {\n",
              "        vertical-align: top;\n",
              "    }\n",
              "\n",
              "    .dataframe thead th {\n",
              "        text-align: right;\n",
              "    }\n",
              "</style>\n",
              "<table border=\"1\" class=\"dataframe\">\n",
              "  <thead>\n",
              "    <tr style=\"text-align: right;\">\n",
              "      <th></th>\n",
              "      <th>id</th>\n",
              "      <th>imdb_id</th>\n",
              "      <th>adult</th>\n",
              "      <th>genres</th>\n",
              "      <th>title</th>\n",
              "      <th>original_title</th>\n",
              "      <th>production_countries</th>\n",
              "      <th>production_companies</th>\n",
              "      <th>spoken_languages</th>\n",
              "      <th>original_language</th>\n",
              "      <th>release_date</th>\n",
              "      <th>budget</th>\n",
              "      <th>popularity</th>\n",
              "      <th>vote_count</th>\n",
              "      <th>vote_average</th>\n",
              "      <th>runtime</th>\n",
              "      <th>status</th>\n",
              "      <th>revenue</th>\n",
              "    </tr>\n",
              "  </thead>\n",
              "  <tbody>\n",
              "    <tr>\n",
              "      <th>0</th>\n",
              "      <td>862.0</td>\n",
              "      <td>17052.0</td>\n",
              "      <td>0.0</td>\n",
              "      <td>2.0</td>\n",
              "      <td>39018.0</td>\n",
              "      <td>36902.0</td>\n",
              "      <td>135.0</td>\n",
              "      <td>7296.0</td>\n",
              "      <td>15.0</td>\n",
              "      <td>20.0</td>\n",
              "      <td>10677.0</td>\n",
              "      <td>30000000.0</td>\n",
              "      <td>21.946943</td>\n",
              "      <td>5415.0</td>\n",
              "      <td>7.7</td>\n",
              "      <td>81.0</td>\n",
              "      <td>4.0</td>\n",
              "      <td>373554033.0</td>\n",
              "    </tr>\n",
              "    <tr>\n",
              "      <th>1</th>\n",
              "      <td>8844.0</td>\n",
              "      <td>16812.0</td>\n",
              "      <td>0.0</td>\n",
              "      <td>1.0</td>\n",
              "      <td>16806.0</td>\n",
              "      <td>16241.0</td>\n",
              "      <td>135.0</td>\n",
              "      <td>9561.0</td>\n",
              "      <td>15.0</td>\n",
              "      <td>20.0</td>\n",
              "      <td>10708.0</td>\n",
              "      <td>65000000.0</td>\n",
              "      <td>17.015539</td>\n",
              "      <td>2413.0</td>\n",
              "      <td>6.9</td>\n",
              "      <td>104.0</td>\n",
              "      <td>4.0</td>\n",
              "      <td>262797249.0</td>\n",
              "    </tr>\n",
              "    <tr>\n",
              "      <th>2</th>\n",
              "      <td>31357.0</td>\n",
              "      <td>17082.0</td>\n",
              "      <td>0.0</td>\n",
              "      <td>3.0</td>\n",
              "      <td>40428.0</td>\n",
              "      <td>38527.0</td>\n",
              "      <td>135.0</td>\n",
              "      <td>9640.0</td>\n",
              "      <td>15.0</td>\n",
              "      <td>20.0</td>\n",
              "      <td>10713.0</td>\n",
              "      <td>16000000.0</td>\n",
              "      <td>3.859495</td>\n",
              "      <td>34.0</td>\n",
              "      <td>6.1</td>\n",
              "      <td>127.0</td>\n",
              "      <td>4.0</td>\n",
              "      <td>81452156.0</td>\n",
              "    </tr>\n",
              "    <tr>\n",
              "      <th>3</th>\n",
              "      <td>11862.0</td>\n",
              "      <td>16703.0</td>\n",
              "      <td>0.0</td>\n",
              "      <td>3.0</td>\n",
              "      <td>11199.0</td>\n",
              "      <td>10835.0</td>\n",
              "      <td>135.0</td>\n",
              "      <td>8201.0</td>\n",
              "      <td>15.0</td>\n",
              "      <td>20.0</td>\n",
              "      <td>10509.0</td>\n",
              "      <td>0.0</td>\n",
              "      <td>8.387519</td>\n",
              "      <td>173.0</td>\n",
              "      <td>5.7</td>\n",
              "      <td>106.0</td>\n",
              "      <td>4.0</td>\n",
              "      <td>76578911.0</td>\n",
              "    </tr>\n",
              "    <tr>\n",
              "      <th>4</th>\n",
              "      <td>949.0</td>\n",
              "      <td>16769.0</td>\n",
              "      <td>0.0</td>\n",
              "      <td>0.0</td>\n",
              "      <td>13962.0</td>\n",
              "      <td>13372.0</td>\n",
              "      <td>135.0</td>\n",
              "      <td>7826.0</td>\n",
              "      <td>15.0</td>\n",
              "      <td>20.0</td>\n",
              "      <td>10708.0</td>\n",
              "      <td>60000000.0</td>\n",
              "      <td>17.924927</td>\n",
              "      <td>1886.0</td>\n",
              "      <td>7.7</td>\n",
              "      <td>170.0</td>\n",
              "      <td>4.0</td>\n",
              "      <td>187436818.0</td>\n",
              "    </tr>\n",
              "  </tbody>\n",
              "</table>\n",
              "</div>"
            ],
            "text/plain": [
              "        id  imdb_id  adult  genres  ...  vote_average  runtime  status      revenue\n",
              "0    862.0  17052.0    0.0     2.0  ...           7.7     81.0     4.0  373554033.0\n",
              "1   8844.0  16812.0    0.0     1.0  ...           6.9    104.0     4.0  262797249.0\n",
              "2  31357.0  17082.0    0.0     3.0  ...           6.1    127.0     4.0   81452156.0\n",
              "3  11862.0  16703.0    0.0     3.0  ...           5.7    106.0     4.0   76578911.0\n",
              "4    949.0  16769.0    0.0     0.0  ...           7.7    170.0     4.0  187436818.0\n",
              "\n",
              "[5 rows x 18 columns]"
            ]
          },
          "metadata": {
            "tags": []
          },
          "execution_count": 149
        }
      ]
    },
    {
      "cell_type": "code",
      "metadata": {
        "id": "a0Kz7Ce1zWu-",
        "colab_type": "code",
        "colab": {
          "base_uri": "https://localhost:8080/",
          "height": 34
        },
        "outputId": "4fd68da3-1192-4030-a5e8-6e7147e1d87b"
      },
      "source": [
        "datasetAux.shape"
      ],
      "execution_count": 150,
      "outputs": [
        {
          "output_type": "execute_result",
          "data": {
            "text/plain": [
              "(10917, 18)"
            ]
          },
          "metadata": {
            "tags": []
          },
          "execution_count": 150
        }
      ]
    },
    {
      "cell_type": "code",
      "metadata": {
        "id": "IBpLvI7eCoOn",
        "colab_type": "code",
        "outputId": "0278cd3c-38ca-416b-aedb-08bd38d578a5",
        "colab": {
          "base_uri": "https://localhost:8080/",
          "height": 538
        }
      },
      "source": [
        "# Model initialize\n",
        "model = LinearRegression()\n",
        "\n",
        "model.fit(datasetAux.iloc[:, 0:17], datasetAux[['revenue']])\n",
        "\n",
        "\n",
        "# Predict Model\n",
        "predict = model.predict(datasetAux.iloc[:, 0:17])\n",
        "\n",
        "sns.set(style=\"whitegrid\")\n",
        "sns.residplot(predict, datasetAux[['revenue']], color=\"b\")\n",
        "\n",
        "\n",
        "# Measure Model Performance\n",
        "mse = mean_squared_error(datasetAux[['revenue']], predict)\n",
        "r2 = r2_score(datasetAux[['revenue']], predict)\n",
        "\n",
        "print(f\"R2: {r2:.3f}\")\n",
        "print(f\"MSE: {mse:.3f}\")\n",
        "print(f\"\\nCoefficients: {model.coef_}\")"
      ],
      "execution_count": 151,
      "outputs": [
        {
          "output_type": "stream",
          "text": [
            "R2: 0.733\n",
            "MSE: 4153937979286417.000\n",
            "\n",
            "Coefficients: [[-6.89022603e+00  1.10049450e+03  1.29302255e+07 -3.14222307e+05\n",
            "  -8.16805450e+01  9.31078012e+01  6.19543538e+04  3.62627510e+02\n",
            "   1.26920779e+05  2.19255132e+05 -4.57253271e+03  1.58235290e+00\n",
            "   8.30743708e+05  6.86679699e+04 -1.94931597e+06 -7.37014544e+04\n",
            "  -1.46364598e+06]]\n"
          ],
          "name": "stdout"
        },
        {
          "output_type": "display_data",
          "data": {
            "image/png": "[encoded data removed]",
            "text/plain": [
              "<Figure size 800x400 with 1 Axes>"
            ]
          },
          "metadata": {
            "tags": []
          }
        }
      ]
    },
    {
      "cell_type": "markdown",
      "metadata": {
        "id": "N5Rxx0r23a-Y",
        "colab_type": "text"
      },
      "source": [
        "## Random Forest\n",
        "\n",
        "\n",
        "> **Documentation definition:** *A random forest is a meta estimator that fits a number of classifying decision trees on various sub-samples of the dataset and uses averaging to improve the predictive accuracy and control over-fitting. The sub-sample size is always the same as the original input sample size but the samples are drawn with replacement if `bootstrap=True` (default).*\n",
        "\n"
      ]
    },
    {
      "cell_type": "code",
      "metadata": {
        "id": "9TqZ8vHc3iUd",
        "colab_type": "code",
        "colab": {}
      },
      "source": [
        "from sklearn.ensemble import RandomForestRegressor"
      ],
      "execution_count": 0,
      "outputs": []
    },
    {
      "cell_type": "code",
      "metadata": {
        "id": "ge05bVR-rggk",
        "colab_type": "code",
        "colab": {
          "base_uri": "https://localhost:8080/",
          "height": 224
        },
        "outputId": "7600e379-f11e-45b7-ee12-c9b613ceac52"
      },
      "source": [
        "datasetAux = dataset.iloc[:, 0:18]\n",
        "\n",
        "datasetAux.head()"
      ],
      "execution_count": 153,
      "outputs": [
        {
          "output_type": "execute_result",
          "data": {
            "text/html": [
              "<div>\n",
              "<style scoped>\n",
              "    .dataframe tbody tr th:only-of-type {\n",
              "        vertical-align: middle;\n",
              "    }\n",
              "\n",
              "    .dataframe tbody tr th {\n",
              "        vertical-align: top;\n",
              "    }\n",
              "\n",
              "    .dataframe thead th {\n",
              "        text-align: right;\n",
              "    }\n",
              "</style>\n",
              "<table border=\"1\" class=\"dataframe\">\n",
              "  <thead>\n",
              "    <tr style=\"text-align: right;\">\n",
              "      <th></th>\n",
              "      <th>id</th>\n",
              "      <th>imdb_id</th>\n",
              "      <th>adult</th>\n",
              "      <th>genres</th>\n",
              "      <th>title</th>\n",
              "      <th>original_title</th>\n",
              "      <th>production_countries</th>\n",
              "      <th>production_companies</th>\n",
              "      <th>spoken_languages</th>\n",
              "      <th>original_language</th>\n",
              "      <th>release_date</th>\n",
              "      <th>budget</th>\n",
              "      <th>popularity</th>\n",
              "      <th>vote_count</th>\n",
              "      <th>vote_average</th>\n",
              "      <th>runtime</th>\n",
              "      <th>status</th>\n",
              "      <th>revenue</th>\n",
              "    </tr>\n",
              "  </thead>\n",
              "  <tbody>\n",
              "    <tr>\n",
              "      <th>0</th>\n",
              "      <td>862.0</td>\n",
              "      <td>17052.0</td>\n",
              "      <td>0.0</td>\n",
              "      <td>2.0</td>\n",
              "      <td>39018.0</td>\n",
              "      <td>36902.0</td>\n",
              "      <td>135.0</td>\n",
              "      <td>7296.0</td>\n",
              "      <td>15.0</td>\n",
              "      <td>20.0</td>\n",
              "      <td>10677.0</td>\n",
              "      <td>30000000.0</td>\n",
              "      <td>21.946943</td>\n",
              "      <td>5415.0</td>\n",
              "      <td>7.7</td>\n",
              "      <td>81.0</td>\n",
              "      <td>4.0</td>\n",
              "      <td>373554033.0</td>\n",
              "    </tr>\n",
              "    <tr>\n",
              "      <th>1</th>\n",
              "      <td>8844.0</td>\n",
              "      <td>16812.0</td>\n",
              "      <td>0.0</td>\n",
              "      <td>1.0</td>\n",
              "      <td>16806.0</td>\n",
              "      <td>16241.0</td>\n",
              "      <td>135.0</td>\n",
              "      <td>9561.0</td>\n",
              "      <td>15.0</td>\n",
              "      <td>20.0</td>\n",
              "      <td>10708.0</td>\n",
              "      <td>65000000.0</td>\n",
              "      <td>17.015539</td>\n",
              "      <td>2413.0</td>\n",
              "      <td>6.9</td>\n",
              "      <td>104.0</td>\n",
              "      <td>4.0</td>\n",
              "      <td>262797249.0</td>\n",
              "    </tr>\n",
              "    <tr>\n",
              "      <th>2</th>\n",
              "      <td>31357.0</td>\n",
              "      <td>17082.0</td>\n",
              "      <td>0.0</td>\n",
              "      <td>3.0</td>\n",
              "      <td>40428.0</td>\n",
              "      <td>38527.0</td>\n",
              "      <td>135.0</td>\n",
              "      <td>9640.0</td>\n",
              "      <td>15.0</td>\n",
              "      <td>20.0</td>\n",
              "      <td>10713.0</td>\n",
              "      <td>16000000.0</td>\n",
              "      <td>3.859495</td>\n",
              "      <td>34.0</td>\n",
              "      <td>6.1</td>\n",
              "      <td>127.0</td>\n",
              "      <td>4.0</td>\n",
              "      <td>81452156.0</td>\n",
              "    </tr>\n",
              "    <tr>\n",
              "      <th>3</th>\n",
              "      <td>11862.0</td>\n",
              "      <td>16703.0</td>\n",
              "      <td>0.0</td>\n",
              "      <td>3.0</td>\n",
              "      <td>11199.0</td>\n",
              "      <td>10835.0</td>\n",
              "      <td>135.0</td>\n",
              "      <td>8201.0</td>\n",
              "      <td>15.0</td>\n",
              "      <td>20.0</td>\n",
              "      <td>10509.0</td>\n",
              "      <td>0.0</td>\n",
              "      <td>8.387519</td>\n",
              "      <td>173.0</td>\n",
              "      <td>5.7</td>\n",
              "      <td>106.0</td>\n",
              "      <td>4.0</td>\n",
              "      <td>76578911.0</td>\n",
              "    </tr>\n",
              "    <tr>\n",
              "      <th>4</th>\n",
              "      <td>949.0</td>\n",
              "      <td>16769.0</td>\n",
              "      <td>0.0</td>\n",
              "      <td>0.0</td>\n",
              "      <td>13962.0</td>\n",
              "      <td>13372.0</td>\n",
              "      <td>135.0</td>\n",
              "      <td>7826.0</td>\n",
              "      <td>15.0</td>\n",
              "      <td>20.0</td>\n",
              "      <td>10708.0</td>\n",
              "      <td>60000000.0</td>\n",
              "      <td>17.924927</td>\n",
              "      <td>1886.0</td>\n",
              "      <td>7.7</td>\n",
              "      <td>170.0</td>\n",
              "      <td>4.0</td>\n",
              "      <td>187436818.0</td>\n",
              "    </tr>\n",
              "  </tbody>\n",
              "</table>\n",
              "</div>"
            ],
            "text/plain": [
              "        id  imdb_id  adult  genres  ...  vote_average  runtime  status      revenue\n",
              "0    862.0  17052.0    0.0     2.0  ...           7.7     81.0     4.0  373554033.0\n",
              "1   8844.0  16812.0    0.0     1.0  ...           6.9    104.0     4.0  262797249.0\n",
              "2  31357.0  17082.0    0.0     3.0  ...           6.1    127.0     4.0   81452156.0\n",
              "3  11862.0  16703.0    0.0     3.0  ...           5.7    106.0     4.0   76578911.0\n",
              "4    949.0  16769.0    0.0     0.0  ...           7.7    170.0     4.0  187436818.0\n",
              "\n",
              "[5 rows x 18 columns]"
            ]
          },
          "metadata": {
            "tags": []
          },
          "execution_count": 153
        }
      ]
    },
    {
      "cell_type": "markdown",
      "metadata": {
        "id": "fq4WZKIHQSs5",
        "colab_type": "text"
      },
      "source": [
        "### Default hyperparameters"
      ]
    },
    {
      "cell_type": "code",
      "metadata": {
        "id": "py9TW4jzruq3",
        "colab_type": "code",
        "colab": {
          "base_uri": "https://localhost:8080/",
          "height": 136
        },
        "outputId": "9c712c2d-0e22-4d03-ff90-eb5d4bd8c0b5"
      },
      "source": [
        "rcParams['figure.figsize'] = (20, 8)\n",
        "\n",
        "# Model initialize\n",
        "regr = RandomForestRegressor()\n",
        "regr.fit(datasetAux.iloc[:, 0:17].values, datasetAux[['revenue']].values.reshape(datasetAux[['revenue']].shape[0],))"
      ],
      "execution_count": 154,
      "outputs": [
        {
          "output_type": "execute_result",
          "data": {
            "text/plain": [
              "RandomForestRegressor(bootstrap=True, criterion='mse', max_depth=None,\n",
              "                      max_features='auto', max_leaf_nodes=None,\n",
              "                      min_impurity_decrease=0.0, min_impurity_split=None,\n",
              "                      min_samples_leaf=1, min_samples_split=2,\n",
              "                      min_weight_fraction_leaf=0.0, n_estimators=10,\n",
              "                      n_jobs=None, oob_score=False, random_state=None,\n",
              "                      verbose=0, warm_start=False)"
            ]
          },
          "metadata": {
            "tags": []
          },
          "execution_count": 154
        }
      ]
    },
    {
      "cell_type": "code",
      "metadata": {
        "id": "879mDoUFQu9Y",
        "colab_type": "code",
        "colab": {
          "base_uri": "https://localhost:8080/",
          "height": 982
        },
        "outputId": "63f52cff-9269-4106-c829-6f5993ea9718"
      },
      "source": [
        "# Find out what features have most impact on revenue\n",
        "plt.bar(np.arange(1, 18), regr.feature_importances_)\n",
        "plt.xticks(np.arange(1, 18), datasetAux.columns)"
      ],
      "execution_count": 155,
      "outputs": [
        {
          "output_type": "execute_result",
          "data": {
            "text/plain": [
              "([<matplotlib.axis.XTick at 0x7f0f232c66d8>,\n",
              "  <matplotlib.axis.XTick at 0x7f0f170284e0>,\n",
              "  <matplotlib.axis.XTick at 0x7f0f16f0ec18>,\n",
              "  <matplotlib.axis.XTick at 0x7f0f16fc4d30>,\n",
              "  <matplotlib.axis.XTick at 0x7f0f16fd0240>,\n",
              "  <matplotlib.axis.XTick at 0x7f0f16fd06d8>,\n",
              "  <matplotlib.axis.XTick at 0x7f0f16fd0ba8>,\n",
              "  <matplotlib.axis.XTick at 0x7f0f16fd0518>,\n",
              "  <matplotlib.axis.XTick at 0x7f0f16fd0828>,\n",
              "  <matplotlib.axis.XTick at 0x7f0f16fc4f28>,\n",
              "  <matplotlib.axis.XTick at 0x7f0f16fd7048>,\n",
              "  <matplotlib.axis.XTick at 0x7f0f16fd7d68>,\n",
              "  <matplotlib.axis.XTick at 0x7f0f16fde278>,\n",
              "  <matplotlib.axis.XTick at 0x7f0f16fde780>,\n",
              "  <matplotlib.axis.XTick at 0x7f0f16fdec88>,\n",
              "  <matplotlib.axis.XTick at 0x7f0f16fe7208>,\n",
              "  <matplotlib.axis.XTick at 0x7f0f16fe76d8>],\n",
              " <a list of 17 Text xticklabel objects>)"
            ]
          },
          "metadata": {
            "tags": []
          },
          "execution_count": 155
        },
        {
          "output_type": "display_data",
          "data": {
            "image/png": "[encoded data removed]",
            "text/plain": [
              "<Figure size 2000x800 with 1 Axes>"
            ]
          },
          "metadata": {
            "tags": []
          }
        }
      ]
    },
    {
      "cell_type": "code",
      "metadata": {
        "id": "IU_Qq58Xr-AB",
        "colab_type": "code",
        "colab": {
          "base_uri": "https://localhost:8080/",
          "height": 538
        },
        "outputId": "fcdff299-977c-4464-f576-8b07ab7e4c5d"
      },
      "source": [
        "rcParams['figure.figsize'] = (8, 4)\n",
        "\n",
        "# Predict Model\n",
        "predict = regr.predict(datasetAux.iloc[:, 0:17])\n",
        "\n",
        "sns.set(style=\"whitegrid\")\n",
        "sns.residplot(predict, datasetAux[['revenue']], color=\"c\")\n",
        "\n",
        "\n",
        "# Measure Model Performance\n",
        "mse = mean_squared_error(datasetAux[['revenue']], predict)\n",
        "r2 = r2_score(datasetAux[['revenue']], predict)\n",
        "\n",
        "print(f\"R2: {r2:.3f}\")\n",
        "print(f\"MSE: {mse:.3f}\")\n",
        "print(f\"\\nCoefficients: {model.coef_}\")"
      ],
      "execution_count": 156,
      "outputs": [
        {
          "output_type": "stream",
          "text": [
            "R2: 0.960\n",
            "MSE: 615962517418463.125\n",
            "\n",
            "Coefficients: [[-6.89022603e+00  1.10049450e+03  1.29302255e+07 -3.14222307e+05\n",
            "  -8.16805450e+01  9.31078012e+01  6.19543538e+04  3.62627510e+02\n",
            "   1.26920779e+05  2.19255132e+05 -4.57253271e+03  1.58235290e+00\n",
            "   8.30743708e+05  6.86679699e+04 -1.94931597e+06 -7.37014544e+04\n",
            "  -1.46364598e+06]]\n"
          ],
          "name": "stdout"
        },
        {
          "output_type": "display_data",
          "data": {
            "image/png": "[encoded data removed]",
            "text/plain": [
              "<Figure size 800x400 with 1 Axes>"
            ]
          },
          "metadata": {
            "tags": []
          }
        }
      ]
    },
    {
      "cell_type": "markdown",
      "metadata": {
        "id": "VDmqLoe9OlRh",
        "colab_type": "text"
      },
      "source": [
        "### Manipulate its hyperparameters -- better outcome performance!"
      ]
    },
    {
      "cell_type": "code",
      "metadata": {
        "id": "Hla6IA2rO045",
        "colab_type": "code",
        "colab": {
          "base_uri": "https://localhost:8080/",
          "height": 136
        },
        "outputId": "1bc78aed-5ee7-4a47-deec-9cd4d09b7e50"
      },
      "source": [
        "rcParams['figure.figsize'] = (20, 8)\n",
        "\n",
        "# Model initialize with different hyperparameters\n",
        "regr = RandomForestRegressor(max_depth=20, max_features=10, n_estimators=60)\n",
        "regr.fit(datasetAux.iloc[:, 0:17].values, datasetAux[['revenue']].values.reshape(datasetAux[['revenue']].shape[0],))"
      ],
      "execution_count": 157,
      "outputs": [
        {
          "output_type": "execute_result",
          "data": {
            "text/plain": [
              "RandomForestRegressor(bootstrap=True, criterion='mse', max_depth=20,\n",
              "                      max_features=10, max_leaf_nodes=None,\n",
              "                      min_impurity_decrease=0.0, min_impurity_split=None,\n",
              "                      min_samples_leaf=1, min_samples_split=2,\n",
              "                      min_weight_fraction_leaf=0.0, n_estimators=60,\n",
              "                      n_jobs=None, oob_score=False, random_state=None,\n",
              "                      verbose=0, warm_start=False)"
            ]
          },
          "metadata": {
            "tags": []
          },
          "execution_count": 157
        }
      ]
    },
    {
      "cell_type": "code",
      "metadata": {
        "id": "WoTVSltWQ08d",
        "colab_type": "code",
        "colab": {
          "base_uri": "https://localhost:8080/",
          "height": 982
        },
        "outputId": "7839dd1f-fe06-46d6-f2b4-855d696fc870"
      },
      "source": [
        "# Find out what features have most impact on revenue\n",
        "plt.bar(np.arange(1, 18), regr.feature_importances_)\n",
        "plt.xticks(np.arange(1, 18), datasetAux.columns)"
      ],
      "execution_count": 158,
      "outputs": [
        {
          "output_type": "execute_result",
          "data": {
            "text/plain": [
              "([<matplotlib.axis.XTick at 0x7f0f16f5fac8>,\n",
              "  <matplotlib.axis.XTick at 0x7f0f16f82d68>,\n",
              "  <matplotlib.axis.XTick at 0x7f0f16f82390>,\n",
              "  <matplotlib.axis.XTick at 0x7f0f16ecf6a0>,\n",
              "  <matplotlib.axis.XTick at 0x7f0f16e78630>,\n",
              "  <matplotlib.axis.XTick at 0x7f0f16e78b00>,\n",
              "  <matplotlib.axis.XTick at 0x7f0f16e78e48>,\n",
              "  <matplotlib.axis.XTick at 0x7f0f16e7e550>,\n",
              "  <matplotlib.axis.XTick at 0x7f0f16e7ea58>,\n",
              "  <matplotlib.axis.XTick at 0x7f0f16e7ef60>,\n",
              "  <matplotlib.axis.XTick at 0x7f0f16e7e048>,\n",
              "  <matplotlib.axis.XTick at 0x7f0f16e78f98>,\n",
              "  <matplotlib.axis.XTick at 0x7f0f16e856d8>,\n",
              "  <matplotlib.axis.XTick at 0x7f0f16e85be0>,\n",
              "  <matplotlib.axis.XTick at 0x7f0f16e850f0>,\n",
              "  <matplotlib.axis.XTick at 0x7f0f16e8e630>,\n",
              "  <matplotlib.axis.XTick at 0x7f0f16e8eb38>],\n",
              " <a list of 17 Text xticklabel objects>)"
            ]
          },
          "metadata": {
            "tags": []
          },
          "execution_count": 158
        },
        {
          "output_type": "display_data",
          "data": {
            "image/png": "[encoded data removed]",
            "text/plain": [
              "<Figure size 2000x800 with 1 Axes>"
            ]
          },
          "metadata": {
            "tags": []
          }
        }
      ]
    },
    {
      "cell_type": "code",
      "metadata": {
        "id": "yUiv1d-UOrRb",
        "colab_type": "code",
        "colab": {
          "base_uri": "https://localhost:8080/",
          "height": 538
        },
        "outputId": "1e4bacd0-845b-4656-faa9-fb6a2c494a70"
      },
      "source": [
        "rcParams['figure.figsize'] = (8, 4)\n",
        "\n",
        "# Predict Model\n",
        "predict = regr.predict(datasetAux.iloc[:, 0:17])\n",
        "\n",
        "sns.set(style=\"whitegrid\")\n",
        "sns.residplot(predict, datasetAux[['revenue']], color=\"#0033cc\")\n",
        "\n",
        "\n",
        "# Measure Model Performance\n",
        "mse = mean_squared_error(datasetAux[['revenue']], predict)\n",
        "r2 = r2_score(datasetAux[['revenue']], predict)\n",
        "\n",
        "print(f\"R2: {r2:.3f}\")\n",
        "print(f\"MSE: {mse:.3f}\")\n",
        "print(f\"\\nCoefficients: {model.coef_}\")"
      ],
      "execution_count": 159,
      "outputs": [
        {
          "output_type": "stream",
          "text": [
            "R2: 0.969\n",
            "MSE: 477735127752876.312\n",
            "\n",
            "Coefficients: [[-6.89022603e+00  1.10049450e+03  1.29302255e+07 -3.14222307e+05\n",
            "  -8.16805450e+01  9.31078012e+01  6.19543538e+04  3.62627510e+02\n",
            "   1.26920779e+05  2.19255132e+05 -4.57253271e+03  1.58235290e+00\n",
            "   8.30743708e+05  6.86679699e+04 -1.94931597e+06 -7.37014544e+04\n",
            "  -1.46364598e+06]]\n"
          ],
          "name": "stdout"
        },
        {
          "output_type": "display_data",
          "data": {
            "image/png": "[encoded data removed]",
            "text/plain": [
              "<Figure size 800x400 with 1 Axes>"
            ]
          },
          "metadata": {
            "tags": []
          }
        }
      ]
    },
    {
      "cell_type": "markdown",
      "metadata": {
        "id": "5zHiPsAm3zu5",
        "colab_type": "text"
      },
      "source": [
        "## Gradient Boosting Regressor\n",
        "\n",
        "\n",
        "> **Documentation definition:** *Gradient Boosting builds an additive model in a forward stage-wise fashion; it allows for the optimization of arbitrary differentiable loss functions. In each stage a regression tree is fit on the negative gradient of the given loss function.*\n",
        "\n"
      ]
    },
    {
      "cell_type": "code",
      "metadata": {
        "id": "SiToiqNH31KF",
        "colab_type": "code",
        "colab": {}
      },
      "source": [
        "from sklearn.ensemble import GradientBoostingRegressor"
      ],
      "execution_count": 0,
      "outputs": []
    },
    {
      "cell_type": "code",
      "metadata": {
        "id": "XySPx8qNQ9Kr",
        "colab_type": "code",
        "colab": {
          "base_uri": "https://localhost:8080/",
          "height": 224
        },
        "outputId": "19838aea-181a-4ce8-c641-2eb252bbf518"
      },
      "source": [
        "datasetAux = dataset.iloc[:, 0:18]\n",
        "\n",
        "datasetAux.head()"
      ],
      "execution_count": 161,
      "outputs": [
        {
          "output_type": "execute_result",
          "data": {
            "text/html": [
              "<div>\n",
              "<style scoped>\n",
              "    .dataframe tbody tr th:only-of-type {\n",
              "        vertical-align: middle;\n",
              "    }\n",
              "\n",
              "    .dataframe tbody tr th {\n",
              "        vertical-align: top;\n",
              "    }\n",
              "\n",
              "    .dataframe thead th {\n",
              "        text-align: right;\n",
              "    }\n",
              "</style>\n",
              "<table border=\"1\" class=\"dataframe\">\n",
              "  <thead>\n",
              "    <tr style=\"text-align: right;\">\n",
              "      <th></th>\n",
              "      <th>id</th>\n",
              "      <th>imdb_id</th>\n",
              "      <th>adult</th>\n",
              "      <th>genres</th>\n",
              "      <th>title</th>\n",
              "      <th>original_title</th>\n",
              "      <th>production_countries</th>\n",
              "      <th>production_companies</th>\n",
              "      <th>spoken_languages</th>\n",
              "      <th>original_language</th>\n",
              "      <th>release_date</th>\n",
              "      <th>budget</th>\n",
              "      <th>popularity</th>\n",
              "      <th>vote_count</th>\n",
              "      <th>vote_average</th>\n",
              "      <th>runtime</th>\n",
              "      <th>status</th>\n",
              "      <th>revenue</th>\n",
              "    </tr>\n",
              "  </thead>\n",
              "  <tbody>\n",
              "    <tr>\n",
              "      <th>0</th>\n",
              "      <td>862.0</td>\n",
              "      <td>17052.0</td>\n",
              "      <td>0.0</td>\n",
              "      <td>2.0</td>\n",
              "      <td>39018.0</td>\n",
              "      <td>36902.0</td>\n",
              "      <td>135.0</td>\n",
              "      <td>7296.0</td>\n",
              "      <td>15.0</td>\n",
              "      <td>20.0</td>\n",
              "      <td>10677.0</td>\n",
              "      <td>30000000.0</td>\n",
              "      <td>21.946943</td>\n",
              "      <td>5415.0</td>\n",
              "      <td>7.7</td>\n",
              "      <td>81.0</td>\n",
              "      <td>4.0</td>\n",
              "      <td>373554033.0</td>\n",
              "    </tr>\n",
              "    <tr>\n",
              "      <th>1</th>\n",
              "      <td>8844.0</td>\n",
              "      <td>16812.0</td>\n",
              "      <td>0.0</td>\n",
              "      <td>1.0</td>\n",
              "      <td>16806.0</td>\n",
              "      <td>16241.0</td>\n",
              "      <td>135.0</td>\n",
              "      <td>9561.0</td>\n",
              "      <td>15.0</td>\n",
              "      <td>20.0</td>\n",
              "      <td>10708.0</td>\n",
              "      <td>65000000.0</td>\n",
              "      <td>17.015539</td>\n",
              "      <td>2413.0</td>\n",
              "      <td>6.9</td>\n",
              "      <td>104.0</td>\n",
              "      <td>4.0</td>\n",
              "      <td>262797249.0</td>\n",
              "    </tr>\n",
              "    <tr>\n",
              "      <th>2</th>\n",
              "      <td>31357.0</td>\n",
              "      <td>17082.0</td>\n",
              "      <td>0.0</td>\n",
              "      <td>3.0</td>\n",
              "      <td>40428.0</td>\n",
              "      <td>38527.0</td>\n",
              "      <td>135.0</td>\n",
              "      <td>9640.0</td>\n",
              "      <td>15.0</td>\n",
              "      <td>20.0</td>\n",
              "      <td>10713.0</td>\n",
              "      <td>16000000.0</td>\n",
              "      <td>3.859495</td>\n",
              "      <td>34.0</td>\n",
              "      <td>6.1</td>\n",
              "      <td>127.0</td>\n",
              "      <td>4.0</td>\n",
              "      <td>81452156.0</td>\n",
              "    </tr>\n",
              "    <tr>\n",
              "      <th>3</th>\n",
              "      <td>11862.0</td>\n",
              "      <td>16703.0</td>\n",
              "      <td>0.0</td>\n",
              "      <td>3.0</td>\n",
              "      <td>11199.0</td>\n",
              "      <td>10835.0</td>\n",
              "      <td>135.0</td>\n",
              "      <td>8201.0</td>\n",
              "      <td>15.0</td>\n",
              "      <td>20.0</td>\n",
              "      <td>10509.0</td>\n",
              "      <td>0.0</td>\n",
              "      <td>8.387519</td>\n",
              "      <td>173.0</td>\n",
              "      <td>5.7</td>\n",
              "      <td>106.0</td>\n",
              "      <td>4.0</td>\n",
              "      <td>76578911.0</td>\n",
              "    </tr>\n",
              "    <tr>\n",
              "      <th>4</th>\n",
              "      <td>949.0</td>\n",
              "      <td>16769.0</td>\n",
              "      <td>0.0</td>\n",
              "      <td>0.0</td>\n",
              "      <td>13962.0</td>\n",
              "      <td>13372.0</td>\n",
              "      <td>135.0</td>\n",
              "      <td>7826.0</td>\n",
              "      <td>15.0</td>\n",
              "      <td>20.0</td>\n",
              "      <td>10708.0</td>\n",
              "      <td>60000000.0</td>\n",
              "      <td>17.924927</td>\n",
              "      <td>1886.0</td>\n",
              "      <td>7.7</td>\n",
              "      <td>170.0</td>\n",
              "      <td>4.0</td>\n",
              "      <td>187436818.0</td>\n",
              "    </tr>\n",
              "  </tbody>\n",
              "</table>\n",
              "</div>"
            ],
            "text/plain": [
              "        id  imdb_id  adult  genres  ...  vote_average  runtime  status      revenue\n",
              "0    862.0  17052.0    0.0     2.0  ...           7.7     81.0     4.0  373554033.0\n",
              "1   8844.0  16812.0    0.0     1.0  ...           6.9    104.0     4.0  262797249.0\n",
              "2  31357.0  17082.0    0.0     3.0  ...           6.1    127.0     4.0   81452156.0\n",
              "3  11862.0  16703.0    0.0     3.0  ...           5.7    106.0     4.0   76578911.0\n",
              "4    949.0  16769.0    0.0     0.0  ...           7.7    170.0     4.0  187436818.0\n",
              "\n",
              "[5 rows x 18 columns]"
            ]
          },
          "metadata": {
            "tags": []
          },
          "execution_count": 161
        }
      ]
    },
    {
      "cell_type": "markdown",
      "metadata": {
        "id": "4rKxkw8-QYyK",
        "colab_type": "text"
      },
      "source": [
        "### Default hyperparameters"
      ]
    },
    {
      "cell_type": "code",
      "metadata": {
        "id": "ZYdHm81w359N",
        "colab_type": "code",
        "colab": {
          "base_uri": "https://localhost:8080/",
          "height": 170
        },
        "outputId": "490789d7-911d-4df1-b0a4-7e391dc90bf2"
      },
      "source": [
        "# Model initialize\n",
        "regr = GradientBoostingRegressor()\n",
        "regr.fit(datasetAux.iloc[:, 0:17].values, datasetAux[['revenue']].values.reshape(datasetAux[['revenue']].shape[0],))\n"
      ],
      "execution_count": 162,
      "outputs": [
        {
          "output_type": "execute_result",
          "data": {
            "text/plain": [
              "GradientBoostingRegressor(alpha=0.9, criterion='friedman_mse', init=None,\n",
              "                          learning_rate=0.1, loss='ls', max_depth=3,\n",
              "                          max_features=None, max_leaf_nodes=None,\n",
              "                          min_impurity_decrease=0.0, min_impurity_split=None,\n",
              "                          min_samples_leaf=1, min_samples_split=2,\n",
              "                          min_weight_fraction_leaf=0.0, n_estimators=100,\n",
              "                          n_iter_no_change=None, presort='auto',\n",
              "                          random_state=None, subsample=1.0, tol=0.0001,\n",
              "                          validation_fraction=0.1, verbose=0, warm_start=False)"
            ]
          },
          "metadata": {
            "tags": []
          },
          "execution_count": 162
        }
      ]
    },
    {
      "cell_type": "code",
      "metadata": {
        "id": "9m36gZ2O4EUP",
        "colab_type": "code",
        "colab": {
          "base_uri": "https://localhost:8080/",
          "height": 538
        },
        "outputId": "f53fbe12-da7d-4820-8490-0980d0ec9c1a"
      },
      "source": [
        "# Predict Model\n",
        "predict = regr.predict(datasetAux.iloc[:, 0:17])\n",
        "\n",
        "sns.set(style=\"whitegrid\")\n",
        "sns.residplot(predict, datasetAux[['revenue']], color=\"#ffeb99\")\n",
        "\n",
        "\n",
        "# Measure Model Performance\n",
        "mse = mean_squared_error(datasetAux[['revenue']], predict)\n",
        "r2 = r2_score(datasetAux[['revenue']], predict)\n",
        "\n",
        "print(f\"R2: {r2:.3f}\")\n",
        "print(f\"MSE: {mse:.3f}\")\n",
        "print(f\"\\nCoefficients: {model.coef_}\")"
      ],
      "execution_count": 163,
      "outputs": [
        {
          "output_type": "stream",
          "text": [
            "R2: 0.866\n",
            "MSE: 2094629247476426.250\n",
            "\n",
            "Coefficients: [[-6.89022603e+00  1.10049450e+03  1.29302255e+07 -3.14222307e+05\n",
            "  -8.16805450e+01  9.31078012e+01  6.19543538e+04  3.62627510e+02\n",
            "   1.26920779e+05  2.19255132e+05 -4.57253271e+03  1.58235290e+00\n",
            "   8.30743708e+05  6.86679699e+04 -1.94931597e+06 -7.37014544e+04\n",
            "  -1.46364598e+06]]\n"
          ],
          "name": "stdout"
        },
        {
          "output_type": "display_data",
          "data": {
            "image/png": "[encoded data removed]",
            "text/plain": [
              "<Figure size 800x400 with 1 Axes>"
            ]
          },
          "metadata": {
            "tags": []
          }
        }
      ]
    },
    {
      "cell_type": "markdown",
      "metadata": {
        "id": "3HoePyO5QgQN",
        "colab_type": "text"
      },
      "source": [
        "### Manipulate its hyperparameters -- better outcome performance!"
      ]
    },
    {
      "cell_type": "code",
      "metadata": {
        "id": "typgSu37Qfez",
        "colab_type": "code",
        "colab": {
          "base_uri": "https://localhost:8080/",
          "height": 170
        },
        "outputId": "114cdd6a-f752-4590-8adb-6e5d4c42d9ab"
      },
      "source": [
        "# Model initialize\n",
        "regr = GradientBoostingRegressor(n_estimators=300, max_depth=6, max_features=8)\n",
        "regr.fit(datasetAux.iloc[:, 0:17].values, datasetAux[['revenue']].values.reshape(datasetAux[['revenue']].shape[0],))"
      ],
      "execution_count": 164,
      "outputs": [
        {
          "output_type": "execute_result",
          "data": {
            "text/plain": [
              "GradientBoostingRegressor(alpha=0.9, criterion='friedman_mse', init=None,\n",
              "                          learning_rate=0.1, loss='ls', max_depth=6,\n",
              "                          max_features=8, max_leaf_nodes=None,\n",
              "                          min_impurity_decrease=0.0, min_impurity_split=None,\n",
              "                          min_samples_leaf=1, min_samples_split=2,\n",
              "                          min_weight_fraction_leaf=0.0, n_estimators=300,\n",
              "                          n_iter_no_change=None, presort='auto',\n",
              "                          random_state=None, subsample=1.0, tol=0.0001,\n",
              "                          validation_fraction=0.1, verbose=0, warm_start=False)"
            ]
          },
          "metadata": {
            "tags": []
          },
          "execution_count": 164
        }
      ]
    },
    {
      "cell_type": "code",
      "metadata": {
        "id": "d9qhTJRQRhPH",
        "colab_type": "code",
        "colab": {
          "base_uri": "https://localhost:8080/",
          "height": 538
        },
        "outputId": "6cc0d6a9-78c7-4856-adf5-3060b463fae5"
      },
      "source": [
        "# Predict Model\n",
        "predict = regr.predict(datasetAux.iloc[:, 0:17])\n",
        "\n",
        "sns.set(style=\"whitegrid\")\n",
        "sns.residplot(predict, datasetAux[['revenue']], color=\"#ffcc00\")\n",
        "\n",
        "\n",
        "# Measure Model Performance\n",
        "mse = mean_squared_error(datasetAux[['revenue']], predict)\n",
        "r2 = r2_score(datasetAux[['revenue']], predict)\n",
        "\n",
        "print(f\"R2: {r2:.3f}\")\n",
        "print(f\"MSE: {mse:.3f}\")\n",
        "print(f\"\\nCoefficients: {model.coef_}\")"
      ],
      "execution_count": 165,
      "outputs": [
        {
          "output_type": "stream",
          "text": [
            "R2: 0.987\n",
            "MSE: 209942456157011.094\n",
            "\n",
            "Coefficients: [[-6.89022603e+00  1.10049450e+03  1.29302255e+07 -3.14222307e+05\n",
            "  -8.16805450e+01  9.31078012e+01  6.19543538e+04  3.62627510e+02\n",
            "   1.26920779e+05  2.19255132e+05 -4.57253271e+03  1.58235290e+00\n",
            "   8.30743708e+05  6.86679699e+04 -1.94931597e+06 -7.37014544e+04\n",
            "  -1.46364598e+06]]\n"
          ],
          "name": "stdout"
        },
        {
          "output_type": "display_data",
          "data": {
            "image/png": "[encoded data removed]",
            "text/plain": [
              "<Figure size 800x400 with 1 Axes>"
            ]
          },
          "metadata": {
            "tags": []
          }
        }
      ]
    },
    {
      "cell_type": "markdown",
      "metadata": {
        "id": "jGasRJULSi1e",
        "colab_type": "text"
      },
      "source": [
        "## Hist Gradient Boosting Regressor\n",
        "\n",
        "\n",
        "> **Documentation definition:** *This estimator is much faster than GradientBoostingRegressor for big datasets (n_samples >= 10 000). The input data X is pre-binned into integer-valued bins, which considerably reduces the number of splitting points to consider, and allows the algorithm to leverage integer-based data structures. For small sample sizes, GradientBoostingRegressor might be preferred since binning may lead to split points that are too approximate in this setting.*\n",
        "\n"
      ]
    },
    {
      "cell_type": "code",
      "metadata": {
        "id": "1-TOUsvFTA2s",
        "colab_type": "code",
        "colab": {}
      },
      "source": [
        "from sklearn.experimental import enable_hist_gradient_boosting  # noqa\n",
        "from sklearn.ensemble import HistGradientBoostingRegressor"
      ],
      "execution_count": 0,
      "outputs": []
    },
    {
      "cell_type": "code",
      "metadata": {
        "id": "IARKJ7_ZzF3a",
        "colab_type": "code",
        "colab": {
          "base_uri": "https://localhost:8080/",
          "height": 224
        },
        "outputId": "19ef5861-1a63-4882-b877-8354940b2114"
      },
      "source": [
        "datasetAux = dataset.iloc[:, 0:18]\n",
        "\n",
        "datasetAux.head()"
      ],
      "execution_count": 167,
      "outputs": [
        {
          "output_type": "execute_result",
          "data": {
            "text/html": [
              "<div>\n",
              "<style scoped>\n",
              "    .dataframe tbody tr th:only-of-type {\n",
              "        vertical-align: middle;\n",
              "    }\n",
              "\n",
              "    .dataframe tbody tr th {\n",
              "        vertical-align: top;\n",
              "    }\n",
              "\n",
              "    .dataframe thead th {\n",
              "        text-align: right;\n",
              "    }\n",
              "</style>\n",
              "<table border=\"1\" class=\"dataframe\">\n",
              "  <thead>\n",
              "    <tr style=\"text-align: right;\">\n",
              "      <th></th>\n",
              "      <th>id</th>\n",
              "      <th>imdb_id</th>\n",
              "      <th>adult</th>\n",
              "      <th>genres</th>\n",
              "      <th>title</th>\n",
              "      <th>original_title</th>\n",
              "      <th>production_countries</th>\n",
              "      <th>production_companies</th>\n",
              "      <th>spoken_languages</th>\n",
              "      <th>original_language</th>\n",
              "      <th>release_date</th>\n",
              "      <th>budget</th>\n",
              "      <th>popularity</th>\n",
              "      <th>vote_count</th>\n",
              "      <th>vote_average</th>\n",
              "      <th>runtime</th>\n",
              "      <th>status</th>\n",
              "      <th>revenue</th>\n",
              "    </tr>\n",
              "  </thead>\n",
              "  <tbody>\n",
              "    <tr>\n",
              "      <th>0</th>\n",
              "      <td>862.0</td>\n",
              "      <td>17052.0</td>\n",
              "      <td>0.0</td>\n",
              "      <td>2.0</td>\n",
              "      <td>39018.0</td>\n",
              "      <td>36902.0</td>\n",
              "      <td>135.0</td>\n",
              "      <td>7296.0</td>\n",
              "      <td>15.0</td>\n",
              "      <td>20.0</td>\n",
              "      <td>10677.0</td>\n",
              "      <td>30000000.0</td>\n",
              "      <td>21.946943</td>\n",
              "      <td>5415.0</td>\n",
              "      <td>7.7</td>\n",
              "      <td>81.0</td>\n",
              "      <td>4.0</td>\n",
              "      <td>373554033.0</td>\n",
              "    </tr>\n",
              "    <tr>\n",
              "      <th>1</th>\n",
              "      <td>8844.0</td>\n",
              "      <td>16812.0</td>\n",
              "      <td>0.0</td>\n",
              "      <td>1.0</td>\n",
              "      <td>16806.0</td>\n",
              "      <td>16241.0</td>\n",
              "      <td>135.0</td>\n",
              "      <td>9561.0</td>\n",
              "      <td>15.0</td>\n",
              "      <td>20.0</td>\n",
              "      <td>10708.0</td>\n",
              "      <td>65000000.0</td>\n",
              "      <td>17.015539</td>\n",
              "      <td>2413.0</td>\n",
              "      <td>6.9</td>\n",
              "      <td>104.0</td>\n",
              "      <td>4.0</td>\n",
              "      <td>262797249.0</td>\n",
              "    </tr>\n",
              "    <tr>\n",
              "      <th>2</th>\n",
              "      <td>31357.0</td>\n",
              "      <td>17082.0</td>\n",
              "      <td>0.0</td>\n",
              "      <td>3.0</td>\n",
              "      <td>40428.0</td>\n",
              "      <td>38527.0</td>\n",
              "      <td>135.0</td>\n",
              "      <td>9640.0</td>\n",
              "      <td>15.0</td>\n",
              "      <td>20.0</td>\n",
              "      <td>10713.0</td>\n",
              "      <td>16000000.0</td>\n",
              "      <td>3.859495</td>\n",
              "      <td>34.0</td>\n",
              "      <td>6.1</td>\n",
              "      <td>127.0</td>\n",
              "      <td>4.0</td>\n",
              "      <td>81452156.0</td>\n",
              "    </tr>\n",
              "    <tr>\n",
              "      <th>3</th>\n",
              "      <td>11862.0</td>\n",
              "      <td>16703.0</td>\n",
              "      <td>0.0</td>\n",
              "      <td>3.0</td>\n",
              "      <td>11199.0</td>\n",
              "      <td>10835.0</td>\n",
              "      <td>135.0</td>\n",
              "      <td>8201.0</td>\n",
              "      <td>15.0</td>\n",
              "      <td>20.0</td>\n",
              "      <td>10509.0</td>\n",
              "      <td>0.0</td>\n",
              "      <td>8.387519</td>\n",
              "      <td>173.0</td>\n",
              "      <td>5.7</td>\n",
              "      <td>106.0</td>\n",
              "      <td>4.0</td>\n",
              "      <td>76578911.0</td>\n",
              "    </tr>\n",
              "    <tr>\n",
              "      <th>4</th>\n",
              "      <td>949.0</td>\n",
              "      <td>16769.0</td>\n",
              "      <td>0.0</td>\n",
              "      <td>0.0</td>\n",
              "      <td>13962.0</td>\n",
              "      <td>13372.0</td>\n",
              "      <td>135.0</td>\n",
              "      <td>7826.0</td>\n",
              "      <td>15.0</td>\n",
              "      <td>20.0</td>\n",
              "      <td>10708.0</td>\n",
              "      <td>60000000.0</td>\n",
              "      <td>17.924927</td>\n",
              "      <td>1886.0</td>\n",
              "      <td>7.7</td>\n",
              "      <td>170.0</td>\n",
              "      <td>4.0</td>\n",
              "      <td>187436818.0</td>\n",
              "    </tr>\n",
              "  </tbody>\n",
              "</table>\n",
              "</div>"
            ],
            "text/plain": [
              "        id  imdb_id  adult  genres  ...  vote_average  runtime  status      revenue\n",
              "0    862.0  17052.0    0.0     2.0  ...           7.7     81.0     4.0  373554033.0\n",
              "1   8844.0  16812.0    0.0     1.0  ...           6.9    104.0     4.0  262797249.0\n",
              "2  31357.0  17082.0    0.0     3.0  ...           6.1    127.0     4.0   81452156.0\n",
              "3  11862.0  16703.0    0.0     3.0  ...           5.7    106.0     4.0   76578911.0\n",
              "4    949.0  16769.0    0.0     0.0  ...           7.7    170.0     4.0  187436818.0\n",
              "\n",
              "[5 rows x 18 columns]"
            ]
          },
          "metadata": {
            "tags": []
          },
          "execution_count": 167
        }
      ]
    },
    {
      "cell_type": "markdown",
      "metadata": {
        "id": "HYMzgEdNzGXu",
        "colab_type": "text"
      },
      "source": [
        "### Default hyperparameters"
      ]
    },
    {
      "cell_type": "code",
      "metadata": {
        "id": "imY1EClXSlWm",
        "colab_type": "code",
        "colab": {
          "base_uri": "https://localhost:8080/",
          "height": 119
        },
        "outputId": "4948bf53-a155-4b52-9d50-aa3393c1af2b"
      },
      "source": [
        "# Model initialize\n",
        "regr = HistGradientBoostingRegressor()\n",
        "regr.fit(datasetAux.iloc[:, 0:17].values, datasetAux[['revenue']].values.reshape(datasetAux[['revenue']].shape[0],))"
      ],
      "execution_count": 168,
      "outputs": [
        {
          "output_type": "execute_result",
          "data": {
            "text/plain": [
              "HistGradientBoostingRegressor(l2_regularization=0.0, learning_rate=0.1,\n",
              "                              loss='least_squares', max_bins=256,\n",
              "                              max_depth=None, max_iter=100, max_leaf_nodes=31,\n",
              "                              min_samples_leaf=20, n_iter_no_change=None,\n",
              "                              random_state=None, scoring=None, tol=1e-07,\n",
              "                              validation_fraction=0.1, verbose=0)"
            ]
          },
          "metadata": {
            "tags": []
          },
          "execution_count": 168
        }
      ]
    },
    {
      "cell_type": "code",
      "metadata": {
        "id": "Zrj0nZW81SoR",
        "colab_type": "code",
        "colab": {
          "base_uri": "https://localhost:8080/",
          "height": 538
        },
        "outputId": "09519170-e82c-4658-fd07-f4503ae25050"
      },
      "source": [
        "# Predict Model\n",
        "predict = regr.predict(datasetAux.iloc[:, 0:17])\n",
        "\n",
        "sns.set(style=\"whitegrid\")\n",
        "sns.residplot(predict, datasetAux[['revenue']], color=\"#ff944d\")\n",
        "\n",
        "\n",
        "# Measure Model Performance\n",
        "mse = mean_squared_error(datasetAux[['revenue']], predict)\n",
        "r2 = r2_score(datasetAux[['revenue']], predict)\n",
        "\n",
        "print(f\"R2: {r2:.3f}\")\n",
        "print(f\"MSE: {mse:.3f}\")\n",
        "print(f\"\\nCoefficients: {model.coef_}\")"
      ],
      "execution_count": 169,
      "outputs": [
        {
          "output_type": "stream",
          "text": [
            "R2: 0.924\n",
            "MSE: 1187274151083469.500\n",
            "\n",
            "Coefficients: [[-6.89022603e+00  1.10049450e+03  1.29302255e+07 -3.14222307e+05\n",
            "  -8.16805450e+01  9.31078012e+01  6.19543538e+04  3.62627510e+02\n",
            "   1.26920779e+05  2.19255132e+05 -4.57253271e+03  1.58235290e+00\n",
            "   8.30743708e+05  6.86679699e+04 -1.94931597e+06 -7.37014544e+04\n",
            "  -1.46364598e+06]]\n"
          ],
          "name": "stdout"
        },
        {
          "output_type": "display_data",
          "data": {
            "image/png": "[encoded data removed]",
            "text/plain": [
              "<Figure size 800x400 with 1 Axes>"
            ]
          },
          "metadata": {
            "tags": []
          }
        }
      ]
    },
    {
      "cell_type": "markdown",
      "metadata": {
        "id": "D5oRFDYH1KdL",
        "colab_type": "text"
      },
      "source": [
        "### Manipulate its hyperparameters -- better outcome performance!"
      ]
    },
    {
      "cell_type": "code",
      "metadata": {
        "id": "O_4yQSwu1Mod",
        "colab_type": "code",
        "colab": {
          "base_uri": "https://localhost:8080/",
          "height": 119
        },
        "outputId": "07b13c8e-0581-4a07-ea6a-dd928272a306"
      },
      "source": [
        "# Model initialize\n",
        "regr = HistGradientBoostingRegressor(max_iter=200, max_depth=12, min_samples_leaf=10)\n",
        "regr.fit(datasetAux.iloc[:, 0:17].values, datasetAux[['revenue']].values.reshape(datasetAux[['revenue']].shape[0],))"
      ],
      "execution_count": 170,
      "outputs": [
        {
          "output_type": "execute_result",
          "data": {
            "text/plain": [
              "HistGradientBoostingRegressor(l2_regularization=0.0, learning_rate=0.1,\n",
              "                              loss='least_squares', max_bins=256, max_depth=12,\n",
              "                              max_iter=200, max_leaf_nodes=31,\n",
              "                              min_samples_leaf=10, n_iter_no_change=None,\n",
              "                              random_state=None, scoring=None, tol=1e-07,\n",
              "                              validation_fraction=0.1, verbose=0)"
            ]
          },
          "metadata": {
            "tags": []
          },
          "execution_count": 170
        }
      ]
    },
    {
      "cell_type": "code",
      "metadata": {
        "id": "B93zo-AQ2zF2",
        "colab_type": "code",
        "colab": {
          "base_uri": "https://localhost:8080/",
          "height": 538
        },
        "outputId": "c376f92d-d7dd-4af2-b52c-389b4472cb30"
      },
      "source": [
        "# Predict Model\n",
        "predict = regr.predict(datasetAux.iloc[:, 0:17])\n",
        "\n",
        "sns.set(style=\"whitegrid\")\n",
        "sns.residplot(predict, datasetAux[['revenue']], color=\"#ff751a\")\n",
        "\n",
        "\n",
        "# Measure Model Performance\n",
        "mse = mean_squared_error(datasetAux[['revenue']], predict)\n",
        "r2 = r2_score(datasetAux[['revenue']], predict)\n",
        "\n",
        "  print(f\"R2: {r2:.3f}\")\n",
        "print(f\"MSE: {mse:.3f}\")\n",
        "print(f\"\\nCoefficients: {model.coef_}\")"
      ],
      "execution_count": 171,
      "outputs": [
        {
          "output_type": "stream",
          "text": [
            "R2: 0.976\n",
            "MSE: 368803116074367.375\n",
            "\n",
            "Coefficients: [[-6.89022603e+00  1.10049450e+03  1.29302255e+07 -3.14222307e+05\n",
            "  -8.16805450e+01  9.31078012e+01  6.19543538e+04  3.62627510e+02\n",
            "   1.26920779e+05  2.19255132e+05 -4.57253271e+03  1.58235290e+00\n",
            "   8.30743708e+05  6.86679699e+04 -1.94931597e+06 -7.37014544e+04\n",
            "  -1.46364598e+06]]\n"
          ],
          "name": "stdout"
        },
        {
          "output_type": "display_data",
          "data": {
            "image/png": "[encoded data removed]",
            "text/plain": [
              "<Figure size 800x400 with 1 Axes>"
            ]
          },
          "metadata": {
            "tags": []
          }
        }
      ]
    }
  ]
}